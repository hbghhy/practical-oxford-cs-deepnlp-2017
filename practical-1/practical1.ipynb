{
 "cells": [
  {
   "cell_type": "markdown",
   "metadata": {},
   "source": [
    "## Practical 1: word2vec\n",
    "<p>Oxford CS - Deep NLP 2017<br>\n",
    "https://www.cs.ox.ac.uk/teaching/courses/2016-2017/dl/</p>\n",
    "<p>[Yannis Assael, Brendan Shillingford, Chris Dyer]</p>"
   ]
  },
  {
   "cell_type": "markdown",
   "metadata": {},
   "source": [
    "This practical is presented as an IPython Notebook, with the code written for recent versions of **Python 3**. The code in this practical will not work with Python 2 unless you modify it. If you are using your own Python installation, ensure you have a setup identical to that described in the installation shell script (which is intended for use with the department lab machines). We will be unable to support installation on personal machines due to time constraints, so please use the lab machines and the setup script if you are unfamiliar with how to install Anaconda.\n",
    "\n",
    "To execute a notebook cell, press `shift-enter`. The return value of the last command will be displayed, if it is not `None`.\n",
    "\n",
    "Potentially useful library documentation, references, and resources:\n",
    "\n",
    "* IPython notebooks: <https://ipython.org/ipython-doc/3/notebook/notebook.html#introduction>\n",
    "* Numpy numerical array library: <https://docs.scipy.org/doc/>\n",
    "* Gensim's word2vec: <https://radimrehurek.com/gensim/models/word2vec.html>\n",
    "* Bokeh interactive plots: <http://bokeh.pydata.org/en/latest/> (we provide plotting code here, but click the thumbnails for more examples to copy-paste)\n",
    "* scikit-learn ML library (aka `sklearn`): <http://scikit-learn.org/stable/documentation.html>\n",
    "* nltk NLP toolkit: <http://www.nltk.org/>\n",
    "* tutorial for processing xml in python using `lxml`: <http://lxml.de/tutorial.html> (we did this for you below, but in case you need it in the future)"
   ]
  },
  {
   "cell_type": "code",
   "execution_count": 1,
   "metadata": {
    "collapsed": true
   },
   "outputs": [],
   "source": [
    "import numpy as np\n",
    "import os\n",
    "from random import shuffle\n",
    "import re"
   ]
  },
  {
   "cell_type": "code",
   "execution_count": 2,
   "metadata": {},
   "outputs": [
    {
     "data": {
      "text/html": [
       "\n",
       "    <div class=\"bk-root\">\n",
       "        <a href=\"https://bokeh.pydata.org\" target=\"_blank\" class=\"bk-logo bk-logo-small bk-logo-notebook\"></a>\n",
       "        <span id=\"06fea021-0a4e-40cf-ba26-b36767f5c3ea\">Loading BokehJS ...</span>\n",
       "    </div>"
      ]
     },
     "metadata": {},
     "output_type": "execute_result"
    },
    {
     "data": {},
     "metadata": {},
     "output_type": "display_data"
    }
   ],
   "source": [
    "from bokeh.models import ColumnDataSource, LabelSet\n",
    "from bokeh.plotting import figure, show, output_file\n",
    "from bokeh.io import output_notebook\n",
    "output_notebook()"
   ]
  },
  {
   "cell_type": "markdown",
   "metadata": {},
   "source": [
    "### Part 0: Download the TED dataset"
   ]
  },
  {
   "cell_type": "code",
   "execution_count": 3,
   "metadata": {
    "collapsed": true
   },
   "outputs": [],
   "source": [
    "import urllib.request\n",
    "import zipfile\n",
    "import lxml.etree"
   ]
  },
  {
   "cell_type": "code",
   "execution_count": 4,
   "metadata": {
    "collapsed": true
   },
   "outputs": [],
   "source": [
    "# Download the dataset if it's not already there: this may take a minute as it is 75MB\n",
    "if not os.path.isfile('ted_en-20160408.zip'):\n",
    "    urllib.request.urlretrieve(\"https://wit3.fbk.eu/get.php?path=XML_releases/xml/ted_en-20160408.zip&filename=ted_en-20160408.zip\", filename=\"ted_en-20160408.zip\")"
   ]
  },
  {
   "cell_type": "code",
   "execution_count": 5,
   "metadata": {
    "collapsed": true
   },
   "outputs": [],
   "source": [
    "# For now, we're only interested in the subtitle text, so let's extract that from the XML:\n",
    "with zipfile.ZipFile('ted_en-20160408.zip', 'r') as z:\n",
    "    doc = lxml.etree.parse(z.open('ted_en-20160408.xml', 'r'))\n",
    "input_text = '\\n'.join(doc.xpath('//content/text()'))\n",
    "del doc"
   ]
  },
  {
   "cell_type": "markdown",
   "metadata": {},
   "source": [
    "### Part 1: Preprocessing\n",
    "\n",
    "In this part, we attempt to clean up the raw subtitles a bit, so that we get only sentences. The following substring shows examples of what we're trying to get rid of. Since it's hard to define precisely what we want to get rid of, we'll just use some simple heuristics."
   ]
  },
  {
   "cell_type": "code",
   "execution_count": 6,
   "metadata": {
    "scrolled": false
   },
   "outputs": [
    {
     "data": {
      "text/plain": [
       "' baby does.\\n(Video) Hyowon Gweon: See this? (Ball squeaks) Did you see that? (Ball squeaks) Cool. See this one? (Ball squeaks) Wow.\\nLaura Schulz: Told you. (Laughs)\\n(Vide'"
      ]
     },
     "execution_count": 6,
     "metadata": {},
     "output_type": "execute_result"
    }
   ],
   "source": [
    "i = input_text.find(\"Hyowon Gweon: See this?\")\n",
    "input_text[i-20:i+150]"
   ]
  },
  {
   "cell_type": "markdown",
   "metadata": {},
   "source": [
    "Let's start by removing all parenthesized strings using a regex:"
   ]
  },
  {
   "cell_type": "code",
   "execution_count": 7,
   "metadata": {
    "collapsed": true
   },
   "outputs": [],
   "source": [
    "input_text_noparens = re.sub(r'\\([^)]*\\)', '', input_text)"
   ]
  },
  {
   "cell_type": "markdown",
   "metadata": {},
   "source": [
    "We can verify the same location in the text is now clean as follows. We won't worry about the irregular spaces since we'll later split the text into sentences and tokenize it anyway."
   ]
  },
  {
   "cell_type": "code",
   "execution_count": 9,
   "metadata": {},
   "outputs": [
    {
     "data": {
      "text/plain": [
       "\"hat the baby does.\\n Hyowon Gweon: See this?  Did you see that?  Cool. See this one?  Wow.\\nLaura Schulz: Told you. \\n HG: See this one?  Hey Clara, this one's for you. You \""
      ]
     },
     "execution_count": 9,
     "metadata": {},
     "output_type": "execute_result"
    }
   ],
   "source": [
    "i = input_text_noparens.find(\"Hyowon Gweon: See this?\")\n",
    "input_text_noparens[i-20:i+150]"
   ]
  },
  {
   "cell_type": "markdown",
   "metadata": {},
   "source": [
    "Now, let's attempt to remove speakers' names that occur at the beginning of a line, by deleting pieces of the form \"`<up to 20 characters>:`\", as shown in this example. Of course, this is an imperfect heuristic. "
   ]
  },
  {
   "cell_type": "code",
   "execution_count": 10,
   "metadata": {},
   "outputs": [
    {
     "data": {
      "text/plain": [
       "[\"Here are two reasons companies fail: they only do more of the same, or they only do what's new\",\n",
       " 'To me the real, real solution to quality growth is figuring out the balance between two activities: exploration and exploitation',\n",
       " ' Both are necessary, but it can be too much of a good thing',\n",
       " 'Consider Facit',\n",
       " \" I'm actually old enough to remember them\"]"
      ]
     },
     "execution_count": 10,
     "metadata": {},
     "output_type": "execute_result"
    }
   ],
   "source": [
    "sentences_strings_ted = []\n",
    "for line in input_text_noparens.split('\\n'):\n",
    "    m = re.match(r'^(?:(?P<precolon>[^:]{,20}):)?(?P<postcolon>.*)$', line)\n",
    "    sentences_strings_ted.extend(sent for sent in m.groupdict()['postcolon'].split('.') if sent)\n",
    "\n",
    "# Uncomment if you need to save some RAM: these strings are about 50MB.\n",
    "# del input_text, input_text_noparens\n",
    "\n",
    "# Let's view the first few:\n",
    "sentences_strings_ted[:5]"
   ]
  },
  {
   "cell_type": "markdown",
   "metadata": {},
   "source": [
    "Now that we have sentences, we're ready to tokenize each of them into words. This tokenization is imperfect, of course. For instance, how many tokens is \"can't\", and where/how do we split it? We'll take the simplest naive approach of splitting on spaces. Before splitting, we remove non-alphanumeric characters, such as punctuation. You may want to consider the following question: why do we replace these characters with spaces rather than deleting them? Think of a case where this yields a different answer."
   ]
  },
  {
   "cell_type": "code",
   "execution_count": 11,
   "metadata": {
    "collapsed": true
   },
   "outputs": [],
   "source": [
    "sentences_ted = []\n",
    "for sent_str in sentences_strings_ted:\n",
    "    tokens = re.sub(r\"[^a-z0-9]+\", \" \", sent_str.lower()).split()\n",
    "    sentences_ted.append(tokens)"
   ]
  },
  {
   "cell_type": "markdown",
   "metadata": {},
   "source": [
    "Two sample processed sentences:"
   ]
  },
  {
   "cell_type": "code",
   "execution_count": 12,
   "metadata": {},
   "outputs": [
    {
     "data": {
      "text/plain": [
       "266694"
      ]
     },
     "execution_count": 12,
     "metadata": {},
     "output_type": "execute_result"
    }
   ],
   "source": [
    "len(sentences_ted)"
   ]
  },
  {
   "cell_type": "code",
   "execution_count": 13,
   "metadata": {},
   "outputs": [
    {
     "name": "stdout",
     "output_type": "stream",
     "text": [
      "['here', 'are', 'two', 'reasons', 'companies', 'fail', 'they', 'only', 'do', 'more', 'of', 'the', 'same', 'or', 'they', 'only', 'do', 'what', 's', 'new']\n",
      "['to', 'me', 'the', 'real', 'real', 'solution', 'to', 'quality', 'growth', 'is', 'figuring', 'out', 'the', 'balance', 'between', 'two', 'activities', 'exploration', 'and', 'exploitation']\n"
     ]
    }
   ],
   "source": [
    "print(sentences_ted[0])\n",
    "print(sentences_ted[1])"
   ]
  },
  {
   "cell_type": "markdown",
   "metadata": {},
   "source": [
    "### Part 2: Word Frequencies"
   ]
  },
  {
   "cell_type": "markdown",
   "metadata": {},
   "source": [
    "If you store the counts of the top 1000 words in a list called `counts_ted_top1000`, the code below will plot the histogram requested in the writeup."
   ]
  },
  {
   "cell_type": "code",
   "execution_count": 14,
   "metadata": {},
   "outputs": [
    {
     "name": "stdout",
     "output_type": "stream",
     "text": [
      "[207748, 149305, 125169, 114818, 105399, 95146, 83180, 78070, 74738, 70923]\n"
     ]
    }
   ],
   "source": [
    "# ...\n",
    "import collections\n",
    "counter=collections.Counter()\n",
    "for sentence in sentences_ted:\n",
    "    counter.update(sentence)\n",
    "counts_ted_top1000=counter.most_common(1000)\n",
    "counts_ted_top1000=list(map(lambda x:x[1],counts_ted_top1000))\n",
    "print(counts_ted_top1000[:10])"
   ]
  },
  {
   "cell_type": "markdown",
   "metadata": {},
   "source": [
    "Plot distribution of top-1000 words"
   ]
  },
  {
   "cell_type": "code",
   "execution_count": 15,
   "metadata": {},
   "outputs": [
    {
     "data": {
      "text/html": [
       "\n",
       "\n",
       "    <div class=\"bk-root\">\n",
       "        <div class=\"bk-plotdiv\" id=\"60ec2ab6-38bf-4e74-84b2-ef95383ff72d\"></div>\n",
       "    </div>\n",
       "<script type=\"text/javascript\">\n",
       "  \n",
       "  (function(root) {\n",
       "    function now() {\n",
       "      return new Date();\n",
       "    }\n",
       "  \n",
       "    var force = false;\n",
       "  \n",
       "    if (typeof (root._bokeh_onload_callbacks) === \"undefined\" || force === true) {\n",
       "      root._bokeh_onload_callbacks = [];\n",
       "      root._bokeh_is_loading = undefined;\n",
       "    }\n",
       "  \n",
       "  \n",
       "    \n",
       "    if (typeof (root._bokeh_timeout) === \"undefined\" || force === true) {\n",
       "      root._bokeh_timeout = Date.now() + 0;\n",
       "      root._bokeh_failed_load = false;\n",
       "    }\n",
       "  \n",
       "    var NB_LOAD_WARNING = {'data': {'text/html':\n",
       "       \"<div style='background-color: #fdd'>\\n\"+\n",
       "       \"<p>\\n\"+\n",
       "       \"BokehJS does not appear to have successfully loaded. If loading BokehJS from CDN, this \\n\"+\n",
       "       \"may be due to a slow or bad network connection. Possible fixes:\\n\"+\n",
       "       \"</p>\\n\"+\n",
       "       \"<ul>\\n\"+\n",
       "       \"<li>re-rerun `output_notebook()` to attempt to load from CDN again, or</li>\\n\"+\n",
       "       \"<li>use INLINE resources instead, as so:</li>\\n\"+\n",
       "       \"</ul>\\n\"+\n",
       "       \"<code>\\n\"+\n",
       "       \"from bokeh.resources import INLINE\\n\"+\n",
       "       \"output_notebook(resources=INLINE)\\n\"+\n",
       "       \"</code>\\n\"+\n",
       "       \"</div>\"}};\n",
       "  \n",
       "    function display_loaded() {\n",
       "      if (root.Bokeh !== undefined) {\n",
       "        var el = document.getElementById(\"60ec2ab6-38bf-4e74-84b2-ef95383ff72d\");\n",
       "        if (el != null) {\n",
       "          el.textContent = \"BokehJS \" + Bokeh.version + \" successfully loaded.\";\n",
       "        }\n",
       "      } else if (Date.now() < root._bokeh_timeout) {\n",
       "        setTimeout(display_loaded, 100)\n",
       "      }\n",
       "    }\n",
       "  \n",
       "  \n",
       "    function run_callbacks() {\n",
       "      try {\n",
       "        root._bokeh_onload_callbacks.forEach(function(callback) { callback() });\n",
       "      }\n",
       "      finally {\n",
       "        delete root._bokeh_onload_callbacks\n",
       "      }\n",
       "      console.info(\"Bokeh: all callbacks have finished\");\n",
       "    }\n",
       "  \n",
       "    function load_libs(js_urls, callback) {\n",
       "      root._bokeh_onload_callbacks.push(callback);\n",
       "      if (root._bokeh_is_loading > 0) {\n",
       "        console.log(\"Bokeh: BokehJS is being loaded, scheduling callback at\", now());\n",
       "        return null;\n",
       "      }\n",
       "      if (js_urls == null || js_urls.length === 0) {\n",
       "        run_callbacks();\n",
       "        return null;\n",
       "      }\n",
       "      console.log(\"Bokeh: BokehJS not loaded, scheduling load and callback at\", now());\n",
       "      root._bokeh_is_loading = js_urls.length;\n",
       "      for (var i = 0; i < js_urls.length; i++) {\n",
       "        var url = js_urls[i];\n",
       "        var s = document.createElement('script');\n",
       "        s.src = url;\n",
       "        s.async = false;\n",
       "        s.onreadystatechange = s.onload = function() {\n",
       "          root._bokeh_is_loading--;\n",
       "          if (root._bokeh_is_loading === 0) {\n",
       "            console.log(\"Bokeh: all BokehJS libraries loaded\");\n",
       "            run_callbacks()\n",
       "          }\n",
       "        };\n",
       "        s.onerror = function() {\n",
       "          console.warn(\"failed to load library \" + url);\n",
       "        };\n",
       "        console.log(\"Bokeh: injecting script tag for BokehJS library: \", url);\n",
       "        document.getElementsByTagName(\"head\")[0].appendChild(s);\n",
       "      }\n",
       "    };var element = document.getElementById(\"60ec2ab6-38bf-4e74-84b2-ef95383ff72d\");\n",
       "    if (element == null) {\n",
       "      console.log(\"Bokeh: ERROR: autoload.js configured with elementid '60ec2ab6-38bf-4e74-84b2-ef95383ff72d' but no matching script tag was found. \")\n",
       "      return false;\n",
       "    }\n",
       "  \n",
       "    var js_urls = [];\n",
       "  \n",
       "    var inline_js = [\n",
       "      function(Bokeh) {\n",
       "        (function() {\n",
       "          var fn = function() {\n",
       "            var docs_json = {\"c871a644-511f-4204-8bed-a8e6046a68d0\":{\"roots\":{\"references\":[{\"attributes\":{},\"id\":\"90d363b1-8b7d-46a8-bc07-fc9d6d1ce8c3\",\"type\":\"PanTool\"},{\"attributes\":{},\"id\":\"6e2df656-c71c-4db0-81a1-b0229341725f\",\"type\":\"ResetTool\"},{\"attributes\":{\"data_source\":{\"id\":\"d11e59cd-cabf-49ba-8922-c2990e1cef68\",\"type\":\"ColumnDataSource\"},\"glyph\":{\"id\":\"879cae6c-4575-4f88-8c85-a6ef0fb9ad74\",\"type\":\"Quad\"},\"hover_glyph\":null,\"muted_glyph\":null,\"nonselection_glyph\":{\"id\":\"b13e37b1-1a6c-43dc-bb78-ad21937089ca\",\"type\":\"Quad\"},\"selection_glyph\":null,\"view\":{\"id\":\"f020ff29-ee39-4dba-852c-46fca8ec97f0\",\"type\":\"CDSView\"}},\"id\":\"da385a6f-1d6e-401c-990b-a7bdab2830d5\",\"type\":\"GlyphRenderer\"},{\"attributes\":{\"source\":{\"id\":\"d11e59cd-cabf-49ba-8922-c2990e1cef68\",\"type\":\"ColumnDataSource\"}},\"id\":\"f020ff29-ee39-4dba-852c-46fca8ec97f0\",\"type\":\"CDSView\"},{\"attributes\":{},\"id\":\"8a6c499b-592d-4af9-a117-866f9b56812d\",\"type\":\"BasicTicker\"},{\"attributes\":{\"dimension\":1,\"plot\":{\"id\":\"caa60183-8703-4fa9-8772-ec780a5a885b\",\"subtype\":\"Figure\",\"type\":\"Plot\"},\"ticker\":{\"id\":\"8a6c499b-592d-4af9-a117-866f9b56812d\",\"type\":\"BasicTicker\"}},\"id\":\"2b795b0f-3193-4ef7-8571-faec2d057088\",\"type\":\"Grid\"},{\"attributes\":{\"bottom\":{\"value\":0},\"fill_alpha\":{\"value\":0.1},\"fill_color\":{\"value\":\"#1f77b4\"},\"left\":{\"field\":\"left\"},\"line_alpha\":{\"value\":0.1},\"line_color\":{\"value\":\"#1f77b4\"},\"right\":{\"field\":\"right\"},\"top\":{\"field\":\"top\"}},\"id\":\"b13e37b1-1a6c-43dc-bb78-ad21937089ca\",\"type\":\"Quad\"},{\"attributes\":{\"below\":[{\"id\":\"462ccad8-d7e9-46db-9614-f80920550790\",\"type\":\"LinearAxis\"}],\"left\":[{\"id\":\"38ddfaee-82a0-4af3-9add-47af668907ae\",\"type\":\"LinearAxis\"}],\"renderers\":[{\"id\":\"462ccad8-d7e9-46db-9614-f80920550790\",\"type\":\"LinearAxis\"},{\"id\":\"2ff22781-1efc-4a51-94df-624fe365ce91\",\"type\":\"Grid\"},{\"id\":\"38ddfaee-82a0-4af3-9add-47af668907ae\",\"type\":\"LinearAxis\"},{\"id\":\"2b795b0f-3193-4ef7-8571-faec2d057088\",\"type\":\"Grid\"},{\"id\":\"da385a6f-1d6e-401c-990b-a7bdab2830d5\",\"type\":\"GlyphRenderer\"}],\"title\":{\"id\":\"a2eca76f-3b05-4c33-8ba8-858c92205bd2\",\"type\":\"Title\"},\"toolbar\":{\"id\":\"e4b65166-87e8-4f19-98dc-cec3afcea314\",\"type\":\"Toolbar\"},\"toolbar_location\":\"above\",\"x_range\":{\"id\":\"3603b2b6-4274-4dbf-8185-a533f9c9b503\",\"type\":\"DataRange1d\"},\"x_scale\":{\"id\":\"50f84d5e-a56c-486a-8875-57fe7e996aa8\",\"type\":\"LinearScale\"},\"y_range\":{\"id\":\"cb7c466f-1374-4afe-bbac-f176ee009de5\",\"type\":\"DataRange1d\"},\"y_scale\":{\"id\":\"83e56af3-ebbe-4469-9303-ad29152a884c\",\"type\":\"LinearScale\"}},\"id\":\"caa60183-8703-4fa9-8772-ec780a5a885b\",\"subtype\":\"Figure\",\"type\":\"Plot\"},{\"attributes\":{\"plot\":{\"id\":\"caa60183-8703-4fa9-8772-ec780a5a885b\",\"subtype\":\"Figure\",\"type\":\"Plot\"},\"ticker\":{\"id\":\"4226935e-9898-487e-844b-33b9434d52cc\",\"type\":\"BasicTicker\"}},\"id\":\"2ff22781-1efc-4a51-94df-624fe365ce91\",\"type\":\"Grid\"},{\"attributes\":{\"bottom\":{\"value\":0},\"fill_color\":{\"value\":\"#1f77b4\"},\"left\":{\"field\":\"left\"},\"line_color\":{\"value\":\"#555555\"},\"right\":{\"field\":\"right\"},\"top\":{\"field\":\"top\"}},\"id\":\"879cae6c-4575-4f88-8c85-a6ef0fb9ad74\",\"type\":\"Quad\"},{\"attributes\":{},\"id\":\"50f84d5e-a56c-486a-8875-57fe7e996aa8\",\"type\":\"LinearScale\"},{\"attributes\":{\"callback\":null},\"id\":\"3603b2b6-4274-4dbf-8185-a533f9c9b503\",\"type\":\"DataRange1d\"},{\"attributes\":{},\"id\":\"4226935e-9898-487e-844b-33b9434d52cc\",\"type\":\"BasicTicker\"},{\"attributes\":{\"formatter\":{\"id\":\"0cdcd9be-24d6-4dd0-bef5-1b9cfbd6d6be\",\"type\":\"BasicTickFormatter\"},\"plot\":{\"id\":\"caa60183-8703-4fa9-8772-ec780a5a885b\",\"subtype\":\"Figure\",\"type\":\"Plot\"},\"ticker\":{\"id\":\"8a6c499b-592d-4af9-a117-866f9b56812d\",\"type\":\"BasicTicker\"}},\"id\":\"38ddfaee-82a0-4af3-9add-47af668907ae\",\"type\":\"LinearAxis\"},{\"attributes\":{\"plot\":null,\"text\":\"Top-1000 words distribution\"},\"id\":\"a2eca76f-3b05-4c33-8ba8-858c92205bd2\",\"type\":\"Title\"},{\"attributes\":{\"callback\":null,\"column_names\":[\"top\",\"left\",\"right\"],\"data\":{\"left\":{\"__ndarray__\":\"AAAAAABAeUB7FK5H4VqjQHsUrkfhxrFAuB6F61HguUB7FK5H4fzAQJqZmZmZCcVAuB6F61EWyUDXo3A9CiPNQHsUrkfhl9BACtejcD2e0kCamZmZmaTUQClcj8L1qtZAuB6F61Gx2EBI4XoUrrfaQNejcD0KvtxAZ2ZmZmbE3kB7FK5HYWXgQMP1KFyPaOFACtejcL1r4kBSuB6F627jQJqZmZkZcuRA4XoUrkd15UApXI/CdXjmQHE9Cteje+dAuB6F69F+6EAAAAAAAILpQEjhehQuhepAkML1KFyI60DXo3A9iovsQB+F61G4ju1AZ2ZmZuaR7kCuR+F6FJXvQHsUrkchTPBAH4XrUbjN8EDD9ShcT0/xQGdmZmbm0PFACtejcH1S8kCuR+F6FNTyQFK4HoWrVfNA9ihcj0LX80CamZmZ2Vj0QD4K16Nw2vRA4XoUrgdc9UCF61G4nt31QClcj8I1X/ZAzczMzMzg9kBxPQrXY2L3QBWuR+H64/dAuB6F65Fl+EBcj8L1KOf4QAAAAADAaPlApHA9Clfq+UBI4XoU7mv6QOxRuB6F7fpAkML1KBxv+0AzMzMzs/D7QNejcD1KcvxAexSuR+Hz/EAfhetReHX9QMP1KFwP9/1AZ2ZmZqZ4/kAK16NwPfr+QK5H4XrUe/9AUrgehWv9/0B7FK5HgT8AQc3MzMxMgABBH4XrURjBAEFxPQrX4wEBQcP1KFyvQgFBFa5H4XqDAUFnZmZmRsQBQbgehesRBQJBCtejcN1FAkFcj8L1qIYCQa5H4Xp0xwJBAAAAAEAIA0FSuB6FC0kDQaRwPQrXiQNB9ihcj6LKA0FI4XoUbgsEQZqZmZk5TARB7FG4HgWNBEE+Ctej0M0EQZDC9SicDgVB4XoUrmdPBUEzMzMzM5AFQYXrUbj+0AVB16NwPcoRBkEpXI/ClVIGQXsUrkdhkwZBzczMzCzUBkEfhetR+BQHQXE9CtfDVQdBw/UoXI+WB0EVrkfhWtcHQWdmZmYmGAhBuB6F6/FYCEEK16NwvZkIQVyPwvWI2ghBrkfhelQbCUE=\",\"dtype\":\"float64\",\"shape\":[100]},\"right\":{\"__ndarray__\":\"exSuR+Fao0B7FK5H4caxQLgehetR4LlAexSuR+H8wECamZmZmQnFQLgehetRFslA16NwPQojzUB7FK5H4ZfQQArXo3A9ntJAmpmZmZmk1EApXI/C9arWQLgehetRsdhASOF6FK632kDXo3A9Cr7cQGdmZmZmxN5AexSuR2Fl4EDD9Shcj2jhQArXo3C9a+JAUrgehetu40CamZmZGXLkQOF6FK5HdeVAKVyPwnV45kBxPQrXo3vnQLgehevRfuhAAAAAAACC6UBI4XoULoXqQJDC9ShciOtA16NwPYqL7EAfhetRuI7tQGdmZmbmke5ArkfhehSV70B7FK5HIUzwQB+F61G4zfBAw/UoXE9P8UBnZmZm5tDxQArXo3B9UvJArkfhehTU8kBSuB6Fq1XzQPYoXI9C1/NAmpmZmdlY9EA+CtejcNr0QOF6FK4HXPVAhetRuJ7d9UApXI/CNV/2QM3MzMzM4PZAcT0K12Ni90AVrkfh+uP3QLgeheuRZfhAXI/C9Sjn+EAAAAAAwGj5QKRwPQpX6vlASOF6FO5r+kDsUbgehe36QJDC9Sgcb/tAMzMzM7Pw+0DXo3A9SnL8QHsUrkfh8/xAH4XrUXh1/UDD9ShcD/f9QGdmZmameP5ACtejcD36/kCuR+F61Hv/QFK4HoVr/f9AexSuR4E/AEHNzMzMTIAAQR+F61EYwQBBcT0K1+MBAUHD9Shcr0IBQRWuR+F6gwFBZ2ZmZkbEAUG4HoXrEQUCQQrXo3DdRQJBXI/C9aiGAkGuR+F6dMcCQQAAAABACANBUrgehQtJA0GkcD0K14kDQfYoXI+iygNBSOF6FG4LBEGamZmZOUwEQexRuB4FjQRBPgrXo9DNBEGQwvUonA4FQeF6FK5nTwVBMzMzMzOQBUGF61G4/tAFQdejcD3KEQZBKVyPwpVSBkF7FK5HYZMGQc3MzMws1AZBH4XrUfgUB0FxPQrXw1UHQcP1KFyPlgdBFa5H4VrXB0FnZmZmJhgIQbgehevxWAhBCtejcL2ZCEFcj8L1iNoIQa5H4XpUGwlBAAAAACBcCUE=\",\"dtype\":\"float64\",\"shape\":[100]},\"top\":{\"__ndarray__\":\"50H1zNSBOT/ypb1tgHIBPwsriUb5Uew+zuTFiLI04j78kGUPxTHhPh40R25oQNY+zuTFiLI00j4pPQWW1y7APsTbB2FDRsg+JT0FltcuwD4tPQWW1y6wPi09BZbXLrA+JT0FltcuwD4tPQWW1y6gPiU9BZbXLrA+LT0FltcuoD4AAAAAAAAAADU9BZbXLqA+AAAAAAAAAAAAAAAAAAAAAAAAAAAAAAAAAAAAAAAAAAAAAAAAAAAAADU9BZbXLqA+AAAAAAAAAAAAAAAAAAAAAAAAAAAAAAAANT0FltcuoD4AAAAAAAAAAAAAAAAAAAAANT0FltcuoD4AAAAAAAAAACU9BZbXLqA+AAAAAAAAAAAlPQWW1y6gPkU9BZbXLqA+AAAAAAAAAAAlPQWW1y6gPgAAAAAAAAAAJT0FltcuoD4AAAAAAAAAAAAAAAAAAAAAAAAAAAAAAAAAAAAAAAAAAAAAAAAAAAAAJT0FltcuoD4AAAAAAAAAAAAAAAAAAAAAAAAAAAAAAAAAAAAAAAAAACU9BZbXLqA+AAAAAAAAAAAAAAAAAAAAAAAAAAAAAAAAAAAAAAAAAAAlPQWW1y6gPgAAAAAAAAAAAAAAAAAAAAAAAAAAAAAAAAAAAAAAAAAART0FltcuoD4AAAAAAAAAAAAAAAAAAAAAAAAAAAAAAAAAAAAAAAAAAAAAAAAAAAAAAAAAAAAAAAAAAAAAAAAAAAAAAAAAAAAAAAAAAAAAAAAAAAAAAAAAACU9BZbXLqA+AAAAAAAAAAAAAAAAAAAAAAAAAAAAAAAAAAAAAAAAAAAAAAAAAAAAAAAAAAAAAAAAAAAAAAAAAAAAAAAAAAAAAAAAAAAAAAAAAAAAAAAAAAAAAAAAAAAAAAAAAAAAAAAAAAAAAAAAAAAAAAAAAAAAAAAAAAAAAAAAAAAAAAAAAAAAAAAAAAAAAAAAAAAAAAAAAAAAAAAAAAAAAAAAAAAAAAAAAAAAAAAAAAAAAAAAAAAAAAAAAAAAAAAAAAAAAAAAAAAAAAAAAAAAAAAAAAAAAAAAAAAAAAAAJT0FltcuoD4=\",\"dtype\":\"float64\",\"shape\":[100]}}},\"id\":\"d11e59cd-cabf-49ba-8922-c2990e1cef68\",\"type\":\"ColumnDataSource\"},{\"attributes\":{},\"id\":\"7729086c-6bfe-48d9-8a0a-0507f64998f7\",\"type\":\"BasicTickFormatter\"},{\"attributes\":{\"active_drag\":\"auto\",\"active_inspect\":\"auto\",\"active_scroll\":\"auto\",\"active_tap\":\"auto\",\"tools\":[{\"id\":\"90d363b1-8b7d-46a8-bc07-fc9d6d1ce8c3\",\"type\":\"PanTool\"},{\"id\":\"8f3dc8a3-31de-4417-bd24-cac2bf353c3d\",\"type\":\"WheelZoomTool\"},{\"id\":\"6e2df656-c71c-4db0-81a1-b0229341725f\",\"type\":\"ResetTool\"},{\"id\":\"1865a6db-ca86-4597-98b2-3c9160b03a7e\",\"type\":\"SaveTool\"}]},\"id\":\"e4b65166-87e8-4f19-98dc-cec3afcea314\",\"type\":\"Toolbar\"},{\"attributes\":{},\"id\":\"1865a6db-ca86-4597-98b2-3c9160b03a7e\",\"type\":\"SaveTool\"},{\"attributes\":{},\"id\":\"0cdcd9be-24d6-4dd0-bef5-1b9cfbd6d6be\",\"type\":\"BasicTickFormatter\"},{\"attributes\":{},\"id\":\"8f3dc8a3-31de-4417-bd24-cac2bf353c3d\",\"type\":\"WheelZoomTool\"},{\"attributes\":{\"formatter\":{\"id\":\"7729086c-6bfe-48d9-8a0a-0507f64998f7\",\"type\":\"BasicTickFormatter\"},\"plot\":{\"id\":\"caa60183-8703-4fa9-8772-ec780a5a885b\",\"subtype\":\"Figure\",\"type\":\"Plot\"},\"ticker\":{\"id\":\"4226935e-9898-487e-844b-33b9434d52cc\",\"type\":\"BasicTicker\"}},\"id\":\"462ccad8-d7e9-46db-9614-f80920550790\",\"type\":\"LinearAxis\"},{\"attributes\":{\"callback\":null},\"id\":\"cb7c466f-1374-4afe-bbac-f176ee009de5\",\"type\":\"DataRange1d\"},{\"attributes\":{},\"id\":\"83e56af3-ebbe-4469-9303-ad29152a884c\",\"type\":\"LinearScale\"}],\"root_ids\":[\"caa60183-8703-4fa9-8772-ec780a5a885b\"]},\"title\":\"Bokeh Application\",\"version\":\"0.12.7\"}};\n",
       "            var render_items = [{\"docid\":\"c871a644-511f-4204-8bed-a8e6046a68d0\",\"elementid\":\"60ec2ab6-38bf-4e74-84b2-ef95383ff72d\",\"modelid\":\"caa60183-8703-4fa9-8772-ec780a5a885b\"}];\n",
       "            \n",
       "            Bokeh.embed.embed_items(docs_json, render_items);\n",
       "          };\n",
       "          if (document.readyState != \"loading\") fn();\n",
       "          else document.addEventListener(\"DOMContentLoaded\", fn);\n",
       "        })();\n",
       "      },\n",
       "      function(Bokeh) {\n",
       "      }\n",
       "    ];\n",
       "  \n",
       "    function run_inline_js() {\n",
       "      \n",
       "      if ((root.Bokeh !== undefined) || (force === true)) {\n",
       "        for (var i = 0; i < inline_js.length; i++) {\n",
       "          inline_js[i].call(root, root.Bokeh);\n",
       "        }if (force === true) {\n",
       "          display_loaded();\n",
       "        }} else if (Date.now() < root._bokeh_timeout) {\n",
       "        setTimeout(run_inline_js, 100);\n",
       "      } else if (!root._bokeh_failed_load) {\n",
       "        console.log(\"Bokeh: BokehJS failed to load within specified timeout.\");\n",
       "        root._bokeh_failed_load = true;\n",
       "      } else if (force !== true) {\n",
       "        var cell = $(document.getElementById(\"60ec2ab6-38bf-4e74-84b2-ef95383ff72d\")).parents('.cell').data().cell;\n",
       "        cell.output_area.append_execute_result(NB_LOAD_WARNING)\n",
       "      }\n",
       "  \n",
       "    }\n",
       "  \n",
       "    if (root._bokeh_is_loading === 0) {\n",
       "      console.log(\"Bokeh: BokehJS loaded, going straight to plotting\");\n",
       "      run_inline_js();\n",
       "    } else {\n",
       "      load_libs(js_urls, function() {\n",
       "        console.log(\"Bokeh: BokehJS plotting callback run at\", now());\n",
       "        run_inline_js();\n",
       "      });\n",
       "    }\n",
       "  }(window));\n",
       "</script>"
      ]
     },
     "metadata": {},
     "output_type": "execute_result"
    }
   ],
   "source": [
    "hist, edges = np.histogram(counts_ted_top1000, density=True, bins=100, normed=True)\n",
    "\n",
    "p = figure(tools=\"pan,wheel_zoom,reset,save\",\n",
    "           toolbar_location=\"above\",\n",
    "           title=\"Top-1000 words distribution\")\n",
    "p.quad(top=hist, bottom=0, left=edges[:-1], right=edges[1:], line_color=\"#555555\")\n",
    "show(p)"
   ]
  },
  {
   "cell_type": "markdown",
   "metadata": {},
   "source": [
    "### Part 3: Train Word2Vec"
   ]
  },
  {
   "cell_type": "code",
   "execution_count": 16,
   "metadata": {},
   "outputs": [
    {
     "name": "stderr",
     "output_type": "stream",
     "text": [
      "C:\\ProgramData\\Anaconda2\\envs\\tf\\lib\\site-packages\\gensim\\utils.py:865: UserWarning: detected Windows; aliasing chunkize to chunkize_serial\n",
      "  warnings.warn(\"detected Windows; aliasing chunkize to chunkize_serial\")\n"
     ]
    }
   ],
   "source": [
    "from gensim.models import Word2Vec"
   ]
  },
  {
   "cell_type": "code",
   "execution_count": 17,
   "metadata": {
    "collapsed": true
   },
   "outputs": [],
   "source": [
    "# ...\n",
    "model_ted = Word2Vec(sentences_ted, size=100, min_count=10, workers=3)"
   ]
  },
  {
   "cell_type": "markdown",
   "metadata": {},
   "source": [
    "### Part 4: Ted Learnt Representations"
   ]
  },
  {
   "cell_type": "markdown",
   "metadata": {},
   "source": [
    "Finding similar words: (see gensim docs for more functionality of `most_similar`)"
   ]
  },
  {
   "cell_type": "code",
   "execution_count": 18,
   "metadata": {},
   "outputs": [
    {
     "data": {
      "text/plain": [
       "[('woman', 0.84726881980896),\n",
       " ('guy', 0.8047351837158203),\n",
       " ('lady', 0.7710995674133301),\n",
       " ('girl', 0.7598649263381958),\n",
       " ('boy', 0.7524293661117554),\n",
       " ('gentleman', 0.7184523344039917),\n",
       " ('kid', 0.7166115641593933),\n",
       " ('soldier', 0.7034953236579895),\n",
       " ('rabbi', 0.6946963667869568),\n",
       " ('poet', 0.6814138889312744)]"
      ]
     },
     "execution_count": 18,
     "metadata": {},
     "output_type": "execute_result"
    }
   ],
   "source": [
    "model_ted.most_similar(\"man\")"
   ]
  },
  {
   "cell_type": "code",
   "execution_count": 19,
   "metadata": {},
   "outputs": [
    {
     "data": {
      "text/plain": [
       "[('machine', 0.7086800932884216),\n",
       " ('software', 0.6964713931083679),\n",
       " ('robot', 0.6877498626708984),\n",
       " ('device', 0.6728092432022095),\n",
       " ('chip', 0.6441341638565063),\n",
       " ('program', 0.6412773728370667),\n",
       " ('3d', 0.63511723279953),\n",
       " ('video', 0.6324969530105591),\n",
       " ('camera', 0.6243196725845337),\n",
       " ('interface', 0.6229785680770874)]"
      ]
     },
     "execution_count": 19,
     "metadata": {},
     "output_type": "execute_result"
    }
   ],
   "source": [
    "model_ted.most_similar(\"computer\")"
   ]
  },
  {
   "cell_type": "code",
   "execution_count": 20,
   "metadata": {},
   "outputs": [
    {
     "data": {
      "text/plain": [
       "[('reasons', 0.7247222065925598),\n",
       " ('answer', 0.6076040863990784),\n",
       " ('problem', 0.6032803058624268),\n",
       " ('question', 0.602793276309967),\n",
       " ('assumption', 0.5960965752601624),\n",
       " ('explanation', 0.5769748687744141),\n",
       " ('solution', 0.5623318552970886),\n",
       " ('challenge', 0.5509741306304932),\n",
       " ('thing', 0.5411272048950195),\n",
       " ('evidence', 0.5391069650650024)]"
      ]
     },
     "execution_count": 20,
     "metadata": {},
     "output_type": "execute_result"
    }
   ],
   "source": [
    "# ...\n",
    "model_ted.most_similar(\"reason\")"
   ]
  },
  {
   "cell_type": "code",
   "execution_count": 21,
   "metadata": {
    "collapsed": true
   },
   "outputs": [],
   "source": [
    "def cos_dist(word1,word2):\n",
    "    vec1=model_ted[word1]\n",
    "    vec2=model_ted[word2]\n",
    "    return np.dot(vec1,vec2)/(np.linalg.norm(vec1)*np.linalg.norm(vec2))"
   ]
  },
  {
   "cell_type": "code",
   "execution_count": 22,
   "metadata": {},
   "outputs": [
    {
     "data": {
      "text/plain": [
       "0.94532442"
      ]
     },
     "execution_count": 22,
     "metadata": {},
     "output_type": "execute_result"
    }
   ],
   "source": [
    "cos_dist('sister','brother')"
   ]
  },
  {
   "cell_type": "markdown",
   "metadata": {},
   "source": [
    "#### t-SNE visualization\n",
    "To use the t-SNE code below, first put a list of the top 1000 words (as strings) into a variable `words_top_ted`. The following code gets the corresponding vectors from the model, assuming it's called `model_ted`:"
   ]
  },
  {
   "cell_type": "code",
   "execution_count": 23,
   "metadata": {},
   "outputs": [
    {
     "name": "stdout",
     "output_type": "stream",
     "text": [
      "['the', 'and', 'to', 'of', 'a', 'that', 'i', 'in', 'it', 'you']\n"
     ]
    }
   ],
   "source": [
    "import collections\n",
    "counter=collections.Counter()\n",
    "for sentence in sentences_ted:\n",
    "    counter.update(sentence)\n",
    "words_top_ted=counter.most_common(1000)\n",
    "words_top_ted=list(map(lambda x:x[0],words_top_ted))\n",
    "print(words_top_ted[:10])"
   ]
  },
  {
   "cell_type": "code",
   "execution_count": 24,
   "metadata": {
    "collapsed": true
   },
   "outputs": [],
   "source": [
    "# This assumes words_top_ted is a list of strings, the top 1000 words\n",
    "words_top_vec_ted = model_ted[words_top_ted]"
   ]
  },
  {
   "cell_type": "code",
   "execution_count": 25,
   "metadata": {
    "collapsed": true
   },
   "outputs": [],
   "source": [
    "from sklearn.manifold import TSNE\n",
    "tsne = TSNE(n_components=2, random_state=0)\n",
    "words_top_ted_tsne = tsne.fit_transform(words_top_vec_ted)"
   ]
  },
  {
   "cell_type": "code",
   "execution_count": 26,
   "metadata": {},
   "outputs": [
    {
     "data": {
      "text/html": [
       "\n",
       "\n",
       "    <div class=\"bk-root\">\n",
       "        <div class=\"bk-plotdiv\" id=\"675bb094-4a6d-4ca4-b0e8-30e5da3735af\"></div>\n",
       "    </div>\n",
       "<script type=\"text/javascript\">\n",
       "  \n",
       "  (function(root) {\n",
       "    function now() {\n",
       "      return new Date();\n",
       "    }\n",
       "  \n",
       "    var force = false;\n",
       "  \n",
       "    if (typeof (root._bokeh_onload_callbacks) === \"undefined\" || force === true) {\n",
       "      root._bokeh_onload_callbacks = [];\n",
       "      root._bokeh_is_loading = undefined;\n",
       "    }\n",
       "  \n",
       "  \n",
       "    \n",
       "    if (typeof (root._bokeh_timeout) === \"undefined\" || force === true) {\n",
       "      root._bokeh_timeout = Date.now() + 0;\n",
       "      root._bokeh_failed_load = false;\n",
       "    }\n",
       "  \n",
       "    var NB_LOAD_WARNING = {'data': {'text/html':\n",
       "       \"<div style='background-color: #fdd'>\\n\"+\n",
       "       \"<p>\\n\"+\n",
       "       \"BokehJS does not appear to have successfully loaded. If loading BokehJS from CDN, this \\n\"+\n",
       "       \"may be due to a slow or bad network connection. Possible fixes:\\n\"+\n",
       "       \"</p>\\n\"+\n",
       "       \"<ul>\\n\"+\n",
       "       \"<li>re-rerun `output_notebook()` to attempt to load from CDN again, or</li>\\n\"+\n",
       "       \"<li>use INLINE resources instead, as so:</li>\\n\"+\n",
       "       \"</ul>\\n\"+\n",
       "       \"<code>\\n\"+\n",
       "       \"from bokeh.resources import INLINE\\n\"+\n",
       "       \"output_notebook(resources=INLINE)\\n\"+\n",
       "       \"</code>\\n\"+\n",
       "       \"</div>\"}};\n",
       "  \n",
       "    function display_loaded() {\n",
       "      if (root.Bokeh !== undefined) {\n",
       "        var el = document.getElementById(\"675bb094-4a6d-4ca4-b0e8-30e5da3735af\");\n",
       "        if (el != null) {\n",
       "          el.textContent = \"BokehJS \" + Bokeh.version + \" successfully loaded.\";\n",
       "        }\n",
       "      } else if (Date.now() < root._bokeh_timeout) {\n",
       "        setTimeout(display_loaded, 100)\n",
       "      }\n",
       "    }\n",
       "  \n",
       "  \n",
       "    function run_callbacks() {\n",
       "      try {\n",
       "        root._bokeh_onload_callbacks.forEach(function(callback) { callback() });\n",
       "      }\n",
       "      finally {\n",
       "        delete root._bokeh_onload_callbacks\n",
       "      }\n",
       "      console.info(\"Bokeh: all callbacks have finished\");\n",
       "    }\n",
       "  \n",
       "    function load_libs(js_urls, callback) {\n",
       "      root._bokeh_onload_callbacks.push(callback);\n",
       "      if (root._bokeh_is_loading > 0) {\n",
       "        console.log(\"Bokeh: BokehJS is being loaded, scheduling callback at\", now());\n",
       "        return null;\n",
       "      }\n",
       "      if (js_urls == null || js_urls.length === 0) {\n",
       "        run_callbacks();\n",
       "        return null;\n",
       "      }\n",
       "      console.log(\"Bokeh: BokehJS not loaded, scheduling load and callback at\", now());\n",
       "      root._bokeh_is_loading = js_urls.length;\n",
       "      for (var i = 0; i < js_urls.length; i++) {\n",
       "        var url = js_urls[i];\n",
       "        var s = document.createElement('script');\n",
       "        s.src = url;\n",
       "        s.async = false;\n",
       "        s.onreadystatechange = s.onload = function() {\n",
       "          root._bokeh_is_loading--;\n",
       "          if (root._bokeh_is_loading === 0) {\n",
       "            console.log(\"Bokeh: all BokehJS libraries loaded\");\n",
       "            run_callbacks()\n",
       "          }\n",
       "        };\n",
       "        s.onerror = function() {\n",
       "          console.warn(\"failed to load library \" + url);\n",
       "        };\n",
       "        console.log(\"Bokeh: injecting script tag for BokehJS library: \", url);\n",
       "        document.getElementsByTagName(\"head\")[0].appendChild(s);\n",
       "      }\n",
       "    };var element = document.getElementById(\"675bb094-4a6d-4ca4-b0e8-30e5da3735af\");\n",
       "    if (element == null) {\n",
       "      console.log(\"Bokeh: ERROR: autoload.js configured with elementid '675bb094-4a6d-4ca4-b0e8-30e5da3735af' but no matching script tag was found. \")\n",
       "      return false;\n",
       "    }\n",
       "  \n",
       "    var js_urls = [];\n",
       "  \n",
       "    var inline_js = [\n",
       "      function(Bokeh) {\n",
       "        (function() {\n",
       "          var fn = function() {\n",
       "            var docs_json = {\"679edb77-3eae-461d-8c76-379365028b89\":{\"roots\":{\"references\":[{\"attributes\":{},\"id\":\"3bf5a3ab-3123-4552-969f-71824fee1dcd\",\"type\":\"LinearScale\"},{\"attributes\":{\"callback\":null,\"column_names\":[\"x1\",\"x2\",\"names\"],\"data\":{\"names\":[\"the\",\"and\",\"to\",\"of\",\"a\",\"that\",\"i\",\"in\",\"it\",\"you\",\"we\",\"is\",\"s\",\"this\",\"so\",\"they\",\"was\",\"for\",\"are\",\"have\",\"but\",\"what\",\"on\",\"with\",\"can\",\"t\",\"about\",\"there\",\"be\",\"as\",\"at\",\"all\",\"not\",\"do\",\"my\",\"one\",\"re\",\"people\",\"like\",\"if\",\"from\",\"now\",\"our\",\"he\",\"an\",\"just\",\"these\",\"or\",\"when\",\"because\",\"very\",\"me\",\"out\",\"by\",\"them\",\"how\",\"know\",\"up\",\"going\",\"had\",\"more\",\"think\",\"who\",\"were\",\"see\",\"your\",\"their\",\"which\",\"would\",\"here\",\"really\",\"get\",\"ve\",\"then\",\"m\",\"world\",\"us\",\"time\",\"some\",\"has\",\"don\",\"actually\",\"into\",\"way\",\"where\",\"will\",\"years\",\"things\",\"other\",\"no\",\"could\",\"go\",\"well\",\"want\",\"been\",\"make\",\"right\",\"she\",\"said\",\"something\",\"those\",\"first\",\"two\",\"than\",\"much\",\"also\",\"look\",\"new\",\"thing\",\"little\",\"got\",\"back\",\"over\",\"most\",\"say\",\"even\",\"his\",\"life\",\"only\",\"work\",\"many\",\"take\",\"need\",\"did\",\"lot\",\"kind\",\"why\",\"good\",\"around\",\"every\",\"different\",\"down\",\"ll\",\"let\",\"her\",\"through\",\"same\",\"being\",\"come\",\"d\",\"day\",\"year\",\"three\",\"use\",\"doing\",\"put\",\"called\",\"any\",\"today\",\"percent\",\"made\",\"after\",\"thank\",\"tell\",\"great\",\"human\",\"find\",\"didn\",\"fact\",\"talk\",\"change\",\"started\",\"another\",\"idea\",\"big\",\"last\",\"own\",\"before\",\"its\",\"never\",\"should\",\"better\",\"give\",\"thought\",\"went\",\"might\",\"important\",\"000\",\"again\",\"able\",\"together\",\"still\",\"problem\",\"off\",\"next\",\"part\",\"course\",\"system\",\"him\",\"does\",\"each\",\"start\",\"show\",\"long\",\"ago\",\"story\",\"came\",\"brain\",\"few\",\"bit\",\"between\",\"used\",\"place\",\"technology\",\"women\",\"too\",\"old\",\"mean\",\"data\",\"water\",\"looking\",\"question\",\"maybe\",\"found\",\"love\",\"doesn\",\"end\",\"example\",\"10\",\"done\",\"point\",\"four\",\"real\",\"wanted\",\"ever\",\"school\",\"understand\",\"sort\",\"live\",\"call\",\"whole\",\"always\",\"children\",\"trying\",\"may\",\"person\",\"away\",\"feel\",\"believe\",\"try\",\"million\",\"working\",\"help\",\"everything\",\"five\",\"country\",\"thinking\",\"second\",\"using\",\"information\",\"money\",\"means\",\"power\",\"took\",\"times\",\"high\",\"space\",\"number\",\"kids\",\"home\",\"become\",\"create\",\"small\",\"design\",\"making\",\"best\",\"left\",\"getting\",\"future\",\"enough\",\"man\",\"quite\",\"city\",\"without\",\"sense\",\"happened\",\"comes\",\"social\",\"probably\",\"less\",\"light\",\"energy\",\"talking\",\"am\",\"building\",\"science\",\"food\",\"body\",\"told\",\"interesting\",\"half\",\"ask\",\"pretty\",\"hard\",\"play\",\"anything\",\"lives\",\"countries\",\"such\",\"coming\",\"family\",\"stuff\",\"dollars\",\"earth\",\"moment\",\"20\",\"imagine\",\"across\",\"side\",\"while\",\"saw\",\"happen\",\"once\",\"okay\",\"build\",\"having\",\"men\",\"later\",\"experience\",\"asked\",\"makes\",\"living\",\"seen\",\"says\",\"room\",\"hand\",\"simple\",\"health\",\"ways\",\"else\",\"case\",\"yet\",\"almost\",\"young\",\"days\",\"nothing\",\"bad\",\"care\",\"happens\",\"goes\",\"move\",\"states\",\"reason\",\"computer\",\"open\",\"learn\",\"africa\",\"process\",\"inside\",\"someone\",\"six\",\"far\",\"mind\",\"project\",\"remember\",\"single\",\"picture\",\"both\",\"whether\",\"problems\",\"saying\",\"basically\",\"community\",\"already\",\"within\",\"looked\",\"myself\",\"billion\",\"often\",\"possible\",\"business\",\"planet\",\"global\",\"everybody\",\"top\",\"sure\",\"public\",\"set\",\"wrong\",\"car\",\"book\",\"keep\",\"yes\",\"answer\",\"oh\",\"sometimes\",\"hope\",\"true\",\"history\",\"war\",\"child\",\"guy\",\"instead\",\"months\",\"ideas\",\"looks\",\"matter\",\"government\",\"amazing\",\"united\",\"since\",\"cells\",\"age\",\"bring\",\"job\",\"heard\",\"until\",\"face\",\"wasn\",\"100\",\"read\",\"control\",\"isn\",\"research\",\"30\",\"words\",\"u\",\"group\",\"under\",\"self\",\"somebody\",\"built\",\"state\",\"woman\",\"turn\",\"friends\",\"beautiful\",\"line\",\"knew\",\"couple\",\"order\",\"form\",\"yeah\",\"internet\",\"middle\",\"music\",\"piece\",\"nature\",\"head\",\"though\",\"stop\",\"everyone\",\"50\",\"places\",\"video\",\"learned\",\"language\",\"run\",\"night\",\"decided\",\"word\",\"study\",\"cancer\",\"works\",\"taking\",\"became\",\"exactly\",\"species\",\"society\",\"completely\",\"education\",\"against\",\"stories\",\"large\",\"share\",\"level\",\"heart\",\"america\",\"model\",\"questions\",\"gets\",\"mother\",\"god\",\"company\",\"turns\",\"ourselves\",\"happening\",\"hear\",\"art\",\"themselves\",\"must\",\"itself\",\"kinds\",\"rather\",\"students\",\"name\",\"hours\",\"disease\",\"front\",\"house\",\"couldn\",\"huge\",\"created\",\"universe\",\"ok\",\"animals\",\"american\",\"environment\",\"worked\",\"minutes\",\"ones\",\"black\",\"1\",\"perhaps\",\"past\",\"third\",\"along\",\"finally\",\"others\",\"early\",\"sound\",\"game\",\"thousands\",\"century\",\"based\",\"least\",\"per\",\"ted\",\"lots\",\"figure\",\"free\",\"guys\",\"particular\",\"happy\",\"news\",\"learning\",\"entire\",\"won\",\"gave\",\"machine\",\"india\",\"during\",\"systems\",\"air\",\"difference\",\"outside\",\"taken\",\"natural\",\"seven\",\"given\",\"changed\",\"leave\",\"cell\",\"15\",\"close\",\"behind\",\"cities\",\"full\",\"scale\",\"difficult\",\"china\",\"takes\",\"companies\",\"area\",\"yourself\",\"reality\",\"seeing\",\"easy\",\"turned\",\"cost\",\"eyes\",\"team\",\"moving\",\"population\",\"culture\",\"york\",\"hands\",\"whatever\",\"began\",\"needs\",\"terms\",\"image\",\"needed\",\"simply\",\"beginning\",\"father\",\"local\",\"realized\",\"media\",\"death\",\"parents\",\"walk\",\"view\",\"white\",\"market\",\"parts\",\"ocean\",\"economic\",\"eight\",\"powerful\",\"known\",\"week\",\"size\",\"felt\",\"humans\",\"certain\",\"spend\",\"longer\",\"phone\",\"wonderful\",\"cannot\",\"grow\",\"common\",\"tried\",\"center\",\"fish\",\"land\",\"oil\",\"political\",\"deal\",\"interested\",\"red\",\"gone\",\"amount\",\"weeks\",\"opportunity\",\"spent\",\"paper\",\"lost\",\"quickly\",\"national\",\"blue\",\"step\",\"poor\",\"green\",\"buy\",\"growth\",\"wouldn\",\"either\",\"patients\",\"sitting\",\"ability\",\"changes\",\"write\",\"challenge\",\"south\",\"low\",\"friend\",\"growing\",\"field\",\"shows\",\"2\",\"rest\",\"born\",\"climate\",\"40\",\"test\",\"street\",\"incredible\",\"surface\",\"average\",\"program\",\"pay\",\"scientists\",\"morning\",\"physical\",\"value\",\"hundreds\",\"met\",\"girl\",\"feeling\",\"behavior\",\"economy\",\"dna\",\"complex\",\"access\",\"risk\",\"animal\",\"structure\",\"feet\",\"attention\",\"areas\",\"anyone\",\"deep\",\"watch\",\"short\",\"absolutely\",\"speak\",\"brought\",\"die\",\"bottom\",\"audience\",\"numbers\",\"stage\",\"realize\",\"images\",\"law\",\"wrote\",\"understanding\",\"knowledge\",\"books\",\"literally\",\"movement\",\"ground\",\"giving\",\"eat\",\"force\",\"alone\",\"seems\",\"telling\",\"starting\",\"hold\",\"nice\",\"sea\",\"forward\",\"developed\",\"kid\",\"individual\",\"millions\",\"support\",\"miles\",\"tools\",\"running\",\"online\",\"result\",\"act\",\"medical\",\"technologies\",\"north\",\"lab\",\"development\",\"blood\",\"fear\",\"map\",\"nobody\",\"personal\",\"issue\",\"voice\",\"key\",\"material\",\"12\",\"recently\",\"theory\",\"cut\",\"cars\",\"sun\",\"fast\",\"changing\",\"clear\",\"playing\",\"especially\",\"soon\",\"patient\",\"girls\",\"fly\",\"choice\",\"creating\",\"normal\",\"europe\",\"relationship\",\"discovered\",\"talked\",\"gives\",\"generation\",\"dark\",\"showed\",\"type\",\"seem\",\"industry\",\"chance\",\"asking\",\"rate\",\"fun\",\"color\",\"designed\",\"issues\",\"hour\",\"innovation\",\"class\",\"computers\",\"university\",\"several\",\"tiny\",\"english\",\"save\",\"focus\",\"allow\",\"solve\",\"digital\",\"developing\",\"network\",\"film\",\"special\",\"wall\",\"situation\",\"baby\",\"solution\",\"reasons\",\"box\",\"knows\",\"dead\",\"meet\",\"stand\",\"begin\",\"haven\",\"anybody\",\"impact\",\"term\",\"pictures\",\"beyond\",\"please\",\"ice\",\"produce\",\"shape\",\"non\",\"resources\",\"robot\",\"cool\",\"groups\",\"stay\",\"likely\",\"available\",\"major\",\"rights\",\"truth\",\"evidence\",\"obviously\",\"writing\",\"cause\",\"experiment\",\"drug\",\"modern\",\"becomes\",\"incredibly\",\"aren\",\"guess\",\"bigger\",\"nine\",\"product\",\"drugs\",\"lived\",\"involved\",\"month\",\"perfect\",\"google\",\"effect\",\"similar\",\"putting\",\"pick\",\"eye\",\"message\",\"web\",\"quality\",\"violence\",\"office\",\"security\",\"evolution\",\"indeed\",\"basic\",\"solar\",\"general\",\"towards\",\"drive\",\"present\",\"worth\",\"listen\",\"send\",\"revolution\",\"hundred\",\"explain\",\"died\",\"certainly\",\"ready\",\"teach\",\"journey\",\"25\",\"walking\",\"hit\",\"led\",\"international\",\"approach\",\"200\",\"scientific\",\"games\",\"chinese\",\"communities\",\"60\",\"potential\",\"crazy\",\"device\",\"camera\",\"source\",\"rules\",\"sex\",\"carbon\",\"sounds\",\"boy\",\"reach\",\"starts\",\"west\",\"examples\",\"3\",\"success\",\"software\",\"measure\",\"particularly\",\"totally\",\"suddenly\",\"action\",\"higher\",\"college\",\"code\",\"eventually\",\"democracy\",\"minute\",\"sit\",\"among\",\"largest\",\"hospital\",\"showing\",\"period\",\"notice\",\"mass\",\"develop\",\"dream\",\"onto\",\"add\",\"break\",\"memory\",\"plants\",\"zero\",\"11\",\"everywhere\",\"favorite\",\"response\",\"schools\",\"speed\",\"moved\",\"wants\",\"table\",\"movie\",\"individuals\",\"wait\",\"extremely\",\"trust\",\"medicine\",\"anyway\",\"follow\",\"biggest\",\"plant\",\"watching\",\"organization\",\"creative\",\"road\",\"choose\",\"worse\",\"500\",\"lead\",\"results\",\"exciting\",\"materials\",\"grew\",\"jobs\",\"poverty\",\"plan\",\"east\",\"positive\",\"strong\",\"fall\",\"safe\",\"essentially\",\"door\",\"object\",\"further\",\"son\",\"vision\",\"continue\",\"happiness\",\"doctor\",\"student\",\"objects\",\"role\",\"including\",\"named\",\"extraordinary\",\"standing\",\"skin\",\"conversation\",\"projects\",\"leaders\",\"usually\",\"african\",\"models\",\"allowed\",\"supposed\",\"interest\",\"faster\",\"families\",\"fight\",\"police\",\"tree\",\"connected\",\"cases\",\"5\",\"screen\",\"somewhere\",\"goal\",\"buildings\",\"shown\",\"finding\"],\"x1\":{\"__ndarray__\":\"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\",\"dtype\":\"float64\",\"shape\":[1000]},\"x2\":{\"__ndarray__\":\"ZwLRm4cDJUCiVN1jQj0UQIoGHVubVx5AhXKOqW7eDEAEOWexxNcZQMBTIL1QmiBABTut5ccaGEDsflH6fogBwE7XVX4mJiFA2/DGzBaVOEAeesA3C4o4QIXlntb0vxjA8wl6vK63GcAO4qvgPwojQAbVMaUE7B1ACGfw602GOEDRVZguMuoSwDoRy1fZ/xlA23fqX6DLMUCFBDZAkzEsQFdpy0rKnyJAdn9z+q04AkAqm9AQrhvGv6KFpM39NMg/5HTNTccNFsDHlHfnAtIgQBeBq0vl/CRAqqg6wGMoFkDxf1U3DlEsQLmtX80jvCpAH3WdhQX8EcACKtr4vVElQICPPJWaaB5ARnHEa9Y0MEDAMmDuUKvoPxQ5Dh4TvRFAUcsSU+TMMUBamCeHQzg3QO9h0si4Qx5Af88lQYm5EkA13liwhXsUwBAOIppKXSLA16Njo3QQNUC3kGuFDpoAQPFva+cRRRhAfH1P8yglF0A2P6aVHQIzQFe5tKFnNhZAN1F81CBmJMAU9+FSe8ceQHRIOH7o9BdAEZiJQv0ZyT9zL2A3DYAgwFMewzvNowjA61N73WAjNUDSxKay6R8XQNHrP9gS0zJAhSVJBA3SGsCiEQwqVXMLQP569yG86QzAsPZWK1wEFECNG7FpW1cyQFKSDVFbZjlAd2YkKFPLMUCjkrtqFhs0QLmazi66TDBAkL2gEpn1NUCBc9JbZXghQEMpyFP93BnA3J0YCC0LIcDdMmdAKuMXQLQEWeO2tChA7EtXqXcqNkDoFKFxiSMBQEbCIwz90QBAxF8ExBxAJcDwPZ0BfdQ0QPpesMoeOgPAWxRpsPf+KcAd3bWogaERwBZjY7+tiSFApsu9CJ4rHkB9h+TL2hQWwAZf5n0JtzBAP1JAeO6oE0B93Y8zKDgXwLOLpv/8wxLAde9jyNh4MEAn4AUPV4kdwHHy5/TtYOM/ivoBBHTUGMBCgK1CrMokQN514UhQgPu/EWE245dqN8Bp0ny7MqnPvzqJaLw8sC9ACxGi4GC67D9uS7VGRhwAQCpt5XRKhgXAp1+dfJFv/j9QNCOm/AIzQM+UHawHMSbAy76BtyhcM8BoycH83wUdQOn1QL1LoxRA22t5PsJYH0AbIDeSVUUWwPJtX4ABOC1Az7CpEG9kHUCsaVVxLroUQHE3gbFphxDA6hCyq1C3HcDJKBySmDwXwK0vE8pvehFA86UEbkH0MkDk9e67eZAjQBkUcct3jeg/gcOqrGQPK0DbOnT0NZEgQI3qZVHhwDVAst1rEETZLsDI5tqaPd0pQC4/OPoKXTbAHFa4nV5EEsCN5qQT1j8qwCxaWQ7hrzhAYv8mACZv7D+BJx6z0JgRQPlmKuB27BXAmyX2n8tAIEDAa/yQjgcnQFKDovgeyR7AwOpPAFKwFsA/2hkuapy1P1UyBhlZ4/A/CH8ZJRDQFcD+oclaIZIhQMLrBlcLHCdAPMZiPaoVJEC31yPmrZ4awOmPmGwDbRbA+lOHXD20GMBl1xbJaHczwG4vAZeqXTBAbCWo0iNF5b+Jk0DNbugqQLO/p339Lg5AfA6z0jvtN0ByfmIBwb4iwBaMO3ufOzTA3+kTgcAdIkBLy80phoMowDkv39buxeK/CaapqfZ1NEBzPDn+lCkgQORVR5SkZjBAtgai+ZPGLUDLHx0GwM4hQAp/g4A5XAtAArk43CMXNEDjPAoEB7YxQCkF/AAkhRjAIcObQXKVFUAOaiRBTVcqQHbTvks6oR1ALm4xosy5J8BZJLh9ry4oQCC47p8nCybA9I9kAv0/MED6J9ozGmbwP8GvLLmuARnAP5tzCULeEkDYytccs3wtQJ6ZKuDmfQrAKV8ZQm1MEsDlntpfu9UZwAqvgyiBZyRADGnfQtyZNMAW434MtWIAQGFWJdvxQApAdwXb08q7L0A92+PEVQAfQIcLoeeqyitAWQFZGyAIIMCRERjVJFonwIcx9f3ymipA+0pJOrPeIkAMW+kJBs8uQC2KLKsXAtE/AjwsfljKG8DULOxhkDIgQEFs8WimaCVAX7rWXG2qNEBpvsamYBoYQDn6PeihMSrATysOfWUII0AZzFZ7PhwSwCcBbJdGeSVALSpxHGjmMcC0pJjfuxQiQKL6j1mWxwnARNnfMl6zAkBFPSwZ94UpQIG33uLXoC5A5Qx6H+vlN0CznFpxF5UVQFzWZ1SZWivA6nnqtnDYMUBiNpNw3iQ2QBqqeAsQjChAHmqb6nb2FcAo0QOsgAMVwBQ+9mnu6CNAdeIWCNnfAMC5DMuwhKofQOB0sJ11gyFAscxCTl1nIEDKZYQi1EAlQMAuwQc4NTXA/8ZG2qutnT9CuMbz3N7+v2xq4+sooDPAcCYHc6Q2JkA0jJUvF/wIwKmKdgh0XPA/fZfMzS2kBEAW0A4+d2cwQCrQRyJ5sDhAKW5ywra7EUDcigFsNcHhv7AdkzbqxuM/dMzEDW4MIED1EnEGwO43QIe3V9x8iQtA2jpYUTfkGcCap81vmisWQCjhH6ebUiDAv4hhToP3MUDGsZV1MjAyQIdKkBY7mC5Acfb4U5KPNMACxUO1GUGFv+rZrBdKZCpAbGQ7VcDZ+T/QrZZwsh40wLzEUmM6syfAHI6I6bBx/7/xEuQd3ZIWQMP9BVdG/ilAWaILxZAhNkBfs1e+gCswQMqbyZBzQhXA65Dabg8nMUALITiDvdQLwBiQSY8RTQjAltoYSu3TKkDS+NvMkfAsQJObilSXUjDA/fvFX9H0N0DP3EF3IdkOQC0680eH2ClAvknBDTtyL0AJXMiubQ4cQCUIk8T0ryxAnOYZPagjI0D8hRFNxaj/P9Qtcndp/B5AG9F6PlrzJEAkay5t8K8xQE7TzMRF+xNAmajtWOjPD0BvDffHi/cXQGCjqHwE7yjA8pgim8AbGMDxyoGh6MMoQK7IydQBmve/L6DRQnzyH8AF9apmI/YxQPvJ6yH48SJA0UZCSMy1E0BHXiw8q04lQLm/irGtMytAXk7+aZA5AMDJcG04bNIAQAZqWvbp7ipARvKcbDQqLUDJ9uYoDD4rQKK1AYVvQCVAG9FnJfH2CcD7ygZhO70iQNBxPWYstTPA1WxklZZCD8Bbhs23odwWQBoMKumcwDNAWg39oVZ4KkASzI0HJrn6PyUVkswpHjdA4pSQTWw5NkAGjQJu8PoqQIOJAnJq5fc/D2vDW9YYOUADZWdaboQvQPrl/fxcZhLAc/sU+pquJECWEsb7hs8AwED1c+XBWTXA1JmXjgPVM0DzYgNyfOYVwHzzDSwqkxpAs6XR51ZTEEBxE9FzKL0HwCaEkN40iyxAHxpIEBnLAUDCEb0q7ZLpv+naYZi/Xy9ASyKzz0JHBEC6gWJDxOk3QN9sHAgP2SnAekqipD+vK0ASMg9DqBYOwDim+R3f0zhAjoYdNGNcIkCRl2RpaEXpv2VW/gfF3wXAKZcjFKCME0Dml2PQfsYZQFM++gukfSNAfCcwhF74M0DwVgTZAMYxQNkmqGC1V+K/mtFXOdnNCkAM9BoKTo4gQO+51BhTjRdAo/2C6aQCOUCDWz6eVDoVwFfIL2mb4Pk/ewbuUZuVEUBAPHhvrwQ0QKjZbAUU1RPA18MRJ0ivH8Augtu9aCAnQO2amOC+winAONPgygHBI8DxsIZvtbAlQGggDtILFDZA1seYgKyxL0DRzDzorgAowJ98t2RQ0CxA9YOZ93lQlb8Et5f//knrv0kstYaaBTTAFN0sOfZoFUCr7UZuUywcQFTlf950MydAX2wPx6E3M0BcLUzhCcInQFMbkGhH6iNAJrRBzvIiJEAzN+q3vFsVQOv+SxkotDRAuEHOEqCz9b/gJI9ndV0YQABq4oDCATRAS7Fj9Yq4GkDHmzwEI8UQwDGbsECKKBXACW0gcOLiGEAaZKcMGIs0wGJjlOkd3yBAUe6pcQu2IECTsB9QJ4AzQA4/NQfUrCRAHWvdt4lKMkAc5USkRY6OvxeratfTcSFA5b7iwnHQGEChckfVPVszQFGve6NT3h9AhFt3yqE89z/lWi0k9EMcQNfPHkOugSBA0qvVHCzZJEAEvsYawhDxv61Y6Q8QMg/AqGImtrXU9L/+QLfx9SogQF9llCgClCZAqdN+TqPkIECUZMTjnbotQJct6dT5WCTAWZs+mQltFEADJtbAx34MQPI5sA+fCBhA+FKl0SrjFMCdL9+xlnAyQAk9wUkKwSHAyoA/aoJ5KED76dCsrnYyQJJQzb3IeSNAg3XrEUMoJsDw4V3aEOclwNy5wBoYwCdAigAZ5p68NUDIB0e7+N0pQCt7e9enxiZAbHBlgqfW87/0JlQ0Ku4lwPhLzbfJhBFAF6KXy9o0JUDO8nQYTNM1wGhq+oXiRzFAObv1wj6UMUBQxr3o+jQlQEZQi2ouuChAejHIoZ9eNcCSVle8KY4xQADLrEXpOCfAwsOc4WN9JUBEWtOYygHwPygBSFVOUixA3WlF9k656b9r20Q3vGHxP41NHzJg4TBA6hJkcjZ9EEBZr4M/IngnQPhNwXM6xjhAE0eQir3EIEDC0eO84ughQG6BfWZHUArAZS5xFcjoMcCiF9MlUUQyQD6UHHHXCixAc2OjRGiz8L+bK58LHQMqQGg66+4LdSfA5Dnyyy72IEBeSLmZpv8iQHmpcuwqpi9AZc+f84uuFkC6QPB8epwhQLdVsPkB+SRA5LJVXrtSib/9UxzDf5Y1wDyk1m78HjVAoyqPEctJI0CU69g+3sf8v+C7p1XUOy9A8ytqbakgJ0Cog7NRpL0WwPLtiR81TAnAXy3ZEnwVHUBIJUY8dugoQDvprVfh3y9ADUeq0wQrH8Awram66rcjQNZ0vI7uLxLACbyb5o57/r9t2K5EnqEzQIl7UXYQwDNAvBS0E307FkBT6Y6iaIAzQCktBef6AQNAtMQWBzl1MUAuAesc8CwcQE87/qDQ0ytAQwguYeuHNUDVUJnEQcIiQE7H5SrK9CfAqGOgxelPLEBDZcKl1FsawEPL48E1XB3AS7SJsASsEEATg3BQAD8NQFg5rLEH5iZAux9hibNW5j/hPKYhXyY1QNIkfmSRqfC/DMEibhC2M0BHE5oe8OQgQMMxQLBZRDVA1WkhPLfhGMD82CD2L88vQDFokGRdmzFAD+2kF0wnFUAqlDF5ZPM3QFO+znsiMhRAMLe38VvKFMA1EaqgdeEvQJb/Gw//YhhAVQGHfFLxE0C21cP68E4iQCwXF4BEeR1A3ObhoD+lCUAoTj3RUfMvQDApPILeM7s/oBZiAznYM0CAM/OA6GAmwAzuJ4wjRS9AfimI7g/D8b8YBGrE8IQUwKm+aUNBVzJAIIVD2dZ48T96YPawb6I1wF93BhhkHCRAZYP+dwIRKMD78PXP2zsMQMocCp+gyhTA3Z+/1u82+z/ifNQ4JZg1QMyaMjZPCSPAUu0uPHYhJMBmP63jzEwjQGUtHe5zgy3AHgfkdWgSIcAXSetFXBUtQMjjeubCPTZAi2+mCi6uNsCAYhPanJgXQLPkc40ilCrA3Lxb6p7LLUBZURgqcZ81QOTM5ke8RzJAY1G+rM+5J0DWqiixKKIaQBcFTYpOtyVAQVokbK9dK0CXVzkSPcbyP6g2q44beCJAlJ07Q5RSCsAwcoVjCp8lQCl/hw5x7ifANobe+CacJsDaPKh5xEYzQA0PZ4RVyydAy+45ag7RKkCAQ9CKVby4v3so+KtddeE/9uJY6fK8KUCDVyjBrTs0wBPH0DWwgCFA8IcL/lV46b/vUaHdSyIpQKKjoOvkvCdAIrxq2z3ZNMCJYyTB/tYZQFrk7ZV4jNM/dYtVUxCZNUCENIRsWO4TQF58KCeVIC1A1X+TJoWzM0B6aLeW2uUnwFK0xoBKTR7AC78hAq1kNUCad6tOO08pQKzvytKRWTBAYHDW/HMbL0C7sKHNsuDyv73tiUNzujNAls4GC5gX4j84iUUKEQA1QAhScLPYFRVAat1bi/QTJkDshXhiGTn4P1vP4K0VOjNAspL6TSE3L0CiI9XBFkAqwOA+UpalYhVAguPf36E+FkCyEcD5W68YwFu42rNdTwfAoOhidWjaLkDLua506b8kQB3d7x9zsQjApMrVgMHSG0DnDLZXEfcRQMnlDoGMoxBAMAxek5PWMkCGi8QZt/4FwNt+RrstXjBA/duSqYGtKUBzUnfRM6k4QFXZhCpiYSZAAOozce21K0Dn7kSC17TxPxVCXCTlpzFAL/on3eFZNEAAMclui8YlQJ9KAlmzZDJACXs9g8lKNMAZfh5TjgUlQLTZXI09C/Q/Sdg9ehDFFsBMtrWz4VYqQPvvoEgqUQrAnz1C/KuuM0Cyj3p7Af4mQNjtUdjcCiZAhIaH+/ChDkAzWhWpHq8dQDdZqK914SBAcZrebYC8GMAmc5oE6hwqQOJA2Nd1QCVA2xP7iOucCcBV9hmJCfcFQIrf+88f8ydAsT+kTA3RKECOUkkD1o0pQNAkfHwGgTFAHhh5FL1NL0D57N/6EbUVQJ3yz8HVMSRA+My1oLoYsL9g0E+hRsczQJPc4+8H6hTAmo3cb/htKEA32xhNUAkdwKS2di712CBAN1HdJRSL7r9W+85jA+gYQO3SKbeZwDFA0lo7J7VZJEAlE2NSTGMfQCLERqYomiJAtceGqDmiJEAK0YOvzdonQEgGKy5WtzJAEtxiZKKEIkDRomJNMBcXQPZJaOVLnjZAbu5FXkgl+j/+DMK13PkxQGUQMbTsTjBATkP6yxFDMUDVcQUjLj0qQOi5jKk/rSjAGj4ECzXYKkBWvkBPpgsQQESrYf4sM/U/6t8vCJn8KkDmcunNjZ8AwD8FuwKIoTXACDwAuMue2L/YHf2QTPgHQFNtBWAktDJAS5hY7j1pNcD/miN5gEIoQDNr2Qe1XB5AmpnMQNMvI0DIQKWtLekkQBHiaWw8LDfAzg+NwiO3I0BZCCIF978mQJbweB2a6TVAXHMrXPWdFsDFk434xS4pQOhjMOoX6zBA4GSqKx58LcBn0Bgm/If9v2ouNand2wZAxzGJrb/fJ0BtYDRXrwkvQD6neLrLljJAAhQ9XKEmKkCKmX6AgkMmQB4Y6AGzdCtAHFgEkFHJNUAQ+4L6xfUnQLjlyHl56SpASQi6oXELB8AfWiJCtx0wQOc/eqLl8TRAe65baKfv0L/GdZUj67omQEhjUdUUlChAO47AE1EAGUC3LN38rHUeQGV8dpp8dipAGCKvmrQN6z870XGVtdQkQMtyFdx4zSFAEc/dCeCKIECTybFDBm4yQFv8UGJOEBxAKvwjn4uvMkCQEWw7yz4yQPSexSufKTBAWgrlI9gECcCO6velDBQwQAz9r9IswDBAsN9woX6TMUCQplkQbFYTQDGdEz2jVi9AyYOhRdCxIkBNWVpShM0iQOtH+94qeidArj/G/8SeL0Ahk5i2qpsYQPd+1XoALiPACO+gW9FeB8AXgdQJWK8QQKhGZXiyYCdAcTe9vEjiIEDjYsfWNJAlQOStbkoeKhfAILhybKLwpT/vxuYaFH4RQNjvpmslTihAuRphQU5mLcBiYBhMur8qQI50iu5gXQfAYxSSwJk+M0AIFYEQpJT0P9kQTWa7DiRAD/A3nszrKkDJJ5mciIcrQKVJr7qlhDJAAwwp3QoGM0B6HT7ha7wowKphK0iEDCdAmJcttAmzMUBTYVqySCkkQGSoVzO9ZClA8uSW35H+KUBv/fcn7WvDP/Xbld7O6CdAi0UH3NhLLEC5P36Y8ZkaQOleAwD2aydA2MaOIYUYK0AOSRyJ6YQ0wGww6jn8+CHACZ3Ex8tRLkBdL3kA8qEmQLbelwa72DNAZU9qar8rJUAG5jVAsoQZQI7OtbW9FSpA0Wv93GmDIUDA72sAzVEAQO+evf+11iJA6ikPYi5YGECHpFy/+4AXQCPoi5F4EThASm1aqJH4JkC8Wk2WUl4pQLvwPiOS7SlAEoIOp5I6HkB0B4cjhgMowKdCPNYs+C1AkRH7eX789r8cCDWdMYz9v/RMrZDWzzhAEYkKkvCBKEAO+GPoR2EmQGx+6UaHtADArAZB8HmzKEB2bCJqJTgkwDkCQyuO4zBAmzI+obsmKEC49tEG6SgNwLEh/NiJejVABnUuuPJQHEAA1bebfJAlQPY1uGwtiP8/iVNtcXbbNEBhj72/QwUYwJv/Lh9yvjBAZJBoHdMRDEC44rqrliQzQLc1ef6DHQVARBxuJnJ+M8BScou1RFglQNO3sSGBiBhAgQsb+ABLJ0CNqJ6rHxMtQLsGIdUMhSpAEbtJslKYL0DAzy5MRoEpQG875LKHxC1AiW5MeWuoKkAmo0l6tJEfQH28/PdbsSNApnjQwUaQH0Ceqavkq6gqQJaPZyWiqBFAKibWKtgVK0AoZrHvkcMjwA/YvzBkWCFA1zh5be89B8CbvlDxP/4MQINQrAXnEylA2BCNOtaVJUACec2J/usnQMZTvq6AOiRAathVX81Syr9pIwrvC9ssQHxPrwxTJi1AR0mfilgqMkAEtMJIT94WwNlGwEC0zME/kwEVxp2wJUBSU/AHx3UvQM37vmlMRytAG53W1H3YLECcAlSIBQ40QLLidVm2LCVAbVAOqpIkIUDqEw5j4b01QIdtCluxNCVA3EcY80xQHUCKpgN3PSc1QJbgMLLiqi5AAUEQvt1nMUAEeB3X+IEpQB/ig5TCly1AC7q1ZRO+HUBdslg3go0cQAFbwQ4fEStAvmGMZrywJkAuDY2xC98wQN9VGxlLTS5A6ptMUFZQHMCqapHdxBYYQKjv77oc/CRAq7m6OORT47/4GStLQ3MRQHzFTOi6XjTAw7GPAoJzKkAgqhlJpjs1QKZug2vYc/G/CwCb2wThFUAS09lRWYgYwKlu56PZrx5Awn5bf/o4JECFpzBu8NUsQATfP8LLnyVAEG3dAiQDJEAwQEWNCrAoQIRhWsQXHSJAwY9cIB4MHUCgr+UJ3wIqQCvCAwUXITFAire+RTjUMECcWBEP36UPQB31vXU+sjJAbicq1ieWL0CtaN0uAGEiQAANEByGMidAZG/qXCnVKkBx1WtQtLUuQMjyVyZB4BbA5ajnGEMzJUBlGAUEktAmQOcMpdjPCBdAA8B5BQdtJ0AKKBXMjcMkQExzbRPaNTBAXA27rPwINMCjhsO3dB8wQHr84cqZHvW/RwxHrcXqHkBxIn+5ex8QQNpd/dDYzy5AEefhgfGWJkCNJ3NyiXM1wFRB1CUV2P4/6LjZDq2EI0CEc3cRc84AQJP59PnSEjJAX+TChofxK0AVNqHSez41wMI2HtfK0S5AGikPfVD0IkCjv8oIEZIVQIWDV1X2EjZAtn3/acNtNcCdWbB1VNkwQLmAtQJYyBhAzjjDPMAZJkBLn6CGklofQHhRNM4THDFASW7BiV2nMkDBcUQxWDghQFc6HHChqCpA/KPdDTTAI8AY2/RAHt0SQKkhWeSwcydAeei+njGkG8BO2YL8JOgnwKEusnUAJjJAqDmhGdygNcCJ5stKrjYrQF+GbxehvyhARd1y0OZAMUCVkXhYD/wiQAjOQRt4xw9AFTvCYz0IFEDrZrYckuYtQLEdy3vbGxFANw2sVetfCEAxi1FOzTooQIUQomDTeQdAXF6Yv43/MEBCxhMQMGMYwP/kQ0+GmCVAMS741TgeBUDmrwP9zYX9P1+65Fz3tgxAFsD0LxDW/b8zsIDJoUAmwG9lMk5TKzNAwxAr10CSK0BzN6ZSkk4vQINKqYFNhSdADD4geyPpsD+XdPB6vIopQA+wsCg2PyVAL1UuDR4ZLUBgWVinwT80QOv43h5LsCtAP/GXcOGoNMAa3g68zCIUQJ8H6svIhAdAEG6bLSuyJ0Cc6746+KA2QGvk5fmsjCJAMjhdSzWp4L+PXv5eR1QHwGzLg03FXxtAeT8sPGiBIkDvgX1ldQs2QDjuo9V6FiNATYMOSXcMGEAgfYBrPsUpQNVricZi3i9AluFePw5wF0B+yzE4sGQrQJK488lnTwBAXtrQD6bCKkDECatrd2L/P4GdElOLPDJAAtW5wI7RJUA07qxeSMwhQPN8By/rMSlAHLVIHsdDEkCHprDcQlI1wGnuN/rS/yhALZaNvNNSMkC8IRkJqKciQDSuP7ZHaDNApJd/5vJf6j/4Kq+/WrI1QBsXTLXy8DBAGKvk1PNRKEAYQPSgK6sowK0DaVcPhyVAeabbmDTrI0DS7nW91qckQB021rX61hpAQABWNDolIECUTld15mMWQLfG4uBwwiZAf5sd8lAPC0CzgRJGBfAQQI+KrIUvyCtANZ5rOsIpKEBe0ODknS0tQCiL9Zej5BNAqrwxkkKVCEB3XKO/vO8yQBM7HYWjsC5Acfm4lyAMBUBOUYZEA5EFQNoGC16aTSJAqr8uhJuMB0AnXfoGvdohQLbywqzXTylAjB9Tl8CkM0DPLqWNYKI1QM+MDwyEYhxA0fmkqohlJsCfoK1eHyYzQO+jRx97XApA6iDXR6uxDUDIBAz5QycuQMIFgj6b0xBAZeRMnlbjNkDHFoarkc0oQH+xLLkioBRAt8CQyj3VIUBCYCof700HQJ3+s/XIfTRAt8jdBjJ0NcCoL20RkHMgQGy+pAx4GxBAiIz2n175KUBh3QiDa9EyQDtpyOBE4uQ/FhTcKT5hKUA=\",\"dtype\":\"float64\",\"shape\":[1000]}}},\"id\":\"eb8f0c8f-5080-4ac7-8289-173cc270d1cd\",\"type\":\"ColumnDataSource\"},{\"attributes\":{\"fill_color\":{\"value\":\"#1f77b4\"},\"line_color\":{\"value\":\"#1f77b4\"},\"size\":{\"units\":\"screen\",\"value\":8},\"x\":{\"field\":\"x1\"},\"y\":{\"field\":\"x2\"}},\"id\":\"79415fd4-9f3d-455a-8deb-d6c13b6345a9\",\"type\":\"Circle\"},{\"attributes\":{\"below\":[{\"id\":\"8a3e9eb2-3268-4335-b18d-c38e0ce03e89\",\"type\":\"LinearAxis\"}],\"left\":[{\"id\":\"cc8879bd-de12-42b4-a553-81214ead5a84\",\"type\":\"LinearAxis\"}],\"renderers\":[{\"id\":\"8a3e9eb2-3268-4335-b18d-c38e0ce03e89\",\"type\":\"LinearAxis\"},{\"id\":\"e74bd7a5-616e-4a56-90ba-f2a19b4a4721\",\"type\":\"Grid\"},{\"id\":\"cc8879bd-de12-42b4-a553-81214ead5a84\",\"type\":\"LinearAxis\"},{\"id\":\"5ade0552-e3a2-41f5-a66e-d7a846f9ba96\",\"type\":\"Grid\"},{\"id\":\"49ec765d-671f-4374-b8a4-9a2ba367f144\",\"type\":\"GlyphRenderer\"},{\"id\":\"f8264a97-3953-4f6e-8ca9-9887727248f1\",\"type\":\"LabelSet\"}],\"title\":{\"id\":\"666f9b43-4dcc-447d-a5de-3fb688cef563\",\"type\":\"Title\"},\"toolbar\":{\"id\":\"f5660492-156e-4624-bd37-8d378d3f9fc6\",\"type\":\"Toolbar\"},\"toolbar_location\":\"above\",\"x_range\":{\"id\":\"66595d2f-92e9-4c4f-bc13-887cc622b90c\",\"type\":\"DataRange1d\"},\"x_scale\":{\"id\":\"3bf5a3ab-3123-4552-969f-71824fee1dcd\",\"type\":\"LinearScale\"},\"y_range\":{\"id\":\"7071f58c-188b-4699-a027-fead4cb6ec14\",\"type\":\"DataRange1d\"},\"y_scale\":{\"id\":\"50b25a88-8725-47c2-8f48-37a257e4f2e7\",\"type\":\"LinearScale\"}},\"id\":\"153ee788-325b-4532-97ff-2f4c61fe7494\",\"subtype\":\"Figure\",\"type\":\"Plot\"},{\"attributes\":{},\"id\":\"e510133f-0a9f-4495-b363-9bcac52997bc\",\"type\":\"PanTool\"},{\"attributes\":{},\"id\":\"572d2ffa-72e4-4930-913b-114c1d1b97e8\",\"type\":\"BasicTickFormatter\"},{\"attributes\":{\"callback\":null},\"id\":\"7071f58c-188b-4699-a027-fead4cb6ec14\",\"type\":\"DataRange1d\"},{\"attributes\":{},\"id\":\"008a47d2-e02f-47f4-a228-46e074fee3d4\",\"type\":\"WheelZoomTool\"},{\"attributes\":{\"plot\":{\"id\":\"153ee788-325b-4532-97ff-2f4c61fe7494\",\"subtype\":\"Figure\",\"type\":\"Plot\"},\"ticker\":{\"id\":\"004a4f15-b8b2-4230-8b94-4a9cbb8efbca\",\"type\":\"BasicTicker\"}},\"id\":\"e74bd7a5-616e-4a56-90ba-f2a19b4a4721\",\"type\":\"Grid\"},{\"attributes\":{\"active_drag\":\"auto\",\"active_inspect\":\"auto\",\"active_scroll\":\"auto\",\"active_tap\":\"auto\",\"tools\":[{\"id\":\"e510133f-0a9f-4495-b363-9bcac52997bc\",\"type\":\"PanTool\"},{\"id\":\"008a47d2-e02f-47f4-a228-46e074fee3d4\",\"type\":\"WheelZoomTool\"},{\"id\":\"ba41f911-ca8f-4edc-9ce0-7fd3a6c60d54\",\"type\":\"ResetTool\"},{\"id\":\"3d7670d8-eb47-4d49-82dd-0ea3d50674d0\",\"type\":\"SaveTool\"}]},\"id\":\"f5660492-156e-4624-bd37-8d378d3f9fc6\",\"type\":\"Toolbar\"},{\"attributes\":{\"fill_alpha\":{\"value\":0.1},\"fill_color\":{\"value\":\"#1f77b4\"},\"line_alpha\":{\"value\":0.1},\"line_color\":{\"value\":\"#1f77b4\"},\"size\":{\"units\":\"screen\",\"value\":8},\"x\":{\"field\":\"x1\"},\"y\":{\"field\":\"x2\"}},\"id\":\"d7bc5fef-5e09-4a1a-92ab-edac49134dcf\",\"type\":\"Circle\"},{\"attributes\":{},\"id\":\"004a4f15-b8b2-4230-8b94-4a9cbb8efbca\",\"type\":\"BasicTicker\"},{\"attributes\":{\"data_source\":{\"id\":\"eb8f0c8f-5080-4ac7-8289-173cc270d1cd\",\"type\":\"ColumnDataSource\"},\"glyph\":{\"id\":\"79415fd4-9f3d-455a-8deb-d6c13b6345a9\",\"type\":\"Circle\"},\"hover_glyph\":null,\"muted_glyph\":null,\"nonselection_glyph\":{\"id\":\"d7bc5fef-5e09-4a1a-92ab-edac49134dcf\",\"type\":\"Circle\"},\"selection_glyph\":null,\"view\":{\"id\":\"5445b725-0775-43a5-a492-b38ed691089a\",\"type\":\"CDSView\"}},\"id\":\"49ec765d-671f-4374-b8a4-9a2ba367f144\",\"type\":\"GlyphRenderer\"},{\"attributes\":{},\"id\":\"9e50e803-cb3f-4cbb-9ca5-15f6b23db77d\",\"type\":\"BasicTickFormatter\"},{\"attributes\":{\"plot\":{\"id\":\"153ee788-325b-4532-97ff-2f4c61fe7494\",\"subtype\":\"Figure\",\"type\":\"Plot\"},\"source\":{\"id\":\"eb8f0c8f-5080-4ac7-8289-173cc270d1cd\",\"type\":\"ColumnDataSource\"},\"text\":{\"field\":\"names\"},\"text_align\":\"center\",\"text_color\":{\"value\":\"#555555\"},\"text_font_size\":{\"value\":\"8pt\"},\"x\":{\"field\":\"x1\"},\"y\":{\"field\":\"x2\"},\"y_offset\":{\"value\":6}},\"id\":\"f8264a97-3953-4f6e-8ca9-9887727248f1\",\"type\":\"LabelSet\"},{\"attributes\":{\"callback\":null},\"id\":\"66595d2f-92e9-4c4f-bc13-887cc622b90c\",\"type\":\"DataRange1d\"},{\"attributes\":{},\"id\":\"3d7670d8-eb47-4d49-82dd-0ea3d50674d0\",\"type\":\"SaveTool\"},{\"attributes\":{\"dimension\":1,\"plot\":{\"id\":\"153ee788-325b-4532-97ff-2f4c61fe7494\",\"subtype\":\"Figure\",\"type\":\"Plot\"},\"ticker\":{\"id\":\"e101c4cb-d0ce-4c2e-be89-d4cd9527a0c5\",\"type\":\"BasicTicker\"}},\"id\":\"5ade0552-e3a2-41f5-a66e-d7a846f9ba96\",\"type\":\"Grid\"},{\"attributes\":{},\"id\":\"e101c4cb-d0ce-4c2e-be89-d4cd9527a0c5\",\"type\":\"BasicTicker\"},{\"attributes\":{\"formatter\":{\"id\":\"9e50e803-cb3f-4cbb-9ca5-15f6b23db77d\",\"type\":\"BasicTickFormatter\"},\"plot\":{\"id\":\"153ee788-325b-4532-97ff-2f4c61fe7494\",\"subtype\":\"Figure\",\"type\":\"Plot\"},\"ticker\":{\"id\":\"e101c4cb-d0ce-4c2e-be89-d4cd9527a0c5\",\"type\":\"BasicTicker\"}},\"id\":\"cc8879bd-de12-42b4-a553-81214ead5a84\",\"type\":\"LinearAxis\"},{\"attributes\":{},\"id\":\"ba41f911-ca8f-4edc-9ce0-7fd3a6c60d54\",\"type\":\"ResetTool\"},{\"attributes\":{\"plot\":null,\"text\":\"word2vec T-SNE for most common words\"},\"id\":\"666f9b43-4dcc-447d-a5de-3fb688cef563\",\"type\":\"Title\"},{\"attributes\":{},\"id\":\"50b25a88-8725-47c2-8f48-37a257e4f2e7\",\"type\":\"LinearScale\"},{\"attributes\":{\"source\":{\"id\":\"eb8f0c8f-5080-4ac7-8289-173cc270d1cd\",\"type\":\"ColumnDataSource\"}},\"id\":\"5445b725-0775-43a5-a492-b38ed691089a\",\"type\":\"CDSView\"},{\"attributes\":{\"formatter\":{\"id\":\"572d2ffa-72e4-4930-913b-114c1d1b97e8\",\"type\":\"BasicTickFormatter\"},\"plot\":{\"id\":\"153ee788-325b-4532-97ff-2f4c61fe7494\",\"subtype\":\"Figure\",\"type\":\"Plot\"},\"ticker\":{\"id\":\"004a4f15-b8b2-4230-8b94-4a9cbb8efbca\",\"type\":\"BasicTicker\"}},\"id\":\"8a3e9eb2-3268-4335-b18d-c38e0ce03e89\",\"type\":\"LinearAxis\"}],\"root_ids\":[\"153ee788-325b-4532-97ff-2f4c61fe7494\"]},\"title\":\"Bokeh Application\",\"version\":\"0.12.7\"}};\n",
       "            var render_items = [{\"docid\":\"679edb77-3eae-461d-8c76-379365028b89\",\"elementid\":\"675bb094-4a6d-4ca4-b0e8-30e5da3735af\",\"modelid\":\"153ee788-325b-4532-97ff-2f4c61fe7494\"}];\n",
       "            \n",
       "            Bokeh.embed.embed_items(docs_json, render_items);\n",
       "          };\n",
       "          if (document.readyState != \"loading\") fn();\n",
       "          else document.addEventListener(\"DOMContentLoaded\", fn);\n",
       "        })();\n",
       "      },\n",
       "      function(Bokeh) {\n",
       "      }\n",
       "    ];\n",
       "  \n",
       "    function run_inline_js() {\n",
       "      \n",
       "      if ((root.Bokeh !== undefined) || (force === true)) {\n",
       "        for (var i = 0; i < inline_js.length; i++) {\n",
       "          inline_js[i].call(root, root.Bokeh);\n",
       "        }if (force === true) {\n",
       "          display_loaded();\n",
       "        }} else if (Date.now() < root._bokeh_timeout) {\n",
       "        setTimeout(run_inline_js, 100);\n",
       "      } else if (!root._bokeh_failed_load) {\n",
       "        console.log(\"Bokeh: BokehJS failed to load within specified timeout.\");\n",
       "        root._bokeh_failed_load = true;\n",
       "      } else if (force !== true) {\n",
       "        var cell = $(document.getElementById(\"675bb094-4a6d-4ca4-b0e8-30e5da3735af\")).parents('.cell').data().cell;\n",
       "        cell.output_area.append_execute_result(NB_LOAD_WARNING)\n",
       "      }\n",
       "  \n",
       "    }\n",
       "  \n",
       "    if (root._bokeh_is_loading === 0) {\n",
       "      console.log(\"Bokeh: BokehJS loaded, going straight to plotting\");\n",
       "      run_inline_js();\n",
       "    } else {\n",
       "      load_libs(js_urls, function() {\n",
       "        console.log(\"Bokeh: BokehJS plotting callback run at\", now());\n",
       "        run_inline_js();\n",
       "      });\n",
       "    }\n",
       "  }(window));\n",
       "</script>"
      ]
     },
     "metadata": {},
     "output_type": "execute_result"
    }
   ],
   "source": [
    "p = figure(tools=\"pan,wheel_zoom,reset,save\",\n",
    "           toolbar_location=\"above\",\n",
    "           title=\"word2vec T-SNE for most common words\")\n",
    "\n",
    "source = ColumnDataSource(data=dict(x1=words_top_ted_tsne[:,0],\n",
    "                                    x2=words_top_ted_tsne[:,1],\n",
    "                                    names=words_top_ted))\n",
    "\n",
    "p.scatter(x=\"x1\", y=\"x2\", size=8, source=source)\n",
    "\n",
    "labels = LabelSet(x=\"x1\", y=\"x2\", text=\"names\", y_offset=6,\n",
    "                  text_font_size=\"8pt\", text_color=\"#555555\",\n",
    "                  source=source, text_align='center')\n",
    "p.add_layout(labels)\n",
    "\n",
    "show(p)"
   ]
  },
  {
   "cell_type": "markdown",
   "metadata": {},
   "source": [
    "### Part 5: Wiki Learnt Representations"
   ]
  },
  {
   "cell_type": "markdown",
   "metadata": {},
   "source": [
    "Download dataset"
   ]
  },
  {
   "cell_type": "code",
   "execution_count": 27,
   "metadata": {
    "collapsed": true
   },
   "outputs": [],
   "source": [
    "if not os.path.isfile('wikitext-103-raw-v1.zip'):\n",
    "    urllib.request.urlretrieve(\"https://s3.amazonaws.com/research.metamind.io/wikitext/wikitext-103-raw-v1.zip\", filename=\"wikitext-103-raw-v1.zip\")"
   ]
  },
  {
   "cell_type": "code",
   "execution_count": 34,
   "metadata": {
    "collapsed": true
   },
   "outputs": [],
   "source": [
    "with zipfile.ZipFile('wikitext-103-raw-v1.zip', 'r') as z:\n",
    "    input_text = str(z.open('wikitext-103-raw/wiki.train.raw', 'r').read(), encoding='utf-8') # Thanks Robert Bastian"
   ]
  },
  {
   "cell_type": "markdown",
   "metadata": {},
   "source": [
    "Preprocess sentences (note that it's important to remove small sentences for performance)"
   ]
  },
  {
   "cell_type": "code",
   "execution_count": 35,
   "metadata": {
    "collapsed": true
   },
   "outputs": [],
   "source": [
    "sentences_wiki = []\n",
    "for line in input_text.split('\\n'):\n",
    "    s = [x for x in line.split('.') if x and len(x.split()) >= 5]\n",
    "    sentences_wiki.extend(s)\n",
    "    \n",
    "for s_i in range(len(sentences_wiki)):\n",
    "    sentences_wiki[s_i] = re.sub(\"[^a-z]\", \" \", sentences_wiki[s_i].lower())\n",
    "    sentences_wiki[s_i] = re.sub(r'\\([^)]*\\)', '', sentences_wiki[s_i])\n",
    "del input_text"
   ]
  },
  {
   "cell_type": "code",
   "execution_count": 36,
   "metadata": {},
   "outputs": [
    {
     "name": "stdout",
     "output_type": "stream",
     "text": [
      "4267112\n",
      "853422\n"
     ]
    }
   ],
   "source": [
    "# sample 1/5 of the data\n",
    "shuffle(sentences_wiki)\n",
    "print(len(sentences_wiki))\n",
    "sentences_wiki = sentences_wiki[:int(len(sentences_wiki)/5)]\n",
    "print(len(sentences_wiki))"
   ]
  },
  {
   "cell_type": "markdown",
   "metadata": {},
   "source": [
    "Now, repeat all the same steps that you performed above. You should be able to reuse essentially all the code."
   ]
  },
  {
   "cell_type": "code",
   "execution_count": 37,
   "metadata": {},
   "outputs": [],
   "source": [
    "sentences_wiki[:10]\n",
    "_sentences_wiki=sentences_wiki"
   ]
  },
  {
   "cell_type": "code",
   "execution_count": 38,
   "metadata": {},
   "outputs": [
    {
     "data": {
      "text/plain": [
       "['assiniboine',\n",
       " 'returned',\n",
       " 'to',\n",
       " 'canada',\n",
       " 'in',\n",
       " 'june',\n",
       " 'and',\n",
       " 'was',\n",
       " 'briefly',\n",
       " 'used',\n",
       " 'as',\n",
       " 'a',\n",
       " 'troop',\n",
       " 'transport',\n",
       " 'before',\n",
       " 'a',\n",
       " 'boiler',\n",
       " 'room',\n",
       " 'fire',\n",
       " 'on',\n",
       " 'july',\n",
       " 'effectively',\n",
       " 'ended',\n",
       " 'her',\n",
       " 'career']"
      ]
     },
     "execution_count": 38,
     "metadata": {},
     "output_type": "execute_result"
    }
   ],
   "source": [
    "sentences_wiki = []\n",
    "for sent_str in _sentences_wiki:\n",
    "    tokens = re.sub(r\"[^a-z0-9]+\", \" \", sent_str.lower()).split()\n",
    "    sentences_wiki.append(tokens)\n",
    "sentences_wiki[0]"
   ]
  },
  {
   "cell_type": "code",
   "execution_count": 39,
   "metadata": {
    "collapsed": true
   },
   "outputs": [],
   "source": [
    "# ...\n",
    "model_wiki = Word2Vec(sentences_wiki, size=100, min_count=10, workers=3)"
   ]
  },
  {
   "cell_type": "code",
   "execution_count": 40,
   "metadata": {},
   "outputs": [
    {
     "data": {
      "text/plain": [
       "[('decline', 0.794704794883728),\n",
       " ('productivity', 0.7198017239570618),\n",
       " ('stability', 0.6954653263092041),\n",
       " ('degradation', 0.6887619495391846),\n",
       " ('recession', 0.687804639339447),\n",
       " ('decreasing', 0.681931734085083),\n",
       " ('availability', 0.6758161783218384),\n",
       " ('decrease', 0.6749587655067444),\n",
       " ('instability', 0.6704801321029663),\n",
       " ('diversity', 0.6702239513397217)]"
      ]
     },
     "execution_count": 40,
     "metadata": {},
     "output_type": "execute_result"
    }
   ],
   "source": [
    "model_wiki.most_similar(\"growth\")"
   ]
  },
  {
   "cell_type": "code",
   "execution_count": 41,
   "metadata": {},
   "outputs": [
    {
     "data": {
      "text/plain": [
       "[('woman', 0.84726881980896),\n",
       " ('guy', 0.8047351837158203),\n",
       " ('lady', 0.7710995674133301),\n",
       " ('girl', 0.7598649263381958),\n",
       " ('boy', 0.7524293661117554),\n",
       " ('gentleman', 0.7184523344039917),\n",
       " ('kid', 0.7166115641593933),\n",
       " ('soldier', 0.7034953236579895),\n",
       " ('rabbi', 0.6946963667869568),\n",
       " ('poet', 0.6814138889312744)]"
      ]
     },
     "execution_count": 41,
     "metadata": {},
     "output_type": "execute_result"
    }
   ],
   "source": [
    "model_ted.most_similar(\"man\")"
   ]
  },
  {
   "cell_type": "markdown",
   "metadata": {},
   "source": [
    "#### t-SNE visualization"
   ]
  },
  {
   "cell_type": "code",
   "execution_count": 42,
   "metadata": {},
   "outputs": [
    {
     "name": "stdout",
     "output_type": "stream",
     "text": [
      "['the', 'of', 'and', 'in', 'to', 'a', 'was', 's', 'on', 'as']\n"
     ]
    }
   ],
   "source": [
    "import collections\n",
    "counter=collections.Counter()\n",
    "for sentence in sentences_wiki:\n",
    "    counter.update(sentence)\n",
    "words_top_wiki=counter.most_common(1000)\n",
    "words_top_wiki=list(map(lambda x:x[0],words_top_wiki))\n",
    "print(words_top_wiki[:10])"
   ]
  },
  {
   "cell_type": "code",
   "execution_count": 43,
   "metadata": {
    "collapsed": true
   },
   "outputs": [],
   "source": [
    "# This assumes words_top_wiki is a list of strings, the top 1000 words\n",
    "words_top_vec_wiki = model_wiki[words_top_wiki]\n",
    "\n",
    "tsne = TSNE(n_components=2, random_state=0)\n",
    "words_top_wiki_tsne = tsne.fit_transform(words_top_vec_wiki)"
   ]
  },
  {
   "cell_type": "code",
   "execution_count": 44,
   "metadata": {
    "scrolled": false
   },
   "outputs": [
    {
     "data": {
      "text/html": [
       "\n",
       "\n",
       "    <div class=\"bk-root\">\n",
       "        <div class=\"bk-plotdiv\" id=\"6cd06bb3-5531-4cc0-a099-02559d58eba7\"></div>\n",
       "    </div>\n",
       "<script type=\"text/javascript\">\n",
       "  \n",
       "  (function(root) {\n",
       "    function now() {\n",
       "      return new Date();\n",
       "    }\n",
       "  \n",
       "    var force = false;\n",
       "  \n",
       "    if (typeof (root._bokeh_onload_callbacks) === \"undefined\" || force === true) {\n",
       "      root._bokeh_onload_callbacks = [];\n",
       "      root._bokeh_is_loading = undefined;\n",
       "    }\n",
       "  \n",
       "  \n",
       "    \n",
       "    if (typeof (root._bokeh_timeout) === \"undefined\" || force === true) {\n",
       "      root._bokeh_timeout = Date.now() + 0;\n",
       "      root._bokeh_failed_load = false;\n",
       "    }\n",
       "  \n",
       "    var NB_LOAD_WARNING = {'data': {'text/html':\n",
       "       \"<div style='background-color: #fdd'>\\n\"+\n",
       "       \"<p>\\n\"+\n",
       "       \"BokehJS does not appear to have successfully loaded. If loading BokehJS from CDN, this \\n\"+\n",
       "       \"may be due to a slow or bad network connection. Possible fixes:\\n\"+\n",
       "       \"</p>\\n\"+\n",
       "       \"<ul>\\n\"+\n",
       "       \"<li>re-rerun `output_notebook()` to attempt to load from CDN again, or</li>\\n\"+\n",
       "       \"<li>use INLINE resources instead, as so:</li>\\n\"+\n",
       "       \"</ul>\\n\"+\n",
       "       \"<code>\\n\"+\n",
       "       \"from bokeh.resources import INLINE\\n\"+\n",
       "       \"output_notebook(resources=INLINE)\\n\"+\n",
       "       \"</code>\\n\"+\n",
       "       \"</div>\"}};\n",
       "  \n",
       "    function display_loaded() {\n",
       "      if (root.Bokeh !== undefined) {\n",
       "        var el = document.getElementById(\"6cd06bb3-5531-4cc0-a099-02559d58eba7\");\n",
       "        if (el != null) {\n",
       "          el.textContent = \"BokehJS \" + Bokeh.version + \" successfully loaded.\";\n",
       "        }\n",
       "      } else if (Date.now() < root._bokeh_timeout) {\n",
       "        setTimeout(display_loaded, 100)\n",
       "      }\n",
       "    }\n",
       "  \n",
       "  \n",
       "    function run_callbacks() {\n",
       "      try {\n",
       "        root._bokeh_onload_callbacks.forEach(function(callback) { callback() });\n",
       "      }\n",
       "      finally {\n",
       "        delete root._bokeh_onload_callbacks\n",
       "      }\n",
       "      console.info(\"Bokeh: all callbacks have finished\");\n",
       "    }\n",
       "  \n",
       "    function load_libs(js_urls, callback) {\n",
       "      root._bokeh_onload_callbacks.push(callback);\n",
       "      if (root._bokeh_is_loading > 0) {\n",
       "        console.log(\"Bokeh: BokehJS is being loaded, scheduling callback at\", now());\n",
       "        return null;\n",
       "      }\n",
       "      if (js_urls == null || js_urls.length === 0) {\n",
       "        run_callbacks();\n",
       "        return null;\n",
       "      }\n",
       "      console.log(\"Bokeh: BokehJS not loaded, scheduling load and callback at\", now());\n",
       "      root._bokeh_is_loading = js_urls.length;\n",
       "      for (var i = 0; i < js_urls.length; i++) {\n",
       "        var url = js_urls[i];\n",
       "        var s = document.createElement('script');\n",
       "        s.src = url;\n",
       "        s.async = false;\n",
       "        s.onreadystatechange = s.onload = function() {\n",
       "          root._bokeh_is_loading--;\n",
       "          if (root._bokeh_is_loading === 0) {\n",
       "            console.log(\"Bokeh: all BokehJS libraries loaded\");\n",
       "            run_callbacks()\n",
       "          }\n",
       "        };\n",
       "        s.onerror = function() {\n",
       "          console.warn(\"failed to load library \" + url);\n",
       "        };\n",
       "        console.log(\"Bokeh: injecting script tag for BokehJS library: \", url);\n",
       "        document.getElementsByTagName(\"head\")[0].appendChild(s);\n",
       "      }\n",
       "    };var element = document.getElementById(\"6cd06bb3-5531-4cc0-a099-02559d58eba7\");\n",
       "    if (element == null) {\n",
       "      console.log(\"Bokeh: ERROR: autoload.js configured with elementid '6cd06bb3-5531-4cc0-a099-02559d58eba7' but no matching script tag was found. \")\n",
       "      return false;\n",
       "    }\n",
       "  \n",
       "    var js_urls = [];\n",
       "  \n",
       "    var inline_js = [\n",
       "      function(Bokeh) {\n",
       "        (function() {\n",
       "          var fn = function() {\n",
       "            var docs_json = {\"af4ed2bf-38ef-4b64-90c4-fda3178c584c\":{\"roots\":{\"references\":[{\"attributes\":{\"plot\":{\"id\":\"0a3023fa-9233-48d4-b110-e585e047f6c7\",\"subtype\":\"Figure\",\"type\":\"Plot\"},\"source\":{\"id\":\"1e2f03bc-5057-44f7-a471-62d6aa800f20\",\"type\":\"ColumnDataSource\"},\"text\":{\"field\":\"names\"},\"text_align\":\"center\",\"text_color\":{\"value\":\"#555555\"},\"text_font_size\":{\"value\":\"8pt\"},\"x\":{\"field\":\"x1\"},\"y\":{\"field\":\"x2\"},\"y_offset\":{\"value\":6}},\"id\":\"eeee3a83-6eee-4665-9c08-853c30c10b36\",\"type\":\"LabelSet\"},{\"attributes\":{},\"id\":\"56299f45-7417-446c-8ac7-ca25a111250b\",\"type\":\"BasicTicker\"},{\"attributes\":{},\"id\":\"07b005a6-4f17-4195-b9aa-c6debbb7bc01\",\"type\":\"PanTool\"},{\"attributes\":{\"plot\":null,\"text\":\"word2vec T-SNE for most common words\"},\"id\":\"ea96debf-6c11-4f6f-a935-fdf7410ff6fb\",\"type\":\"Title\"},{\"attributes\":{},\"id\":\"6fb3e551-18e5-4f21-a3d0-cae419688c8f\",\"type\":\"ResetTool\"},{\"attributes\":{},\"id\":\"6b9f495b-93ac-4272-8512-31b125d4be24\",\"type\":\"LinearScale\"},{\"attributes\":{\"formatter\":{\"id\":\"53e29203-6ec7-40cf-be6d-899eef408e83\",\"type\":\"BasicTickFormatter\"},\"plot\":{\"id\":\"0a3023fa-9233-48d4-b110-e585e047f6c7\",\"subtype\":\"Figure\",\"type\":\"Plot\"},\"ticker\":{\"id\":\"1fb24706-4db8-4f69-9b62-a68b59170176\",\"type\":\"BasicTicker\"}},\"id\":\"539682a4-061c-4807-9936-86845f58dedb\",\"type\":\"LinearAxis\"},{\"attributes\":{\"plot\":{\"id\":\"0a3023fa-9233-48d4-b110-e585e047f6c7\",\"subtype\":\"Figure\",\"type\":\"Plot\"},\"ticker\":{\"id\":\"56299f45-7417-446c-8ac7-ca25a111250b\",\"type\":\"BasicTicker\"}},\"id\":\"782f37d3-4138-4552-9a85-8717133cd63c\",\"type\":\"Grid\"},{\"attributes\":{\"data_source\":{\"id\":\"1e2f03bc-5057-44f7-a471-62d6aa800f20\",\"type\":\"ColumnDataSource\"},\"glyph\":{\"id\":\"94ea9bd4-28b1-44fc-9402-932b7a3a9940\",\"type\":\"Circle\"},\"hover_glyph\":null,\"muted_glyph\":null,\"nonselection_glyph\":{\"id\":\"2ae441cb-2102-46ba-b942-65180bafbb1b\",\"type\":\"Circle\"},\"selection_glyph\":null,\"view\":{\"id\":\"7509a172-190e-40be-aca9-ad3e395fba2e\",\"type\":\"CDSView\"}},\"id\":\"79c57fce-f9d3-4c6d-af7c-09beba0c3ec1\",\"type\":\"GlyphRenderer\"},{\"attributes\":{\"below\":[{\"id\":\"bc74af76-858b-48f4-a321-c799b9ce83f1\",\"type\":\"LinearAxis\"}],\"left\":[{\"id\":\"539682a4-061c-4807-9936-86845f58dedb\",\"type\":\"LinearAxis\"}],\"renderers\":[{\"id\":\"bc74af76-858b-48f4-a321-c799b9ce83f1\",\"type\":\"LinearAxis\"},{\"id\":\"782f37d3-4138-4552-9a85-8717133cd63c\",\"type\":\"Grid\"},{\"id\":\"539682a4-061c-4807-9936-86845f58dedb\",\"type\":\"LinearAxis\"},{\"id\":\"45ac559f-aa03-4073-b322-8adacde4c930\",\"type\":\"Grid\"},{\"id\":\"79c57fce-f9d3-4c6d-af7c-09beba0c3ec1\",\"type\":\"GlyphRenderer\"},{\"id\":\"eeee3a83-6eee-4665-9c08-853c30c10b36\",\"type\":\"LabelSet\"}],\"title\":{\"id\":\"ea96debf-6c11-4f6f-a935-fdf7410ff6fb\",\"type\":\"Title\"},\"toolbar\":{\"id\":\"26c50572-4fc1-49d9-9bb7-c6a51500ac86\",\"type\":\"Toolbar\"},\"toolbar_location\":\"above\",\"x_range\":{\"id\":\"164b80e2-12ae-4c77-ad5f-50aca58ed15d\",\"type\":\"DataRange1d\"},\"x_scale\":{\"id\":\"6f67583f-7c4e-45cc-b9ee-796d2e6fc91f\",\"type\":\"LinearScale\"},\"y_range\":{\"id\":\"4adb9178-1e8f-4f32-bb85-77be8d7cb30b\",\"type\":\"DataRange1d\"},\"y_scale\":{\"id\":\"6b9f495b-93ac-4272-8512-31b125d4be24\",\"type\":\"LinearScale\"}},\"id\":\"0a3023fa-9233-48d4-b110-e585e047f6c7\",\"subtype\":\"Figure\",\"type\":\"Plot\"},{\"attributes\":{},\"id\":\"53e29203-6ec7-40cf-be6d-899eef408e83\",\"type\":\"BasicTickFormatter\"},{\"attributes\":{\"callback\":null},\"id\":\"164b80e2-12ae-4c77-ad5f-50aca58ed15d\",\"type\":\"DataRange1d\"},{\"attributes\":{\"callback\":null},\"id\":\"4adb9178-1e8f-4f32-bb85-77be8d7cb30b\",\"type\":\"DataRange1d\"},{\"attributes\":{\"fill_color\":{\"value\":\"#1f77b4\"},\"line_color\":{\"value\":\"#1f77b4\"},\"size\":{\"units\":\"screen\",\"value\":8},\"x\":{\"field\":\"x1\"},\"y\":{\"field\":\"x2\"}},\"id\":\"94ea9bd4-28b1-44fc-9402-932b7a3a9940\",\"type\":\"Circle\"},{\"attributes\":{\"formatter\":{\"id\":\"17dcfdb5-775e-4f5d-8aee-f398647b7d75\",\"type\":\"BasicTickFormatter\"},\"plot\":{\"id\":\"0a3023fa-9233-48d4-b110-e585e047f6c7\",\"subtype\":\"Figure\",\"type\":\"Plot\"},\"ticker\":{\"id\":\"56299f45-7417-446c-8ac7-ca25a111250b\",\"type\":\"BasicTicker\"}},\"id\":\"bc74af76-858b-48f4-a321-c799b9ce83f1\",\"type\":\"LinearAxis\"},{\"attributes\":{\"fill_alpha\":{\"value\":0.1},\"fill_color\":{\"value\":\"#1f77b4\"},\"line_alpha\":{\"value\":0.1},\"line_color\":{\"value\":\"#1f77b4\"},\"size\":{\"units\":\"screen\",\"value\":8},\"x\":{\"field\":\"x1\"},\"y\":{\"field\":\"x2\"}},\"id\":\"2ae441cb-2102-46ba-b942-65180bafbb1b\",\"type\":\"Circle\"},{\"attributes\":{\"dimension\":1,\"plot\":{\"id\":\"0a3023fa-9233-48d4-b110-e585e047f6c7\",\"subtype\":\"Figure\",\"type\":\"Plot\"},\"ticker\":{\"id\":\"1fb24706-4db8-4f69-9b62-a68b59170176\",\"type\":\"BasicTicker\"}},\"id\":\"45ac559f-aa03-4073-b322-8adacde4c930\",\"type\":\"Grid\"},{\"attributes\":{},\"id\":\"86800db4-de8b-43ff-b051-3a1862c220a3\",\"type\":\"WheelZoomTool\"},{\"attributes\":{\"active_drag\":\"auto\",\"active_inspect\":\"auto\",\"active_scroll\":\"auto\",\"active_tap\":\"auto\",\"tools\":[{\"id\":\"07b005a6-4f17-4195-b9aa-c6debbb7bc01\",\"type\":\"PanTool\"},{\"id\":\"86800db4-de8b-43ff-b051-3a1862c220a3\",\"type\":\"WheelZoomTool\"},{\"id\":\"6fb3e551-18e5-4f21-a3d0-cae419688c8f\",\"type\":\"ResetTool\"},{\"id\":\"1246b69f-c846-4f0e-bd78-a1a259a9a1cb\",\"type\":\"SaveTool\"}]},\"id\":\"26c50572-4fc1-49d9-9bb7-c6a51500ac86\",\"type\":\"Toolbar\"},{\"attributes\":{},\"id\":\"17dcfdb5-775e-4f5d-8aee-f398647b7d75\",\"type\":\"BasicTickFormatter\"},{\"attributes\":{},\"id\":\"1246b69f-c846-4f0e-bd78-a1a259a9a1cb\",\"type\":\"SaveTool\"},{\"attributes\":{},\"id\":\"6f67583f-7c4e-45cc-b9ee-796d2e6fc91f\",\"type\":\"LinearScale\"},{\"attributes\":{\"callback\":null,\"column_names\":[\"x1\",\"x2\",\"names\"],\"data\":{\"names\":[\"the\",\"of\",\"and\",\"in\",\"to\",\"a\",\"was\",\"s\",\"on\",\"as\",\"for\",\"that\",\"with\",\"by\",\"is\",\"his\",\"at\",\"he\",\"it\",\"from\",\"were\",\"an\",\"had\",\"which\",\"be\",\"this\",\"but\",\"first\",\"are\",\"not\",\"their\",\"after\",\"her\",\"one\",\"also\",\"its\",\"they\",\"two\",\"or\",\"have\",\"who\",\"new\",\"been\",\"has\",\"she\",\"when\",\"during\",\"time\",\"other\",\"would\",\"into\",\"all\",\"i\",\"more\",\"over\",\"while\",\"game\",\"him\",\"later\",\"only\",\"up\",\"most\",\"out\",\"three\",\"about\",\"between\",\"th\",\"there\",\"than\",\"some\",\"film\",\"may\",\"year\",\"before\",\"made\",\"no\",\"second\",\"such\",\"season\",\"where\",\"years\",\"world\",\"war\",\"both\",\"however\",\"then\",\"being\",\"used\",\"song\",\"through\",\"these\",\"them\",\"series\",\"against\",\"m\",\"album\",\"team\",\"many\",\"north\",\"number\",\"became\",\"city\",\"part\",\"four\",\"including\",\"can\",\"united\",\"several\",\"early\",\"well\",\"under\",\"state\",\"south\",\"music\",\"so\",\"episode\",\"day\",\"following\",\"said\",\"states\",\"known\",\"american\",\"could\",\"did\",\"although\",\"work\",\"until\",\"began\",\"released\",\"like\",\"because\",\"t\",\"called\",\"high\",\"people\",\"end\",\"around\",\"since\",\"british\",\"long\",\"national\",\"each\",\"best\",\"if\",\"life\",\"found\",\"us\",\"same\",\"million\",\"september\",\"show\",\"along\",\"back\",\"five\",\"west\",\"another\",\"any\",\"use\",\"you\",\"took\",\"final\",\"group\",\"area\",\"august\",\"km\",\"off\",\"century\",\"received\",\"october\",\"due\",\"john\",\"line\",\"school\",\"what\",\"will\",\"government\",\"east\",\"single\",\"june\",\"system\",\"july\",\"march\",\"november\",\"games\",\"home\",\"third\",\"general\",\"april\",\"much\",\"york\",\"large\",\"set\",\"major\",\"house\",\"down\",\"december\",\"family\",\"left\",\"based\",\"place\",\"company\",\"just\",\"played\",\"army\",\"road\",\"king\",\"history\",\"now\",\"we\",\"six\",\"january\",\"character\",\"name\",\"included\",\"wrote\",\"main\",\"band\",\"near\",\"according\",\"air\",\"last\",\"won\",\"led\",\"those\",\"d\",\"named\",\"times\",\"described\",\"death\",\"own\",\"river\",\"men\",\"within\",\"next\",\"record\",\"release\",\"video\",\"battle\",\"late\",\"st\",\"way\",\"league\",\"still\",\"original\",\"de\",\"make\",\"club\",\"ship\",\"top\",\"force\",\"route\",\"even\",\"great\",\"very\",\"february\",\"man\",\"species\",\"u\",\"production\",\"storm\",\"small\",\"though\",\"again\",\"public\",\"built\",\"days\",\"old\",\"university\",\"b\",\"side\",\"do\",\"further\",\"service\",\"division\",\"held\",\"role\",\"play\",\"french\",\"among\",\"german\",\"match\",\"book\",\"members\",\"power\",\"point\",\"having\",\"white\",\"often\",\"story\",\"player\",\"order\",\"water\",\"party\",\"career\",\"local\",\"continued\",\"without\",\"park\",\"h\",\"black\",\"former\",\"town\",\"despite\",\"take\",\"came\",\"half\",\"considered\",\"england\",\"few\",\"island\",\"support\",\"version\",\"county\",\"moved\",\"different\",\"written\",\"development\",\"military\",\"form\",\"period\",\"building\",\"c\",\"become\",\"lost\",\"songs\",\"london\",\"english\",\"president\",\"tropical\",\"given\",\"performance\",\"little\",\"forces\",\"court\",\"international\",\"lead\",\"re\",\"ii\",\"similar\",\"tour\",\"country\",\"church\",\"went\",\"royal\",\"attack\",\"gave\",\"street\",\"track\",\"n\",\"returned\",\"my\",\"position\",\"produced\",\"short\",\"published\",\"control\",\"class\",\"using\",\"live\",\"never\",\"television\",\"total\",\"recorded\",\"fire\",\"children\",\"aircraft\",\"ships\",\"land\",\"star\",\"stated\",\"good\",\"include\",\"run\",\"western\",\"father\",\"upon\",\"week\",\"making\",\"highway\",\"women\",\"per\",\"himself\",\"head\",\"once\",\"right\",\"young\",\"less\",\"how\",\"light\",\"throughout\",\"players\",\"love\",\"australia\",\"me\",\"central\",\"age\",\"sea\",\"design\",\"instead\",\"ft\",\"remained\",\"ten\",\"characters\",\"red\",\"rock\",\"away\",\"developed\",\"seven\",\"night\",\"title\",\"hurricane\",\"station\",\"result\",\"writing\",\"political\",\"previous\",\"return\",\"died\",\"across\",\"r\",\"months\",\"southern\",\"reported\",\"law\",\"e\",\"james\",\"too\",\"center\",\"reached\",\"win\",\"felt\",\"america\",\"eight\",\"son\",\"field\",\"announced\",\"low\",\"miles\",\"style\",\"race\",\"william\",\"office\",\"college\",\"various\",\"noted\",\"seen\",\"eventually\",\"construction\",\"performed\",\"award\",\"created\",\"should\",\"sent\",\"together\",\"full\",\"japanese\",\"act\",\"member\",\"areas\",\"level\",\"served\",\"followed\",\"range\",\"works\",\"mm\",\"northern\",\"campaign\",\"taken\",\"others\",\"points\",\"success\",\"bridge\",\"killed\",\"common\",\"originally\",\"post\",\"action\",\"front\",\"project\",\"get\",\"australian\",\"able\",\"chart\",\"special\",\"established\",\"present\",\"body\",\"born\",\"features\",\"located\",\"george\",\"stage\",\"thought\",\"appeared\",\"addition\",\"playing\",\"modern\",\"added\",\"caused\",\"critics\",\"rather\",\"director\",\"decided\",\"started\",\"site\",\"football\",\"behind\",\"f\",\"formed\",\"championship\",\"population\",\"o\",\"go\",\"every\",\"popular\",\"important\",\"completed\",\"almost\",\"feet\",\"guns\",\"non\",\"saw\",\"strong\",\"close\",\"region\",\"eastern\",\"command\",\"fourth\",\"opened\",\"damage\",\"heavy\",\"see\",\"ground\",\"open\",\"sold\",\"soon\",\"awards\",\"fleet\",\"initially\",\"mother\",\"mi\",\"kingdom\",\"case\",\"free\",\"l\",\"leading\",\"weeks\",\"hall\",\"worked\",\"ever\",\"david\",\"union\",\"towards\",\"art\",\"help\",\"cup\",\"michael\",\"scene\",\"recording\",\"france\",\"coast\",\"working\",\"event\",\"put\",\"records\",\"wife\",\"scored\",\"either\",\"least\",\"brought\",\"allowed\",\"wanted\",\"sound\",\"navy\",\"placed\",\"henry\",\"average\",\"victory\",\"provided\",\"does\",\"featured\",\"summer\",\"troops\",\"training\",\"runs\",\"magazine\",\"generally\",\"events\",\"joined\",\"europe\",\"hours\",\"hit\",\"studio\",\"designed\",\"far\",\"mid\",\"official\",\"human\",\"robert\",\"example\",\"replaced\",\"list\",\"washington\",\"believed\",\"brown\",\"co\",\"successful\",\"met\",\"possible\",\"start\",\"european\",\"big\",\"squadron\",\"operation\",\"nine\",\"japan\",\"earlier\",\"base\",\"council\",\"opening\",\"significant\",\"society\",\"month\",\"minutes\",\"involved\",\"association\",\"x\",\"particularly\",\"al\",\"test\",\"police\",\"saying\",\"highest\",\"media\",\"shot\",\"largest\",\"crew\",\"change\",\"available\",\"appearance\",\"finished\",\"beginning\",\"rest\",\"radio\",\"relationship\",\"real\",\"process\",\"section\",\"review\",\"films\",\"must\",\"cast\",\"increased\",\"outside\",\"taking\",\"additional\",\"better\",\"above\",\"research\",\"captain\",\"passed\",\"future\",\"business\",\"chief\",\"charles\",\"forced\",\"turned\",\"stone\",\"community\",\"elements\",\"ended\",\"social\",\"going\",\"previously\",\"mph\",\"units\",\"g\",\"lower\",\"middle\",\"ordered\",\"praised\",\"move\",\"hill\",\"reviews\",\"round\",\"come\",\"san\",\"thus\",\"positive\",\"goal\",\"canada\",\"board\",\"thomas\",\"program\",\"female\",\"give\",\"signed\",\"rights\",\"critical\",\"attempt\",\"space\",\"castle\",\"staff\",\"parts\",\"enough\",\"california\",\"committee\",\"find\",\"cross\",\"told\",\"winds\",\"plan\",\"type\",\"overall\",\"gun\",\"square\",\"itself\",\"news\",\"don\",\"gold\",\"lines\",\"directed\",\"infantry\",\"musical\",\"spent\",\"study\",\"required\",\"paul\",\"interest\",\"brother\",\"district\",\"sometimes\",\"entire\",\"lake\",\"hand\",\"failed\",\"cover\",\"evidence\",\"money\",\"v\",\"election\",\"plot\",\"groups\",\"grand\",\"introduced\",\"india\",\"p\",\"uk\",\"germany\",\"asked\",\"term\",\"complete\",\"person\",\"prior\",\"speed\",\"bill\",\"claimed\",\"battalion\",\"effects\",\"green\",\"whom\",\"already\",\"indian\",\"score\",\"larger\",\"past\",\"background\",\"governor\",\"port\",\"whose\",\"issue\",\"personal\",\"reception\",\"woman\",\"quickly\",\"press\",\"room\",\"fifth\",\"limited\",\"idea\",\"k\",\"loss\",\"surface\",\"especially\",\"flight\",\"debut\",\"our\",\"bay\",\"students\",\"village\",\"episodes\",\"la\",\"turn\",\"voice\",\"stars\",\"minister\",\"decision\",\"peter\",\"novel\",\"education\",\"writer\",\"material\",\"carried\",\"shows\",\"commander\",\"queen\",\"ny\",\"car\",\"smith\",\"god\",\"science\",\"usually\",\"movement\",\"finally\",\"response\",\"report\",\"blue\",\"living\",\"services\",\"commercial\",\"anti\",\"length\",\"britain\",\"operations\",\"becoming\",\"pressure\",\"mark\",\"earth\",\"course\",\"food\",\"islands\",\"winning\",\"civil\",\"teams\",\"industry\",\"today\",\"defeated\",\"nearly\",\"cut\",\"arrived\",\"structure\",\"married\",\"pop\",\"changes\",\"centre\",\"latter\",\"suggested\",\"los\",\"running\",\"intended\",\"scenes\",\"remaining\",\"entered\",\"experience\",\"nature\",\"railway\",\"compared\",\"depression\",\"empire\",\"leaving\",\"proposed\",\"provide\",\"approximately\",\"influence\",\"language\",\"dark\",\"might\",\"estimated\",\"regular\",\"date\",\"contract\",\"higher\",\"daughter\",\"appointed\",\"hot\",\"destroyed\",\"face\",\"richard\",\"virginia\",\"child\",\"leader\",\"size\",\"lack\",\"department\",\"awarded\",\"related\",\"wide\",\"planned\",\"brigade\",\"percent\",\"fans\",\"immediately\",\"upper\",\"self\",\"view\",\"current\",\"shortly\",\"supported\",\"spanish\",\"subsequently\",\"network\",\"naval\",\"tracks\",\"soviet\",\"professional\",\"health\",\"manager\",\"ball\",\"agreed\",\"chinese\",\"trade\",\"chicago\",\"your\",\"fact\",\"cost\",\"whether\",\"private\",\"captured\",\"buildings\",\"officer\",\"yet\",\"helped\",\"countries\",\"guitar\",\"soldiers\",\"done\",\"plans\",\"producer\",\"books\",\"extended\",\"themselves\",\"museum\",\"fort\",\"moving\",\"edward\",\"something\",\"effect\",\"corps\",\"nd\",\"changed\",\"billboard\",\"friend\",\"initial\",\"mostly\",\"create\",\"cm\",\"associated\",\"longer\",\"singles\",\"friends\",\"lord\",\"jackson\",\"natural\",\"issued\",\"minor\",\"lyrics\",\"numerous\",\"regiment\",\"mixed\",\"dance\",\"ran\",\"florida\",\"remains\",\"removed\",\"pacific\",\"johnson\",\"via\",\"probably\",\"appear\",\"increase\",\"really\",\"dead\",\"albums\",\"got\",\"leave\",\"includes\",\"conference\",\"information\",\"fell\",\"singer\",\"unit\",\"feature\",\"officers\",\"problems\",\"key\",\"atlantic\",\"suffered\",\"fight\",\"wind\",\"federal\",\"pre\",\"forward\",\"always\",\"copies\",\"j\",\"pass\",\"christian\",\"location\",\"inspired\",\"energy\"],\"x1\":{\"__ndarray__\":\"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\",\"dtype\":\"float64\",\"shape\":[1000]},\"x2\":{\"__ndarray__\":\"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\",\"dtype\":\"float64\",\"shape\":[1000]}}},\"id\":\"1e2f03bc-5057-44f7-a471-62d6aa800f20\",\"type\":\"ColumnDataSource\"},{\"attributes\":{},\"id\":\"1fb24706-4db8-4f69-9b62-a68b59170176\",\"type\":\"BasicTicker\"},{\"attributes\":{\"source\":{\"id\":\"1e2f03bc-5057-44f7-a471-62d6aa800f20\",\"type\":\"ColumnDataSource\"}},\"id\":\"7509a172-190e-40be-aca9-ad3e395fba2e\",\"type\":\"CDSView\"}],\"root_ids\":[\"0a3023fa-9233-48d4-b110-e585e047f6c7\"]},\"title\":\"Bokeh Application\",\"version\":\"0.12.7\"}};\n",
       "            var render_items = [{\"docid\":\"af4ed2bf-38ef-4b64-90c4-fda3178c584c\",\"elementid\":\"6cd06bb3-5531-4cc0-a099-02559d58eba7\",\"modelid\":\"0a3023fa-9233-48d4-b110-e585e047f6c7\"}];\n",
       "            \n",
       "            Bokeh.embed.embed_items(docs_json, render_items);\n",
       "          };\n",
       "          if (document.readyState != \"loading\") fn();\n",
       "          else document.addEventListener(\"DOMContentLoaded\", fn);\n",
       "        })();\n",
       "      },\n",
       "      function(Bokeh) {\n",
       "      }\n",
       "    ];\n",
       "  \n",
       "    function run_inline_js() {\n",
       "      \n",
       "      if ((root.Bokeh !== undefined) || (force === true)) {\n",
       "        for (var i = 0; i < inline_js.length; i++) {\n",
       "          inline_js[i].call(root, root.Bokeh);\n",
       "        }if (force === true) {\n",
       "          display_loaded();\n",
       "        }} else if (Date.now() < root._bokeh_timeout) {\n",
       "        setTimeout(run_inline_js, 100);\n",
       "      } else if (!root._bokeh_failed_load) {\n",
       "        console.log(\"Bokeh: BokehJS failed to load within specified timeout.\");\n",
       "        root._bokeh_failed_load = true;\n",
       "      } else if (force !== true) {\n",
       "        var cell = $(document.getElementById(\"6cd06bb3-5531-4cc0-a099-02559d58eba7\")).parents('.cell').data().cell;\n",
       "        cell.output_area.append_execute_result(NB_LOAD_WARNING)\n",
       "      }\n",
       "  \n",
       "    }\n",
       "  \n",
       "    if (root._bokeh_is_loading === 0) {\n",
       "      console.log(\"Bokeh: BokehJS loaded, going straight to plotting\");\n",
       "      run_inline_js();\n",
       "    } else {\n",
       "      load_libs(js_urls, function() {\n",
       "        console.log(\"Bokeh: BokehJS plotting callback run at\", now());\n",
       "        run_inline_js();\n",
       "      });\n",
       "    }\n",
       "  }(window));\n",
       "</script>"
      ]
     },
     "metadata": {},
     "output_type": "execute_result"
    }
   ],
   "source": [
    "p = figure(tools=\"pan,wheel_zoom,reset,save\",\n",
    "           toolbar_location=\"above\",\n",
    "           title=\"word2vec T-SNE for most common words\")\n",
    "\n",
    "source = ColumnDataSource(data=dict(x1=words_top_wiki_tsne[:,0],\n",
    "                                    x2=words_top_wiki_tsne[:,1],\n",
    "                                    names=words_top_wiki))\n",
    "\n",
    "p.scatter(x=\"x1\", y=\"x2\", size=8, source=source)\n",
    "\n",
    "labels = LabelSet(x=\"x1\", y=\"x2\", text=\"names\", y_offset=6,\n",
    "                  text_font_size=\"8pt\", text_color=\"#555555\",\n",
    "                  source=source, text_align='center')\n",
    "p.add_layout(labels)\n",
    "\n",
    "show(p)"
   ]
  },
  {
   "cell_type": "code",
   "execution_count": 55,
   "metadata": {},
   "outputs": [
    {
     "data": {
      "text/plain": [
       "KMeans(algorithm='auto', copy_x=True, init='k-means++', max_iter=300,\n",
       "    n_clusters=50, n_init=10, n_jobs=3, precompute_distances='auto',\n",
       "    random_state=0, tol=0.0001, verbose=0)"
      ]
     },
     "execution_count": 55,
     "metadata": {},
     "output_type": "execute_result"
    }
   ],
   "source": [
    "from sklearn.cluster import KMeans\n",
    "\n",
    "kmeans = KMeans(n_clusters=50, random_state=0,n_jobs=3)\n",
    "kmeans.fit(words_top_vec_wiki)"
   ]
  },
  {
   "cell_type": "code",
   "execution_count": 56,
   "metadata": {},
   "outputs": [
    {
     "data": {
      "text/plain": [
       "array([[  5.88533071,  10.81205634],\n",
       "       [  5.86878786,  10.80481446],\n",
       "       [ -0.3095437 ,  12.54734893],\n",
       "       [-11.53934558,   8.98685103],\n",
       "       [-10.02116581,   8.8545276 ],\n",
       "       [-10.96606917,  -0.38808436],\n",
       "       [-10.69476406,   7.42390508],\n",
       "       [ 14.70242294, -14.22562327],\n",
       "       [ -9.61876272,   7.23357047],\n",
       "       [-19.9962409 ,  10.91279032]])"
      ]
     },
     "execution_count": 56,
     "metadata": {},
     "output_type": "execute_result"
    }
   ],
   "source": [
    "#kmeans.predict(words_top_vec_wiki)[:10]\n",
    "words_top_wiki_tsne[kmeans.predict(words_top_vec_wiki)==1][:10]"
   ]
  },
  {
   "cell_type": "code",
   "execution_count": 58,
   "metadata": {},
   "outputs": [
    {
     "data": {
      "text/html": [
       "\n",
       "\n",
       "    <div class=\"bk-root\">\n",
       "        <div class=\"bk-plotdiv\" id=\"16c7cfc2-a1b6-4841-97d5-6a9958210c89\"></div>\n",
       "    </div>\n",
       "<script type=\"text/javascript\">\n",
       "  \n",
       "  (function(root) {\n",
       "    function now() {\n",
       "      return new Date();\n",
       "    }\n",
       "  \n",
       "    var force = false;\n",
       "  \n",
       "    if (typeof (root._bokeh_onload_callbacks) === \"undefined\" || force === true) {\n",
       "      root._bokeh_onload_callbacks = [];\n",
       "      root._bokeh_is_loading = undefined;\n",
       "    }\n",
       "  \n",
       "  \n",
       "    \n",
       "    if (typeof (root._bokeh_timeout) === \"undefined\" || force === true) {\n",
       "      root._bokeh_timeout = Date.now() + 0;\n",
       "      root._bokeh_failed_load = false;\n",
       "    }\n",
       "  \n",
       "    var NB_LOAD_WARNING = {'data': {'text/html':\n",
       "       \"<div style='background-color: #fdd'>\\n\"+\n",
       "       \"<p>\\n\"+\n",
       "       \"BokehJS does not appear to have successfully loaded. If loading BokehJS from CDN, this \\n\"+\n",
       "       \"may be due to a slow or bad network connection. Possible fixes:\\n\"+\n",
       "       \"</p>\\n\"+\n",
       "       \"<ul>\\n\"+\n",
       "       \"<li>re-rerun `output_notebook()` to attempt to load from CDN again, or</li>\\n\"+\n",
       "       \"<li>use INLINE resources instead, as so:</li>\\n\"+\n",
       "       \"</ul>\\n\"+\n",
       "       \"<code>\\n\"+\n",
       "       \"from bokeh.resources import INLINE\\n\"+\n",
       "       \"output_notebook(resources=INLINE)\\n\"+\n",
       "       \"</code>\\n\"+\n",
       "       \"</div>\"}};\n",
       "  \n",
       "    function display_loaded() {\n",
       "      if (root.Bokeh !== undefined) {\n",
       "        var el = document.getElementById(\"16c7cfc2-a1b6-4841-97d5-6a9958210c89\");\n",
       "        if (el != null) {\n",
       "          el.textContent = \"BokehJS \" + Bokeh.version + \" successfully loaded.\";\n",
       "        }\n",
       "      } else if (Date.now() < root._bokeh_timeout) {\n",
       "        setTimeout(display_loaded, 100)\n",
       "      }\n",
       "    }\n",
       "  \n",
       "  \n",
       "    function run_callbacks() {\n",
       "      try {\n",
       "        root._bokeh_onload_callbacks.forEach(function(callback) { callback() });\n",
       "      }\n",
       "      finally {\n",
       "        delete root._bokeh_onload_callbacks\n",
       "      }\n",
       "      console.info(\"Bokeh: all callbacks have finished\");\n",
       "    }\n",
       "  \n",
       "    function load_libs(js_urls, callback) {\n",
       "      root._bokeh_onload_callbacks.push(callback);\n",
       "      if (root._bokeh_is_loading > 0) {\n",
       "        console.log(\"Bokeh: BokehJS is being loaded, scheduling callback at\", now());\n",
       "        return null;\n",
       "      }\n",
       "      if (js_urls == null || js_urls.length === 0) {\n",
       "        run_callbacks();\n",
       "        return null;\n",
       "      }\n",
       "      console.log(\"Bokeh: BokehJS not loaded, scheduling load and callback at\", now());\n",
       "      root._bokeh_is_loading = js_urls.length;\n",
       "      for (var i = 0; i < js_urls.length; i++) {\n",
       "        var url = js_urls[i];\n",
       "        var s = document.createElement('script');\n",
       "        s.src = url;\n",
       "        s.async = false;\n",
       "        s.onreadystatechange = s.onload = function() {\n",
       "          root._bokeh_is_loading--;\n",
       "          if (root._bokeh_is_loading === 0) {\n",
       "            console.log(\"Bokeh: all BokehJS libraries loaded\");\n",
       "            run_callbacks()\n",
       "          }\n",
       "        };\n",
       "        s.onerror = function() {\n",
       "          console.warn(\"failed to load library \" + url);\n",
       "        };\n",
       "        console.log(\"Bokeh: injecting script tag for BokehJS library: \", url);\n",
       "        document.getElementsByTagName(\"head\")[0].appendChild(s);\n",
       "      }\n",
       "    };var element = document.getElementById(\"16c7cfc2-a1b6-4841-97d5-6a9958210c89\");\n",
       "    if (element == null) {\n",
       "      console.log(\"Bokeh: ERROR: autoload.js configured with elementid '16c7cfc2-a1b6-4841-97d5-6a9958210c89' but no matching script tag was found. \")\n",
       "      return false;\n",
       "    }\n",
       "  \n",
       "    var js_urls = [];\n",
       "  \n",
       "    var inline_js = [\n",
       "      function(Bokeh) {\n",
       "        (function() {\n",
       "          var fn = function() {\n",
       "            var docs_json = {\"72271c5c-3b5f-4049-90c1-a94b5182897d\":{\"roots\":{\"references\":[{\"attributes\":{},\"id\":\"a5339520-e79c-4969-b49f-48216f1c12ab\",\"type\":\"WheelZoomTool\"},{\"attributes\":{\"callback\":null,\"column_names\":[\"x1\",\"x2\",\"names\"],\"data\":{\"names\":[\"september\",\"august\",\"october\",\"june\",\"july\",\"march\",\"november\",\"april\",\"december\",\"january\",\"february\"],\"x1\":{\"__ndarray__\":\"bNixQQxlJMC3zOfN3DYkwILYpsC71CPA3QuMq1hXJMB+vvSSfnQjwIEn1hrpQyTAq6NQWGulI8BSkl4kvkYkwOiYhENHbSPAYn/KzbJdI8ArmnIcUsEjwA==\",\"dtype\":\"float64\",\"shape\":[11]},\"x2\":{\"__ndarray__\":\"Bj3CNzdfNkDC3V9SJ2Y2QLTIWcEuXjZADFwC1ewBNkDzEoCOrUc2QI8M7J1G1DVAbizOQs86NkDukSx2W9Y1QC4egqFx/zVAWzP2mMj0NUCSsblLrtM1QA==\",\"dtype\":\"float64\",\"shape\":[11]}}},\"id\":\"8a1779aa-3c7d-4dd2-91da-669faea5de8c\",\"type\":\"ColumnDataSource\"},{\"attributes\":{\"plot\":{\"id\":\"08455b9d-2994-4449-991f-da9278da36ef\",\"subtype\":\"Figure\",\"type\":\"Plot\"},\"ticker\":{\"id\":\"aa9206f4-750b-4a79-b29c-3a5e72ce0766\",\"type\":\"BasicTicker\"}},\"id\":\"43fcc0fc-289e-42bd-8fd6-7ebfdf9a053c\",\"type\":\"Grid\"},{\"attributes\":{\"formatter\":{\"id\":\"02125751-8f59-48bb-83cd-920c5bd338a4\",\"type\":\"BasicTickFormatter\"},\"plot\":{\"id\":\"08455b9d-2994-4449-991f-da9278da36ef\",\"subtype\":\"Figure\",\"type\":\"Plot\"},\"ticker\":{\"id\":\"aa9206f4-750b-4a79-b29c-3a5e72ce0766\",\"type\":\"BasicTicker\"}},\"id\":\"0a1de27d-18b4-44b6-8e6b-f72ec6f04be5\",\"type\":\"LinearAxis\"},{\"attributes\":{},\"id\":\"aa9206f4-750b-4a79-b29c-3a5e72ce0766\",\"type\":\"BasicTicker\"},{\"attributes\":{\"formatter\":{\"id\":\"11c66732-33ab-4f81-a691-2472a283dcdf\",\"type\":\"BasicTickFormatter\"},\"plot\":{\"id\":\"08455b9d-2994-4449-991f-da9278da36ef\",\"subtype\":\"Figure\",\"type\":\"Plot\"},\"ticker\":{\"id\":\"fec88633-1990-4d9e-9695-4366328dc3f3\",\"type\":\"BasicTicker\"}},\"id\":\"7e7cc4ea-7228-4ed9-9bb2-1480b20b23b2\",\"type\":\"LinearAxis\"},{\"attributes\":{\"below\":[{\"id\":\"0a1de27d-18b4-44b6-8e6b-f72ec6f04be5\",\"type\":\"LinearAxis\"}],\"left\":[{\"id\":\"7e7cc4ea-7228-4ed9-9bb2-1480b20b23b2\",\"type\":\"LinearAxis\"}],\"renderers\":[{\"id\":\"0a1de27d-18b4-44b6-8e6b-f72ec6f04be5\",\"type\":\"LinearAxis\"},{\"id\":\"43fcc0fc-289e-42bd-8fd6-7ebfdf9a053c\",\"type\":\"Grid\"},{\"id\":\"7e7cc4ea-7228-4ed9-9bb2-1480b20b23b2\",\"type\":\"LinearAxis\"},{\"id\":\"af69da94-4e36-4e7b-9f2c-cd72ff1c37c4\",\"type\":\"Grid\"},{\"id\":\"1ca21196-d480-425e-a0f1-8951dbdb0e36\",\"type\":\"GlyphRenderer\"},{\"id\":\"bfab01dc-f416-4f09-a2be-711f20d59785\",\"type\":\"LabelSet\"}],\"title\":{\"id\":\"f0c00bbe-6380-4691-a644-930841c46ee5\",\"type\":\"Title\"},\"toolbar\":{\"id\":\"ff70ceaa-a094-410b-afee-4610d6e64608\",\"type\":\"Toolbar\"},\"toolbar_location\":\"above\",\"x_range\":{\"id\":\"2e69fb80-85ff-415a-9a82-05ae3899966d\",\"type\":\"DataRange1d\"},\"x_scale\":{\"id\":\"1810c2c0-4484-44d9-9cf6-27e16c2ee3d0\",\"type\":\"LinearScale\"},\"y_range\":{\"id\":\"5f01029a-7088-47f6-ae06-f89da3f4fc51\",\"type\":\"DataRange1d\"},\"y_scale\":{\"id\":\"2a9f6f74-3403-4f63-88e3-24d2a05d5b73\",\"type\":\"LinearScale\"}},\"id\":\"08455b9d-2994-4449-991f-da9278da36ef\",\"subtype\":\"Figure\",\"type\":\"Plot\"},{\"attributes\":{\"active_drag\":\"auto\",\"active_inspect\":\"auto\",\"active_scroll\":\"auto\",\"active_tap\":\"auto\",\"tools\":[{\"id\":\"3c7bf1c8-ae14-457f-8899-c91cedfb256f\",\"type\":\"PanTool\"},{\"id\":\"a5339520-e79c-4969-b49f-48216f1c12ab\",\"type\":\"WheelZoomTool\"},{\"id\":\"149048dc-48f8-46b9-9cf1-7b8faf4e295c\",\"type\":\"ResetTool\"},{\"id\":\"1fd2add6-af23-49c2-988c-017bbb506646\",\"type\":\"SaveTool\"}]},\"id\":\"ff70ceaa-a094-410b-afee-4610d6e64608\",\"type\":\"Toolbar\"},{\"attributes\":{\"callback\":null},\"id\":\"5f01029a-7088-47f6-ae06-f89da3f4fc51\",\"type\":\"DataRange1d\"},{\"attributes\":{},\"id\":\"2a9f6f74-3403-4f63-88e3-24d2a05d5b73\",\"type\":\"LinearScale\"},{\"attributes\":{\"plot\":{\"id\":\"08455b9d-2994-4449-991f-da9278da36ef\",\"subtype\":\"Figure\",\"type\":\"Plot\"},\"source\":{\"id\":\"8a1779aa-3c7d-4dd2-91da-669faea5de8c\",\"type\":\"ColumnDataSource\"},\"text\":{\"field\":\"names\"},\"text_align\":\"center\",\"text_color\":{\"value\":\"#555555\"},\"text_font_size\":{\"value\":\"8pt\"},\"x\":{\"field\":\"x1\"},\"y\":{\"field\":\"x2\"},\"y_offset\":{\"value\":6}},\"id\":\"bfab01dc-f416-4f09-a2be-711f20d59785\",\"type\":\"LabelSet\"},{\"attributes\":{\"fill_alpha\":{\"value\":0.1},\"fill_color\":{\"value\":\"#1f77b4\"},\"line_alpha\":{\"value\":0.1},\"line_color\":{\"value\":\"#1f77b4\"},\"size\":{\"units\":\"screen\",\"value\":8},\"x\":{\"field\":\"x1\"},\"y\":{\"field\":\"x2\"}},\"id\":\"662bd4d6-d28c-451e-a956-33065d696f01\",\"type\":\"Circle\"},{\"attributes\":{},\"id\":\"3c7bf1c8-ae14-457f-8899-c91cedfb256f\",\"type\":\"PanTool\"},{\"attributes\":{\"dimension\":1,\"plot\":{\"id\":\"08455b9d-2994-4449-991f-da9278da36ef\",\"subtype\":\"Figure\",\"type\":\"Plot\"},\"ticker\":{\"id\":\"fec88633-1990-4d9e-9695-4366328dc3f3\",\"type\":\"BasicTicker\"}},\"id\":\"af69da94-4e36-4e7b-9f2c-cd72ff1c37c4\",\"type\":\"Grid\"},{\"attributes\":{\"plot\":null,\"text\":\"word2vec T-SNE for most common words\"},\"id\":\"f0c00bbe-6380-4691-a644-930841c46ee5\",\"type\":\"Title\"},{\"attributes\":{},\"id\":\"149048dc-48f8-46b9-9cf1-7b8faf4e295c\",\"type\":\"ResetTool\"},{\"attributes\":{},\"id\":\"11c66732-33ab-4f81-a691-2472a283dcdf\",\"type\":\"BasicTickFormatter\"},{\"attributes\":{},\"id\":\"1fd2add6-af23-49c2-988c-017bbb506646\",\"type\":\"SaveTool\"},{\"attributes\":{},\"id\":\"1810c2c0-4484-44d9-9cf6-27e16c2ee3d0\",\"type\":\"LinearScale\"},{\"attributes\":{},\"id\":\"02125751-8f59-48bb-83cd-920c5bd338a4\",\"type\":\"BasicTickFormatter\"},{\"attributes\":{},\"id\":\"fec88633-1990-4d9e-9695-4366328dc3f3\",\"type\":\"BasicTicker\"},{\"attributes\":{\"source\":{\"id\":\"8a1779aa-3c7d-4dd2-91da-669faea5de8c\",\"type\":\"ColumnDataSource\"}},\"id\":\"ea3f9fa6-202d-4e30-9da7-0f7334b01c12\",\"type\":\"CDSView\"},{\"attributes\":{\"fill_color\":{\"value\":\"#1f77b4\"},\"line_color\":{\"value\":\"#1f77b4\"},\"size\":{\"units\":\"screen\",\"value\":8},\"x\":{\"field\":\"x1\"},\"y\":{\"field\":\"x2\"}},\"id\":\"5f09d847-8710-459b-8267-88ceaf66e5f1\",\"type\":\"Circle\"},{\"attributes\":{\"callback\":null},\"id\":\"2e69fb80-85ff-415a-9a82-05ae3899966d\",\"type\":\"DataRange1d\"},{\"attributes\":{\"data_source\":{\"id\":\"8a1779aa-3c7d-4dd2-91da-669faea5de8c\",\"type\":\"ColumnDataSource\"},\"glyph\":{\"id\":\"5f09d847-8710-459b-8267-88ceaf66e5f1\",\"type\":\"Circle\"},\"hover_glyph\":null,\"muted_glyph\":null,\"nonselection_glyph\":{\"id\":\"662bd4d6-d28c-451e-a956-33065d696f01\",\"type\":\"Circle\"},\"selection_glyph\":null,\"view\":{\"id\":\"ea3f9fa6-202d-4e30-9da7-0f7334b01c12\",\"type\":\"CDSView\"}},\"id\":\"1ca21196-d480-425e-a0f1-8951dbdb0e36\",\"type\":\"GlyphRenderer\"}],\"root_ids\":[\"08455b9d-2994-4449-991f-da9278da36ef\"]},\"title\":\"Bokeh Application\",\"version\":\"0.12.7\"}};\n",
       "            var render_items = [{\"docid\":\"72271c5c-3b5f-4049-90c1-a94b5182897d\",\"elementid\":\"16c7cfc2-a1b6-4841-97d5-6a9958210c89\",\"modelid\":\"08455b9d-2994-4449-991f-da9278da36ef\"}];\n",
       "            \n",
       "            Bokeh.embed.embed_items(docs_json, render_items);\n",
       "          };\n",
       "          if (document.readyState != \"loading\") fn();\n",
       "          else document.addEventListener(\"DOMContentLoaded\", fn);\n",
       "        })();\n",
       "      },\n",
       "      function(Bokeh) {\n",
       "      }\n",
       "    ];\n",
       "  \n",
       "    function run_inline_js() {\n",
       "      \n",
       "      if ((root.Bokeh !== undefined) || (force === true)) {\n",
       "        for (var i = 0; i < inline_js.length; i++) {\n",
       "          inline_js[i].call(root, root.Bokeh);\n",
       "        }if (force === true) {\n",
       "          display_loaded();\n",
       "        }} else if (Date.now() < root._bokeh_timeout) {\n",
       "        setTimeout(run_inline_js, 100);\n",
       "      } else if (!root._bokeh_failed_load) {\n",
       "        console.log(\"Bokeh: BokehJS failed to load within specified timeout.\");\n",
       "        root._bokeh_failed_load = true;\n",
       "      } else if (force !== true) {\n",
       "        var cell = $(document.getElementById(\"16c7cfc2-a1b6-4841-97d5-6a9958210c89\")).parents('.cell').data().cell;\n",
       "        cell.output_area.append_execute_result(NB_LOAD_WARNING)\n",
       "      }\n",
       "  \n",
       "    }\n",
       "  \n",
       "    if (root._bokeh_is_loading === 0) {\n",
       "      console.log(\"Bokeh: BokehJS loaded, going straight to plotting\");\n",
       "      run_inline_js();\n",
       "    } else {\n",
       "      load_libs(js_urls, function() {\n",
       "        console.log(\"Bokeh: BokehJS plotting callback run at\", now());\n",
       "        run_inline_js();\n",
       "      });\n",
       "    }\n",
       "  }(window));\n",
       "</script>"
      ]
     },
     "metadata": {},
     "output_type": "execute_result"
    }
   ],
   "source": [
    "cluster_id=3\n",
    "p = figure(tools=\"pan,wheel_zoom,reset,save\",\n",
    "           toolbar_location=\"above\",\n",
    "           title=\"word2vec T-SNE for most common words\")\n",
    "\n",
    "source = ColumnDataSource(data=dict(x1=words_top_wiki_tsne[kmeans.predict(words_top_vec_wiki)==cluster_id][:,0],\n",
    "                                    x2=words_top_wiki_tsne[kmeans.predict(words_top_vec_wiki)==cluster_id][:,1],\n",
    "                                    names=np.array(words_top_wiki)[kmeans.predict(words_top_vec_wiki)==cluster_id]))\n",
    "\n",
    "p.scatter(x=\"x1\", y=\"x2\", size=8, source=source)\n",
    "\n",
    "labels = LabelSet(x=\"x1\", y=\"x2\", text=\"names\", y_offset=6,\n",
    "                  text_font_size=\"8pt\", text_color=\"#555555\",\n",
    "                  source=source, text_align='center')\n",
    "p.add_layout(labels)\n",
    "\n",
    "show(p)"
   ]
  },
  {
   "cell_type": "code",
   "execution_count": null,
   "metadata": {
    "collapsed": true
   },
   "outputs": [],
   "source": [
    ""
   ]
  }
 ],
 "metadata": {
  "anaconda-cloud": {},
  "kernelspec": {
   "display_name": "Python 3",
   "language": "python",
   "name": "python3"
  },
  "language_info": {
   "codemirror_mode": {
    "name": "ipython",
    "version": 3.0
   },
   "file_extension": ".py",
   "mimetype": "text/x-python",
   "name": "python",
   "nbconvert_exporter": "python",
   "pygments_lexer": "ipython3",
   "version": "3.5.3"
  }
 },
 "nbformat": 4,
 "nbformat_minor": 0
}