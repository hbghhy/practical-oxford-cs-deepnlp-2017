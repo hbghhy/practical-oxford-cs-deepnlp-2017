{
 "cells": [
  {
   "cell_type": "markdown",
   "metadata": {
    "collapsed": true
   },
   "source": [
    "Practical 3-1: Text Classification With RNN\n",
    "\n",
    "Oxford CS - Deep NLP 2017\n",
    "https://www.cs.ox.ac.uk/teaching/courses/2016-2017/dl/\n",
    "\n",
    "[Yannis Assael, Brendan Shillingford, Chris Dyer]"
   ]
  },
  {
   "cell_type": "markdown",
   "metadata": {},
   "source": [
    "This practical is presented as an IPython Notebook, with the code written for recent versions of **Python 3**. The code in this practical will not work with Python 2 unless you modify it. If you are using your own Python installation, ensure you have a setup identical to that described in the installation shell script (which is intended for use with the department lab machines). We will be unable to support installation on personal machines due to time constraints, so please use the lab machines and the setup script if you are unfamiliar with how to install Anaconda.\n",
    "\n",
    "To execute a notebook cell, press `shift-enter`. The return value of the last command will be displayed, if it is not `None`.\n",
    "\n",
    "Potentially useful library documentation, references, and resources:\n",
    "\n",
    "* IPython notebooks: <https://ipython.org/ipython-doc/3/notebook/notebook.html#introduction>\n",
    "* Numpy numerical array library: <https://docs.scipy.org/doc/>\n",
    "* Gensim's word2vec: <https://radimrehurek.com/gensim/models/word2vec.html>\n",
    "* Bokeh interactive plots: <http://bokeh.pydata.org/en/latest/> (we provide plotting code here, but click the thumbnails for more examples to copy-paste)\n",
    "* scikit-learn ML library (aka `sklearn`): <http://scikit-learn.org/stable/documentation.html>\n",
    "* nltk NLP toolkit: <http://www.nltk.org/>\n",
    "* tutorial for processing xml in python using `lxml`: <http://lxml.de/tutorial.html> (we did this for you below, but in case you need it in the future)"
   ]
  },
  {
   "cell_type": "code",
   "execution_count": 1,
   "metadata": {
    "ExecuteTime": {
     "end_time": "2017-09-22T09:04:53.070140Z",
     "start_time": "2017-09-22T09:04:52.957816Z"
    },
    "collapsed": true
   },
   "outputs": [],
   "source": [
    "import numpy as np\n",
    "import os\n",
    "from random import shuffle\n",
    "import re"
   ]
  },
  {
   "cell_type": "code",
   "execution_count": 2,
   "metadata": {
    "ExecuteTime": {
     "end_time": "2017-09-22T09:04:53.950450Z",
     "start_time": "2017-09-22T09:04:53.071111Z"
    }
   },
   "outputs": [
    {
     "data": {
      "text/html": [
       "\n",
       "    <div class=\"bk-root\">\n",
       "        <a href=\"https://bokeh.pydata.org\" target=\"_blank\" class=\"bk-logo bk-logo-small bk-logo-notebook\"></a>\n",
       "        <span id=\"0f5e22b2-f755-46ed-ad44-f5e4bc2a708e\">Loading BokehJS ...</span>\n",
       "    </div>"
      ]
     },
     "metadata": {},
     "output_type": "display_data"
    },
    {
     "data": {
      "application/javascript": [
       "\n",
       "(function(root) {\n",
       "  function now() {\n",
       "    return new Date();\n",
       "  }\n",
       "\n",
       "  var force = true;\n",
       "\n",
       "  if (typeof (root._bokeh_onload_callbacks) === \"undefined\" || force === true) {\n",
       "    root._bokeh_onload_callbacks = [];\n",
       "    root._bokeh_is_loading = undefined;\n",
       "  }\n",
       "\n",
       "\n",
       "  \n",
       "  if (typeof (root._bokeh_timeout) === \"undefined\" || force === true) {\n",
       "    root._bokeh_timeout = Date.now() + 5000;\n",
       "    root._bokeh_failed_load = false;\n",
       "  }\n",
       "\n",
       "  var NB_LOAD_WARNING = {'data': {'text/html':\n",
       "     \"<div style='background-color: #fdd'>\\n\"+\n",
       "     \"<p>\\n\"+\n",
       "     \"BokehJS does not appear to have successfully loaded. If loading BokehJS from CDN, this \\n\"+\n",
       "     \"may be due to a slow or bad network connection. Possible fixes:\\n\"+\n",
       "     \"</p>\\n\"+\n",
       "     \"<ul>\\n\"+\n",
       "     \"<li>re-rerun `output_notebook()` to attempt to load from CDN again, or</li>\\n\"+\n",
       "     \"<li>use INLINE resources instead, as so:</li>\\n\"+\n",
       "     \"</ul>\\n\"+\n",
       "     \"<code>\\n\"+\n",
       "     \"from bokeh.resources import INLINE\\n\"+\n",
       "     \"output_notebook(resources=INLINE)\\n\"+\n",
       "     \"</code>\\n\"+\n",
       "     \"</div>\"}};\n",
       "\n",
       "  function display_loaded() {\n",
       "    if (root.Bokeh !== undefined) {\n",
       "      var el = document.getElementById(\"0f5e22b2-f755-46ed-ad44-f5e4bc2a708e\");\n",
       "      if (el != null) {\n",
       "        el.textContent = \"BokehJS \" + Bokeh.version + \" successfully loaded.\";\n",
       "      }\n",
       "    } else if (Date.now() < root._bokeh_timeout) {\n",
       "      setTimeout(display_loaded, 100)\n",
       "    }\n",
       "  }\n",
       "\n",
       "\n",
       "  function run_callbacks() {\n",
       "    try {\n",
       "      root._bokeh_onload_callbacks.forEach(function(callback) { callback() });\n",
       "    }\n",
       "    finally {\n",
       "      delete root._bokeh_onload_callbacks\n",
       "    }\n",
       "    console.info(\"Bokeh: all callbacks have finished\");\n",
       "  }\n",
       "\n",
       "  function load_libs(js_urls, callback) {\n",
       "    root._bokeh_onload_callbacks.push(callback);\n",
       "    if (root._bokeh_is_loading > 0) {\n",
       "      console.log(\"Bokeh: BokehJS is being loaded, scheduling callback at\", now());\n",
       "      return null;\n",
       "    }\n",
       "    if (js_urls == null || js_urls.length === 0) {\n",
       "      run_callbacks();\n",
       "      return null;\n",
       "    }\n",
       "    console.log(\"Bokeh: BokehJS not loaded, scheduling load and callback at\", now());\n",
       "    root._bokeh_is_loading = js_urls.length;\n",
       "    for (var i = 0; i < js_urls.length; i++) {\n",
       "      var url = js_urls[i];\n",
       "      var s = document.createElement('script');\n",
       "      s.src = url;\n",
       "      s.async = false;\n",
       "      s.onreadystatechange = s.onload = function() {\n",
       "        root._bokeh_is_loading--;\n",
       "        if (root._bokeh_is_loading === 0) {\n",
       "          console.log(\"Bokeh: all BokehJS libraries loaded\");\n",
       "          run_callbacks()\n",
       "        }\n",
       "      };\n",
       "      s.onerror = function() {\n",
       "        console.warn(\"failed to load library \" + url);\n",
       "      };\n",
       "      console.log(\"Bokeh: injecting script tag for BokehJS library: \", url);\n",
       "      document.getElementsByTagName(\"head\")[0].appendChild(s);\n",
       "    }\n",
       "  };var element = document.getElementById(\"0f5e22b2-f755-46ed-ad44-f5e4bc2a708e\");\n",
       "  if (element == null) {\n",
       "    console.log(\"Bokeh: ERROR: autoload.js configured with elementid '0f5e22b2-f755-46ed-ad44-f5e4bc2a708e' but no matching script tag was found. \")\n",
       "    return false;\n",
       "  }\n",
       "\n",
       "  var js_urls = [\"https://cdn.pydata.org/bokeh/release/bokeh-0.12.7.min.js\", \"https://cdn.pydata.org/bokeh/release/bokeh-widgets-0.12.7.min.js\", \"https://cdn.pydata.org/bokeh/release/bokeh-tables-0.12.7.min.js\", \"https://cdn.pydata.org/bokeh/release/bokeh-gl-0.12.7.min.js\"];\n",
       "\n",
       "  var inline_js = [\n",
       "    function(Bokeh) {\n",
       "      Bokeh.set_log_level(\"info\");\n",
       "    },\n",
       "    \n",
       "    function(Bokeh) {\n",
       "      \n",
       "    },\n",
       "    \n",
       "    function(Bokeh) {\n",
       "      \n",
       "      document.getElementById(\"0f5e22b2-f755-46ed-ad44-f5e4bc2a708e\").textContent = \"BokehJS is loading...\";\n",
       "    },\n",
       "    function(Bokeh) {\n",
       "      console.log(\"Bokeh: injecting CSS: https://cdn.pydata.org/bokeh/release/bokeh-0.12.7.min.css\");\n",
       "      Bokeh.embed.inject_css(\"https://cdn.pydata.org/bokeh/release/bokeh-0.12.7.min.css\");\n",
       "      console.log(\"Bokeh: injecting CSS: https://cdn.pydata.org/bokeh/release/bokeh-widgets-0.12.7.min.css\");\n",
       "      Bokeh.embed.inject_css(\"https://cdn.pydata.org/bokeh/release/bokeh-widgets-0.12.7.min.css\");\n",
       "      console.log(\"Bokeh: injecting CSS: https://cdn.pydata.org/bokeh/release/bokeh-tables-0.12.7.min.css\");\n",
       "      Bokeh.embed.inject_css(\"https://cdn.pydata.org/bokeh/release/bokeh-tables-0.12.7.min.css\");\n",
       "    }\n",
       "  ];\n",
       "\n",
       "  function run_inline_js() {\n",
       "    \n",
       "    if ((root.Bokeh !== undefined) || (force === true)) {\n",
       "      for (var i = 0; i < inline_js.length; i++) {\n",
       "        inline_js[i].call(root, root.Bokeh);\n",
       "      }if (force === true) {\n",
       "        display_loaded();\n",
       "      }} else if (Date.now() < root._bokeh_timeout) {\n",
       "      setTimeout(run_inline_js, 100);\n",
       "    } else if (!root._bokeh_failed_load) {\n",
       "      console.log(\"Bokeh: BokehJS failed to load within specified timeout.\");\n",
       "      root._bokeh_failed_load = true;\n",
       "    } else if (force !== true) {\n",
       "      var cell = $(document.getElementById(\"0f5e22b2-f755-46ed-ad44-f5e4bc2a708e\")).parents('.cell').data().cell;\n",
       "      cell.output_area.append_execute_result(NB_LOAD_WARNING)\n",
       "    }\n",
       "\n",
       "  }\n",
       "\n",
       "  if (root._bokeh_is_loading === 0) {\n",
       "    console.log(\"Bokeh: BokehJS loaded, going straight to plotting\");\n",
       "    run_inline_js();\n",
       "  } else {\n",
       "    load_libs(js_urls, function() {\n",
       "      console.log(\"Bokeh: BokehJS plotting callback run at\", now());\n",
       "      run_inline_js();\n",
       "    });\n",
       "  }\n",
       "}(window));"
      ]
     },
     "metadata": {},
     "output_type": "display_data"
    }
   ],
   "source": [
    "from bokeh.models import ColumnDataSource, LabelSet\n",
    "from bokeh.plotting import figure, show, output_file\n",
    "from bokeh.io import output_notebook\n",
    "output_notebook()"
   ]
  },
  {
   "cell_type": "markdown",
   "metadata": {},
   "source": [
    "Data preparation"
   ]
  },
  {
   "cell_type": "code",
   "execution_count": 3,
   "metadata": {
    "ExecuteTime": {
     "end_time": "2017-09-22T09:04:53.967497Z",
     "start_time": "2017-09-22T09:04:53.952462Z"
    },
    "collapsed": true
   },
   "outputs": [],
   "source": [
    "import urllib.request\n",
    "import zipfile\n",
    "import lxml.etree"
   ]
  },
  {
   "cell_type": "code",
   "execution_count": 4,
   "metadata": {
    "ExecuteTime": {
     "end_time": "2017-09-22T09:04:53.974514Z",
     "start_time": "2017-09-22T09:04:53.969501Z"
    },
    "collapsed": true
   },
   "outputs": [],
   "source": [
    "# Download the dataset if it's not already there: this may take a minute as it is 75MB\n",
    "if not os.path.isfile('ted_en-20160408.zip'):\n",
    "    urllib.request.urlretrieve(\"https://wit3.fbk.eu/get.php?path=XML_releases/xml/ted_en-20160408.zip&filename=ted_en-20160408.zip\", filename=\"ted_en-20160408.zip\")"
   ]
  },
  {
   "cell_type": "code",
   "execution_count": 5,
   "metadata": {
    "ExecuteTime": {
     "end_time": "2017-09-22T09:04:55.050463Z",
     "start_time": "2017-09-22T09:04:53.978527Z"
    },
    "collapsed": true
   },
   "outputs": [],
   "source": [
    "# For now, we're only interested in the subtitle text, so let's extract that from the XML:\n",
    "with zipfile.ZipFile('ted_en-20160408.zip', 'r') as z:\n",
    "    doc = lxml.etree.parse(z.open('ted_en-20160408.xml', 'r'))"
   ]
  },
  {
   "cell_type": "code",
   "execution_count": 6,
   "metadata": {
    "ExecuteTime": {
     "end_time": "2017-09-22T09:04:55.234939Z",
     "start_time": "2017-09-22T09:04:55.053387Z"
    },
    "collapsed": true
   },
   "outputs": [],
   "source": [
    "texts=doc.xpath('//content/text()')\n",
    "keywords=doc.xpath('//keywords/text()')\n",
    "del doc"
   ]
  },
  {
   "cell_type": "code",
   "execution_count": 7,
   "metadata": {
    "ExecuteTime": {
     "end_time": "2017-09-22T09:04:55.254920Z",
     "start_time": "2017-09-22T09:04:55.236870Z"
    }
   },
   "outputs": [
    {
     "name": "stdout",
     "output_type": "stream",
     "text": [
      "['talks, business, creativity, curiosity, goal-setting, innovation, motivation, potential, success, work', 'talks, Planets, TEDx, bacteria, biology, engineering, environment, evolution, exploration, future, innovation, intelligence, microbiology, nature, potential, science', 'talks, Debate, Guns, activism, big problems, children, choice, community, future, goal-setting, government, law, leadership, marketing, parenting, policy, social change, violence', 'talks, Brazil, Slavery, art, beauty, community, creativity, culture, design, global issues, humanity, identity, photography, race, social change, society, visualizations', 'talks, NASA, communication, computers, creativity, design, engineering, exploration, future, innovation, interface design, invention, microsoft, potential, prediction, product design, technology, visualizations', 'talks, Africa, Internet, community, democracy, development, future, government, identity, leadership, politics, potential', 'talks, ancient world, animals, biology, biosphere, curiosity, environment, evolution, history, life, nature, paleontology, science', 'talks, TEDx, business, culture, economics, personal growth, success, work', 'talks, Criminal Justice, big problems, choice, compassion, decision-making, education, government, inequality, law, leadership, policy, race, social change, society', 'talks, Senses, augmented reality, brain, computers, creativity, cyborg, demo, design, engineering, entrepreneur, innovation, interface design, invention, neuroscience, potential, prediction, product design, technology, visualizations']\n",
      "['ooo', 'ooo', 'ooo', 'ooD', 'ToD', 'ooo', 'ooo', 'ooo', 'ooo', 'ToD']\n"
     ]
    }
   ],
   "source": [
    "#parse keywords into lables\n",
    "def keyword2Label(keyword):\n",
    "    temp=keyword.lower()\n",
    "    ans=\"ooo\"\n",
    "    if temp.find(\"technology\")!=-1:\n",
    "        ans='T'+ans[1:]\n",
    "    if temp.find(\"entertainment\")!=-1:\n",
    "        ans=ans[0]+'E'+ans[2]\n",
    "    if temp.find(\"design\")!=-1:\n",
    "        ans=ans[:2]+'D'\n",
    "    return ans\n",
    "labels=list(map(keyword2Label,keywords))\n",
    "print(keywords[:10])\n",
    "print(labels[:10])"
   ]
  },
  {
   "cell_type": "code",
   "execution_count": 8,
   "metadata": {
    "ExecuteTime": {
     "end_time": "2017-09-22T09:04:58.113585Z",
     "start_time": "2017-09-22T09:04:55.256925Z"
    },
    "collapsed": true
   },
   "outputs": [],
   "source": [
    "#clean the texts\n",
    "def cleanText(text):\n",
    "    ans = re.sub(r'\\([^)]*\\)', '', text)\n",
    "    sentences_strings_ted = []\n",
    "    for line in ans.split('\\n'):\n",
    "        m = re.match(r'^(?:(?P<precolon>[^:]{,20}):)?(?P<postcolon>.*)$', line)\n",
    "        sentences_strings_ted.extend(sent for sent in m.groupdict()['postcolon'].split('.') if sent)\n",
    "    sentences_ted = []\n",
    "    for sent_str in sentences_strings_ted:\n",
    "        tokens = re.sub(r\"[^a-z0-9]+\", \" \", sent_str.lower()).split()\n",
    "        if len(tokens)>0:\n",
    "            sentences_ted.append(tokens)\n",
    "    return sentences_ted\n",
    "\n",
    "for i in range(len(texts)):\n",
    "    text=cleanText(texts[i])\n",
    "    texts[i]=text"
   ]
  },
  {
   "cell_type": "code",
   "execution_count": 9,
   "metadata": {
    "ExecuteTime": {
     "end_time": "2017-09-22T09:04:58.125607Z",
     "start_time": "2017-09-22T09:04:58.116580Z"
    },
    "collapsed": true
   },
   "outputs": [],
   "source": [
    "raw_data=list(zip(texts,labels))\n",
    "import random\n",
    "random.shuffle(raw_data)\n",
    "raw_train=raw_data[:1585]\n",
    "raw_val=raw_data[1585:1835]\n",
    "raw_test=raw_data[1835:]"
   ]
  },
  {
   "cell_type": "code",
   "execution_count": 10,
   "metadata": {
    "ExecuteTime": {
     "end_time": "2017-09-22T09:05:00.055865Z",
     "start_time": "2017-09-22T09:04:58.127611Z"
    },
    "collapsed": true
   },
   "outputs": [],
   "source": [
    "#handle raw train, record a counter and transform the rare word in train and the unseen data in val\\test as <unseen>\n",
    "# ...\n",
    "import collections\n",
    "counter=collections.Counter()\n",
    "for text_label in raw_train:\n",
    "    text=text_label[0]\n",
    "    for sentence in text:\n",
    "        counter.update(sentence)\n",
    "        \n",
    "def handle_unseen(raw_train,counter=counter,min_count=10):\n",
    "    for text_label in raw_train:\n",
    "        text=text_label[0]\n",
    "        for sentence in text:\n",
    "            for i in range(len(sentence)):\n",
    "                if counter.get(sentence[i],0)<min_count:\n",
    "                    sentence[i]='<UNK>'\n",
    "    return\n",
    "\n",
    "handle_unseen(raw_train)\n",
    "handle_unseen(raw_val)\n",
    "handle_unseen(raw_test)\n",
    "                "
   ]
  },
  {
   "cell_type": "code",
   "execution_count": 11,
   "metadata": {
    "ExecuteTime": {
     "end_time": "2017-09-22T09:05:00.625387Z",
     "start_time": "2017-09-22T09:05:00.057745Z"
    },
    "collapsed": true
   },
   "outputs": [],
   "source": [
    "#show hist of label\n",
    "import seaborn as sns\n",
    "import collections\n",
    "import matplotlib.pyplot as plt\n",
    "\n",
    "def show_pie(raw_train):\n",
    "    counter=collections.Counter()\n",
    "    for text_label in raw_train:\n",
    "        label=text_label[1]\n",
    "        counter.update([label])\n",
    "        \n",
    "    labels = []\n",
    "    fracs = []\n",
    "    for k in counter:\n",
    "        labels.append(k)\n",
    "        fracs.append(counter.get(k))\n",
    "    plt.axes(aspect=1)  # set this , Figure is round, otherwise it is an ellipse\n",
    "    #autopct ，show percet\n",
    "    plt.pie(x=fracs, labels=labels,autopct='%3.1f %%',\n",
    "            shadow=True, labeldistance=1.1, startangle = 90,pctdistance = 0.6)\n",
    "    plt.show()\n",
    "    \n"
   ]
  },
  {
   "cell_type": "code",
   "execution_count": 12,
   "metadata": {
    "ExecuteTime": {
     "end_time": "2017-09-22T09:05:00.985263Z",
     "start_time": "2017-09-22T09:05:00.627310Z"
    }
   },
   "outputs": [
    {
     "data": {
      "image/png": "[encoded data removed]",
      "text/plain": [
       "<matplotlib.figure.Figure at 0x255ff3625c0>"
      ]
     },
     "metadata": {},
     "output_type": "display_data"
    },
    {
     "data": {
      "image/png": "[encoded data removed]",
      "text/plain": [
       "<matplotlib.figure.Figure at 0x2558fd7d908>"
      ]
     },
     "metadata": {},
     "output_type": "display_data"
    },
    {
     "data": {
      "image/png": "[encoded data removed]",
      "text/plain": [
       "<matplotlib.figure.Figure at 0x2558e4f32b0>"
      ]
     },
     "metadata": {},
     "output_type": "display_data"
    }
   ],
   "source": [
    "show_pie(raw_train)\n",
    "show_pie(raw_val)\n",
    "show_pie(raw_test)"
   ]
  },
  {
   "cell_type": "markdown",
   "metadata": {},
   "source": [
    "Word embedding\n",
    "\n",
    "Train a word2vec model on train data"
   ]
  },
  {
   "cell_type": "code",
   "execution_count": 13,
   "metadata": {
    "ExecuteTime": {
     "end_time": "2017-09-22T09:05:01.312150Z",
     "start_time": "2017-09-22T09:05:00.987268Z"
    }
   },
   "outputs": [
    {
     "name": "stderr",
     "output_type": "stream",
     "text": [
      "C:\\ProgramData\\Anaconda2\\envs\\tf\\lib\\site-packages\\gensim\\utils.py:865: UserWarning: detected Windows; aliasing chunkize to chunkize_serial\n",
      "  warnings.warn(\"detected Windows; aliasing chunkize to chunkize_serial\")\n"
     ]
    }
   ],
   "source": [
    "from gensim.models import Word2Vec"
   ]
  },
  {
   "cell_type": "code",
   "execution_count": 14,
   "metadata": {
    "ExecuteTime": {
     "end_time": "2017-09-22T09:05:01.361294Z",
     "start_time": "2017-09-22T09:05:01.315143Z"
    }
   },
   "outputs": [
    {
     "name": "stdout",
     "output_type": "stream",
     "text": [
      "['every', 'day', 'i', 'listen', 'to', '<UNK>', 'stories', 'of', 'people', 'fleeing', 'for', 'their', 'lives', 'across', 'dangerous', 'borders', 'and', '<UNK>', 'seas']\n",
      "['but', 'there', 's', 'one', 'story', 'that', 'keeps', 'me', 'awake', 'at', 'night', 'and', 'it', 's', 'about', 'doaa']\n"
     ]
    }
   ],
   "source": [
    "# ...\n",
    "sentences_ted=[]\n",
    "for text_label in raw_train:\n",
    "    text=text_label[0]\n",
    "    for sentence in text:\n",
    "        sentences_ted.append(sentence)\n",
    "        \n",
    "print(sentences_ted[0])\n",
    "print(sentences_ted[1])"
   ]
  },
  {
   "cell_type": "code",
   "execution_count": 15,
   "metadata": {
    "ExecuteTime": {
     "end_time": "2017-09-22T09:05:10.691689Z",
     "start_time": "2017-09-22T09:05:01.364271Z"
    },
    "collapsed": true
   },
   "outputs": [],
   "source": [
    "model_ted = Word2Vec(sentences_ted, size=100, min_count=10, workers=3)"
   ]
  },
  {
   "cell_type": "code",
   "execution_count": 16,
   "metadata": {
    "ExecuteTime": {
     "end_time": "2017-09-22T09:05:10.709737Z",
     "start_time": "2017-09-22T09:05:10.692692Z"
    }
   },
   "outputs": [
    {
     "data": {
      "text/plain": [
       "[('woman', 0.8728659152984619),\n",
       " ('guy', 0.8407812714576721),\n",
       " ('lady', 0.809897780418396),\n",
       " ('girl', 0.7688450217247009),\n",
       " ('soldier', 0.7427219748497009),\n",
       " ('boy', 0.7354326248168945),\n",
       " ('kid', 0.7157387733459473),\n",
       " ('doctor', 0.7088638544082642),\n",
       " ('gentleman', 0.6943600177764893),\n",
       " ('surgeon', 0.6863460540771484)]"
      ]
     },
     "execution_count": 16,
     "metadata": {},
     "output_type": "execute_result"
    }
   ],
   "source": [
    "model_ted.most_similar(\"man\")"
   ]
  },
  {
   "cell_type": "code",
   "execution_count": 17,
   "metadata": {
    "ExecuteTime": {
     "end_time": "2017-09-22T09:05:10.722774Z",
     "start_time": "2017-09-22T09:05:10.712748Z"
    }
   },
   "outputs": [
    {
     "data": {
      "text/plain": [
       "[('december', 0.8991042971611023),\n",
       " ('june', 0.8704606294631958),\n",
       " ('january', 0.8642600774765015),\n",
       " ('september', 0.8641218543052673),\n",
       " ('october', 0.8459576368331909),\n",
       " ('april', 0.8415054678916931),\n",
       " ('2001', 0.8363568782806396),\n",
       " ('february', 0.8254663944244385),\n",
       " ('july', 0.8238472938537598),\n",
       " ('2005', 0.8197237253189087)]"
      ]
     },
     "execution_count": 17,
     "metadata": {},
     "output_type": "execute_result"
    }
   ],
   "source": [
    "model_ted.most_similar(\"march\")"
   ]
  },
  {
   "cell_type": "code",
   "execution_count": 18,
   "metadata": {
    "ExecuteTime": {
     "end_time": "2017-09-22T09:05:10.736809Z",
     "start_time": "2017-09-22T09:05:10.725781Z"
    }
   },
   "outputs": [
    {
     "data": {
      "text/plain": [
       "[('de', 0.7103893160820007),\n",
       " ('james', 0.6317135095596313),\n",
       " ('king', 0.6295051574707031),\n",
       " ('jack', 0.6290245652198792),\n",
       " ('bell', 0.6254600286483765),\n",
       " ('greek', 0.6250304579734802),\n",
       " ('cyrus', 0.624010443687439),\n",
       " ('van', 0.6239060163497925),\n",
       " ('george', 0.6154741644859314),\n",
       " ('robert', 0.6085925102233887)]"
      ]
     },
     "execution_count": 18,
     "metadata": {},
     "output_type": "execute_result"
    }
   ],
   "source": [
    "model_ted.most_similar(\"<UNK>\")"
   ]
  },
  {
   "cell_type": "code",
   "execution_count": 19,
   "metadata": {
    "ExecuteTime": {
     "end_time": "2017-09-22T09:05:10.751849Z",
     "start_time": "2017-09-22T09:05:10.737812Z"
    }
   },
   "outputs": [
    {
     "data": {
      "text/plain": [
       "array([ 0.13469546,  0.89134115, -0.69677746,  0.31649068, -0.76856887,\n",
       "        0.16964501, -0.54985052, -0.14770795,  0.24407338,  0.25335369,\n",
       "        0.67366207,  0.34244442,  0.25935042, -0.1844303 , -0.21321735,\n",
       "       -0.28227472,  1.02033174, -0.0329878 ,  0.58373892,  0.37522468,\n",
       "       -0.00579357, -0.23702581,  0.20221058,  0.1706282 ,  0.00184217,\n",
       "        0.40078637,  0.03164975, -0.11762254,  0.85845053,  0.79272366,\n",
       "       -0.31428027, -0.37296638, -0.55561751,  0.47777033,  0.53707063,\n",
       "       -0.03078513, -0.30591059, -0.26738566,  0.49917653,  0.47775418,\n",
       "        0.63238072,  0.52367193, -0.1527447 , -0.41283059, -0.39411274,\n",
       "       -1.02419209,  0.13013181,  0.18727057, -0.18762368, -0.61425102,\n",
       "       -0.23575307,  1.2581073 , -0.143336  ,  0.63018966, -0.60336554,\n",
       "       -0.78490067,  1.0038116 ,  0.13957573,  0.37940907,  0.43173361,\n",
       "       -0.37457919, -0.00891738,  0.87748396, -0.49563235,  0.18268567,\n",
       "       -0.20421202,  0.53303033,  0.02937459, -0.40575293,  0.37738699,\n",
       "       -0.57515109,  0.89021307, -0.51915121, -0.23927838, -0.52728856,\n",
       "        0.57321411, -0.32727909, -0.05965997,  0.05813627,  0.28218472,\n",
       "       -0.82049727,  0.48451549,  0.42508474,  0.39960501, -0.00331981,\n",
       "        0.02887171, -0.6219762 ,  0.94854099, -0.41824859, -0.29083878,\n",
       "        0.09058121,  0.25340074,  0.33609343, -0.33509257, -0.46351832,\n",
       "        0.28055906,  0.04911737, -0.27220517,  0.05320994, -0.18925709], dtype=float32)"
      ]
     },
     "execution_count": 19,
     "metadata": {},
     "output_type": "execute_result"
    }
   ],
   "source": [
    "#now use the model to transform our raw data into vector \n",
    "model_ted['<UNK>']"
   ]
  },
  {
   "cell_type": "code",
   "execution_count": 20,
   "metadata": {
    "ExecuteTime": {
     "end_time": "2017-09-22T09:05:11.163947Z",
     "start_time": "2017-09-22T09:05:10.753857Z"
    },
    "collapsed": true
   },
   "outputs": [],
   "source": [
    "#generate word table\n",
    "word2idx={}\n",
    "j=1\n",
    "for i in range(len(raw_train)):\n",
    "    text_label=raw_train[i]\n",
    "    text,label=text_label\n",
    "    ans_text=[]\n",
    "    for sentence in text:\n",
    "        for word in sentence:\n",
    "            if word not in word2idx:\n",
    "                word2idx[word]=j\n",
    "                j+=1\n"
   ]
  },
  {
   "cell_type": "code",
   "execution_count": 21,
   "metadata": {
    "ExecuteTime": {
     "end_time": "2017-09-22T09:05:11.204053Z",
     "start_time": "2017-09-22T09:05:11.164948Z"
    }
   },
   "outputs": [
    {
     "data": {
      "text/plain": [
       "(12503, 100)"
      ]
     },
     "execution_count": 21,
     "metadata": {},
     "output_type": "execute_result"
    }
   ],
   "source": [
    "word_embedding=np.zeros((len(word2idx)+1,100))\n",
    "for word in word2idx:\n",
    "    word_embedding[word2idx[word]]=model_ted[word]\n",
    "word_embedding.shape"
   ]
  },
  {
   "cell_type": "code",
   "execution_count": 22,
   "metadata": {
    "ExecuteTime": {
     "end_time": "2017-09-22T09:05:11.235139Z",
     "start_time": "2017-09-22T09:05:11.205057Z"
    },
    "collapsed": true
   },
   "outputs": [],
   "source": [
    "def gen_data(raw_train):\n",
    "    ans_X=[]\n",
    "    ans_y=[]\n",
    "    temp=['ooo','Too','oEo','ooD','TEo', 'ToD','oED','TED']\n",
    "    for i in range(len(raw_train)):\n",
    "        text_label=raw_train[i]\n",
    "        text,label=text_label\n",
    "        ans_text=[]\n",
    "        for sentence in text:\n",
    "            for word in sentence:\n",
    "                ans_text.append(word2idx[word])\n",
    "        #print(ans_text)\n",
    "        ans_text=np.array(ans_text).astype('int32')\n",
    "        if(ans_text.shape[0]==0):\n",
    "            continue\n",
    "        #ans_text=np.mean(ans_text,axis=0)\n",
    "        #print(ans_text.shape)\n",
    "        ans_label=np.zeros(8)\n",
    "        ans_label[temp.index(label)]=1\n",
    "        ans_X.append(ans_text)\n",
    "        ans_y.append(ans_label)\n",
    "    return np.array(ans_X),np.array(ans_y)\n",
    "\n"
   ]
  },
  {
   "cell_type": "code",
   "execution_count": 23,
   "metadata": {
    "ExecuteTime": {
     "end_time": "2017-09-22T09:05:12.166810Z",
     "start_time": "2017-09-22T09:05:11.238142Z"
    },
    "collapsed": true
   },
   "outputs": [],
   "source": [
    "train_X,train_y=gen_data(raw_train)\n",
    "val_X,val_y=gen_data(raw_val)\n",
    "test_X,test_y=gen_data(raw_test)"
   ]
  },
  {
   "cell_type": "code",
   "execution_count": 24,
   "metadata": {
    "ExecuteTime": {
     "end_time": "2017-09-22T09:05:12.174823Z",
     "start_time": "2017-09-22T09:05:12.168814Z"
    }
   },
   "outputs": [
    {
     "data": {
      "text/plain": [
       "(1580,)"
      ]
     },
     "execution_count": 24,
     "metadata": {},
     "output_type": "execute_result"
    }
   ],
   "source": [
    "train_X.shape"
   ]
  },
  {
   "cell_type": "code",
   "execution_count": 25,
   "metadata": {
    "ExecuteTime": {
     "end_time": "2017-09-22T09:05:12.199892Z",
     "start_time": "2017-09-22T09:05:12.176831Z"
    }
   },
   "outputs": [
    {
     "data": {
      "text/plain": [
       "array([  1,   2,   3, ..., 649, 650, 109])"
      ]
     },
     "execution_count": 25,
     "metadata": {},
     "output_type": "execute_result"
    }
   ],
   "source": [
    "train_X[0]"
   ]
  },
  {
   "cell_type": "code",
   "execution_count": 26,
   "metadata": {
    "ExecuteTime": {
     "end_time": "2017-09-22T09:05:12.214929Z",
     "start_time": "2017-09-22T09:05:12.203901Z"
    },
    "collapsed": true
   },
   "outputs": [],
   "source": [
    "lens=np.zeros(train_X.shape)\n",
    "for i in range(len(train_X)):\n",
    "    lens[i]=len(train_X[i])"
   ]
  },
  {
   "cell_type": "code",
   "execution_count": 27,
   "metadata": {
    "ExecuteTime": {
     "end_time": "2017-09-22T09:05:12.373351Z",
     "start_time": "2017-09-22T09:05:12.216936Z"
    }
   },
   "outputs": [
    {
     "data": {
      "image/png": "[encoded data removed]",
      "text/plain": [
       "<matplotlib.figure.Figure at 0x25596f1cc88>"
      ]
     },
     "metadata": {},
     "output_type": "display_data"
    }
   ],
   "source": [
    "plt.hist(lens)\n",
    "plt.show()"
   ]
  },
  {
   "cell_type": "code",
   "execution_count": 28,
   "metadata": {
    "ExecuteTime": {
     "end_time": "2017-09-22T09:05:12.387388Z",
     "start_time": "2017-09-22T09:05:12.375357Z"
    },
    "collapsed": true
   },
   "outputs": [],
   "source": [
    "#padding every ted to 400\n",
    "def padding(train_X,NUM_STEP=400):\n",
    "    ans=np.zeros((len(train_X),NUM_STEP))\n",
    "    for i in range(len(train_X)):\n",
    "        temp=list(train_X[i])\n",
    "        if len(temp)>NUM_STEP:\n",
    "            temp=temp[:NUM_STEP]\n",
    "        else:\n",
    "            temp+=[0]*(NUM_STEP-len(temp))\n",
    "        ans[i]=np.array(temp)\n",
    "    return ans"
   ]
  },
  {
   "cell_type": "code",
   "execution_count": 29,
   "metadata": {
    "ExecuteTime": {
     "end_time": "2017-09-22T09:05:12.622098Z",
     "start_time": "2017-09-22T09:05:12.389393Z"
    },
    "collapsed": true
   },
   "outputs": [],
   "source": [
    "train_X=padding(train_X)\n",
    "val_X=padding(val_X)\n",
    "test_X=padding(test_X)"
   ]
  },
  {
   "cell_type": "markdown",
   "metadata": {},
   "source": [
    "Text Classifier"
   ]
  },
  {
   "cell_type": "code",
   "execution_count": 30,
   "metadata": {
    "ExecuteTime": {
     "end_time": "2017-09-22T09:05:13.722015Z",
     "start_time": "2017-09-22T09:05:12.625021Z"
    },
    "collapsed": true
   },
   "outputs": [],
   "source": [
    "import tensorflow as tf"
   ]
  },
  {
   "cell_type": "code",
   "execution_count": 31,
   "metadata": {
    "ExecuteTime": {
     "end_time": "2017-09-22T09:05:14.217332Z",
     "start_time": "2017-09-22T09:05:13.723945Z"
    },
    "collapsed": true
   },
   "outputs": [],
   "source": [
    "import time\n",
    "\n",
    "class TextClassifierModel(object):\n",
    "    def __init__(self,hidden_size=100,learning_rate=1e-3,classes=8,lambda2=1e-3,doc_embedding=100,batch_size=50):\n",
    "        print('Initialize new model')\n",
    "        self.classes=classes\n",
    "        self.learning_rate=learning_rate\n",
    "        self.hidden_size=hidden_size\n",
    "        self.lambda2=lambda2\n",
    "        self.doc_embedding=doc_embedding\n",
    "        self.batch_size=batch_size\n",
    "    \n",
    "    def _create_placeholders(self):\n",
    "        # Feeds for inputs. It's a list of placeholders\n",
    "        print('Create placeholders')\n",
    "        self.texts=tf.placeholder(tf.int32, shape=(None,400), name='texts')\n",
    "        self.labels = tf.placeholder(tf.float32, shape=(None, self.classes),\n",
    "                                        name='labels')\n",
    "        self.dropout_proba = tf.placeholder(tf.float32, shape=(), name='dropout_proba')\n",
    "        \n",
    "    def _create_word_embedding(self):\n",
    "        # Feeds for inputs. It's a list of placeholders\n",
    "        print('Create embedding')\n",
    "        with tf.name_scope(\"embedding\"):\n",
    "            self._embedding=tf.Variable(word_embedding,name='embed_matrix',trainable=False,dtype=tf.float32)\n",
    "            \n",
    "    def _doc_embedding(self):\n",
    "        embed = tf.nn.dropout(tf.nn.embedding_lookup(self._embedding, self.texts, name='embed'),self.dropout_proba)\n",
    "        with tf.name_scope(\"rnn\"):\n",
    "            cell1 = tf.contrib.rnn.DropoutWrapper(tf.contrib.rnn.GRUCell(self.doc_embedding),output_keep_prob=self.dropout_proba)\n",
    "            cell2 = tf.contrib.rnn.DropoutWrapper(tf.contrib.rnn.GRUCell(self.doc_embedding),output_keep_prob=self.dropout_proba)\n",
    "            in_state1 = cell1.zero_state(tf.shape(self.texts)[0], tf.float32)\n",
    "            in_state2 = cell2.zero_state(tf.shape(self.texts)[0], tf.float32)\n",
    "            output, out_state = tf.nn.bidirectional_dynamic_rnn(cell1,cell2, embed, initial_state_fw=in_state1,\n",
    "                                                               initial_state_bw=in_state2)\n",
    "            return tf.reduce_mean(tf.concat(output,axis=2),axis=1)\n",
    "        \n",
    "    def _inference(self):\n",
    "        print('Create inference')\n",
    "        with tf.name_scope(\"network\"):\n",
    "            x = self._doc_embedding()\n",
    "            w = tf.Variable(tf.random_normal([2*self.doc_embedding,self.hidden_size], stddev=0.1),name=\"w\")\n",
    "            b = tf.Variable(tf.zeros([self.hidden_size]))\n",
    "            h = tf.nn.dropout(tf.nn.relu(tf.matmul(x,w)+b),self.dropout_proba)\n",
    "            v = tf.Variable(tf.random_normal([self.hidden_size,self.classes], stddev=0.1),name=\"v\")\n",
    "            c = tf.Variable(tf.zeros([self.classes]))        \n",
    "            u = tf.matmul(h,v)+c\n",
    "        self._u=u\n",
    "        self._w=w\n",
    "        self._v=v\n",
    "\n",
    "            \n",
    "\n",
    "    def _create_loss(self):\n",
    "        print('Creating loss...')\n",
    "        start = time.time()\n",
    "        with tf.name_scope(\"loss\"):\n",
    "            loss=tf.nn.softmax_cross_entropy_with_logits(\n",
    "                logits=self._u,labels=self.labels)\n",
    "            self.loss=tf.reduce_mean(loss)+self.lambda2*(tf.nn.l2_loss(self._w)+tf.nn.l2_loss(self._v))\n",
    "        print('Time:', time.time() - start)\n",
    "\n",
    "\n",
    "    def _creat_optimizer(self):\n",
    "        print('Create optimizer...')\n",
    "        with tf.name_scope(\"optimizer\"):\n",
    "            self.optimizer =tf.train.AdamOptimizer(self.learning_rate).minimize(self.loss)\n",
    "            \n",
    "    def _creat_accuracy(self):\n",
    "        print('Create accuracy...')\n",
    "        with tf.name_scope(\"accuracy\"):\n",
    "            preds = tf.nn.softmax(self._u)\n",
    "            correct_preds = tf.equal(tf.argmax(preds, 1), tf.argmax(self.labels, 1))\n",
    "            self.accuracy = tf.reduce_sum(tf.cast(correct_preds, tf.float32))/(tf.cast(tf.shape(self.labels)[0], tf.float32))\n",
    "\n",
    "\n",
    "    def _create_summary(self):\n",
    "        pass\n",
    "\n",
    "    def build_graph(self):\n",
    "        self._create_placeholders()\n",
    "        self._create_word_embedding()\n",
    "        self._inference()\n",
    "        self._create_loss()\n",
    "        self._creat_optimizer()\n",
    "        self._create_summary()\n",
    "        self._creat_accuracy()\n"
   ]
  },
  {
   "cell_type": "code",
   "execution_count": 32,
   "metadata": {
    "ExecuteTime": {
     "end_time": "2017-09-22T09:05:16.282747Z",
     "start_time": "2017-09-22T09:05:14.219259Z"
    }
   },
   "outputs": [
    {
     "name": "stdout",
     "output_type": "stream",
     "text": [
      "Initialize new model\n",
      "Create placeholders\n",
      "Create embedding\n",
      "Create inference\n",
      "Creating loss...\n",
      "Time: 0.03305864334106445\n",
      "Create optimizer...\n",
      "Create accuracy...\n"
     ]
    }
   ],
   "source": [
    "model = TextClassifierModel(learning_rate=0.01,hidden_size=50,lambda2=1e-4)\n",
    "model.build_graph()"
   ]
  },
  {
   "cell_type": "code",
   "execution_count": 34,
   "metadata": {
    "ExecuteTime": {
     "end_time": "2017-09-22T13:05:00.014671Z",
     "start_time": "2017-09-22T12:58:47.294188Z"
    }
   },
   "outputs": [
    {
     "name": "stdout",
     "output_type": "stream",
     "text": [
      "Average train loss epoch 0: 1.5405014791796285\n",
      "Average train accuracy epoch 0: 0.5481012463569641\n",
      "Average val accuracy epoch 0: 0.5322580933570862\n",
      "Average train loss epoch 1: 1.3525764480713875\n",
      "Average train accuracy epoch 1: 0.5481012463569641\n",
      "Average val accuracy epoch 1: 0.5322580933570862\n",
      "Average train loss epoch 2: 1.3209074428004604\n",
      "Average train accuracy epoch 2: 0.5677215456962585\n",
      "Average val accuracy epoch 2: 0.5524193644523621\n",
      "Average train loss epoch 3: 1.2603845827041134\n",
      "Average train accuracy epoch 3: 0.5816455483436584\n",
      "Average val accuracy epoch 3: 0.5806451439857483\n",
      "Average train loss epoch 4: 1.2066354136313162\n",
      "Average train accuracy epoch 4: 0.5791139006614685\n",
      "Average val accuracy epoch 4: 0.5524193644523621\n",
      "Average train loss epoch 5: 1.1860969816484759\n",
      "Average train accuracy epoch 5: 0.6297468543052673\n",
      "Average val accuracy epoch 5: 0.5524193644523621\n",
      "Average train loss epoch 6: 1.1186783794433839\n",
      "Average train accuracy epoch 6: 0.6183544397354126\n",
      "Average val accuracy epoch 6: 0.5685483813285828\n",
      "Average train loss epoch 7: 1.087903259261962\n",
      "Average train accuracy epoch 7: 0.6411392688751221\n",
      "Average val accuracy epoch 7: 0.5725806355476379\n",
      "Average train loss epoch 8: 1.0434360869469181\n",
      "Average train accuracy epoch 8: 0.6512657999992371\n",
      "Average val accuracy epoch 8: 0.524193525314331\n",
      "Average train loss epoch 9: 1.0469004415696668\n",
      "Average train accuracy epoch 9: 0.652531623840332\n",
      "Average val accuracy epoch 9: 0.5645161271095276\n",
      "Average train loss epoch 10: 1.0031859874725342\n",
      "Average train accuracy epoch 10: 0.6987341642379761\n",
      "Average val accuracy epoch 10: 0.5443548560142517\n",
      "Average train loss epoch 11: 1.0167394857252798\n",
      "Average train accuracy epoch 11: 0.6879746913909912\n",
      "Average val accuracy epoch 11: 0.5645161271095276\n",
      "Average train loss epoch 12: 0.9914943210540279\n",
      "Average train accuracy epoch 12: 0.6892405152320862\n",
      "Average val accuracy epoch 12: 0.5524193644523621\n",
      "Average train loss epoch 13: 0.9673727077822531\n",
      "Average train accuracy epoch 13: 0.7189873456954956\n",
      "Average val accuracy epoch 13: 0.47983869910240173\n",
      "Average train loss epoch 14: 0.9505725676013578\n",
      "Average train accuracy epoch 14: 0.7132911682128906\n",
      "Average val accuracy epoch 14: 0.5201612710952759\n",
      "Average train loss epoch 15: 1.0681233329157676\n",
      "Average train accuracy epoch 15: 0.6265822649002075\n",
      "Average val accuracy epoch 15: 0.5604838728904724\n",
      "Average train loss epoch 16: 1.1750692417544704\n",
      "Average train accuracy epoch 16: 0.5955696105957031\n",
      "Average val accuracy epoch 16: 0.5524193644523621\n",
      "Average train loss epoch 17: 1.2313832179192574\n",
      "Average train accuracy epoch 17: 0.5772151947021484\n",
      "Average val accuracy epoch 17: 0.5201612710952759\n",
      "Average train loss epoch 18: 1.2384868283425607\n",
      "Average train accuracy epoch 18: 0.5943037867546082\n",
      "Average val accuracy epoch 18: 0.5403226017951965\n",
      "Average train loss epoch 19: 1.2441935212381425\n",
      "Average train accuracy epoch 19: 0.6044303774833679\n",
      "Average val accuracy epoch 19: 0.5483871102333069\n",
      "Total time: 370.17270517349243 seconds\n",
      "Optimization Finished!\n",
      "Average test accuracy : 0.5320000052452087\n"
     ]
    }
   ],
   "source": [
    "\n",
    "saver = tf.train.Saver()\n",
    "batch_size=50\n",
    "n_epochs=20\n",
    "\n",
    "with tf.Session() as sess:\n",
    "    writer = tf.summary.FileWriter('./my_graph', sess.graph)\n",
    "\n",
    "    start_time = time.time()\n",
    "    sess.run(tf.global_variables_initializer())\n",
    "    n_batches = int(train_X.shape[0]/batch_size)\n",
    "    for i in range(n_epochs): # train the model n_epochs times\n",
    "        total_loss = 0\n",
    "\n",
    "        for j in range(n_batches):\n",
    "            X_batch, Y_batch = train_X[j*batch_size:(j+1)*batch_size],train_y[j*batch_size:(j+1)*batch_size]\n",
    "#             print(X_batch.shape)\n",
    "#             print(Y_batch.shape)\n",
    "            _, loss_batch = sess.run([model.optimizer, model.loss], feed_dict={model.texts: X_batch,\n",
    "                                                                               model.labels:Y_batch,model.dropout_proba:0.7}) \n",
    "            total_loss += loss_batch\n",
    "        print('Average train loss epoch {0}: {1}'.format(i, total_loss/n_batches))\n",
    "        print('Average train accuracy epoch {0}: {1}'.format(i, sess.run([model.accuracy], feed_dict={model.texts: train_X,\n",
    "                                                                               model.labels:train_y,model.dropout_proba:1})[0]))\n",
    "        print('Average val accuracy epoch {0}: {1}'.format(i, sess.run([model.accuracy], feed_dict={model.texts: val_X,\n",
    "                                                                               model.labels:val_y,model.dropout_proba:1})[0]))\n",
    "\n",
    "    print('Total time: {0} seconds'.format(time.time() - start_time))\n",
    "\n",
    "    print('Optimization Finished!') \n",
    "\n",
    "    # test the model\n",
    "    print('Average test accuracy : {0}'.format( sess.run([model.accuracy], feed_dict={model.texts: test_X,\n",
    "                                                                               model.labels:test_y,model.dropout_proba:1})[0]))\n",
    "\n",
    "    writer.close()\n"
   ]
  },
  {
   "cell_type": "code",
   "execution_count": null,
   "metadata": {
    "collapsed": true
   },
   "outputs": [],
   "source": []
  }
 ],
 "metadata": {
  "kernelspec": {
   "display_name": "Python 3",
   "language": "python",
   "name": "python3"
  },
  "language_info": {
   "codemirror_mode": {
    "name": "ipython",
    "version": 3
   },
   "file_extension": ".py",
   "mimetype": "text/x-python",
   "name": "python",
   "nbconvert_exporter": "python",
   "pygments_lexer": "ipython3",
   "version": "3.5.3"
  }
 },
 "nbformat": 4,
 "nbformat_minor": 1
}
