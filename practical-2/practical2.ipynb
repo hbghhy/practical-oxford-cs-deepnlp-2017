{
 "cells": [
  {
   "cell_type": "markdown",
   "metadata": {
    "collapsed": true
   },
   "source": [
    "Practical 2: Text Classification\n",
    "\n",
    "Oxford CS - Deep NLP 2017\n",
    "https://www.cs.ox.ac.uk/teaching/courses/2016-2017/dl/\n",
    "\n",
    "[Yannis Assael, Brendan Shillingford, Chris Dyer]"
   ]
  },
  {
   "cell_type": "markdown",
   "metadata": {},
   "source": [
    "This practical is presented as an IPython Notebook, with the code written for recent versions of **Python 3**. The code in this practical will not work with Python 2 unless you modify it. If you are using your own Python installation, ensure you have a setup identical to that described in the installation shell script (which is intended for use with the department lab machines). We will be unable to support installation on personal machines due to time constraints, so please use the lab machines and the setup script if you are unfamiliar with how to install Anaconda.\n",
    "\n",
    "To execute a notebook cell, press `shift-enter`. The return value of the last command will be displayed, if it is not `None`.\n",
    "\n",
    "Potentially useful library documentation, references, and resources:\n",
    "\n",
    "* IPython notebooks: <https://ipython.org/ipython-doc/3/notebook/notebook.html#introduction>\n",
    "* Numpy numerical array library: <https://docs.scipy.org/doc/>\n",
    "* Gensim's word2vec: <https://radimrehurek.com/gensim/models/word2vec.html>\n",
    "* Bokeh interactive plots: <http://bokeh.pydata.org/en/latest/> (we provide plotting code here, but click the thumbnails for more examples to copy-paste)\n",
    "* scikit-learn ML library (aka `sklearn`): <http://scikit-learn.org/stable/documentation.html>\n",
    "* nltk NLP toolkit: <http://www.nltk.org/>\n",
    "* tutorial for processing xml in python using `lxml`: <http://lxml.de/tutorial.html> (we did this for you below, but in case you need it in the future)"
   ]
  },
  {
   "cell_type": "code",
   "execution_count": 1,
   "metadata": {
    "ExecuteTime": {
     "end_time": "2017-09-15T07:41:52.885748Z",
     "start_time": "2017-09-15T07:41:52.262012Z"
    },
    "collapsed": true
   },
   "outputs": [],
   "source": [
    "import numpy as np\n",
    "import os\n",
    "from random import shuffle\n",
    "import re"
   ]
  },
  {
   "cell_type": "code",
   "execution_count": 2,
   "metadata": {
    "ExecuteTime": {
     "end_time": "2017-09-15T07:41:54.214024Z",
     "start_time": "2017-09-15T07:41:52.886740Z"
    }
   },
   "outputs": [
    {
     "data": {
      "text/html": [
       "\n",
       "    <div class=\"bk-root\">\n",
       "        <a href=\"https://bokeh.pydata.org\" target=\"_blank\" class=\"bk-logo bk-logo-small bk-logo-notebook\"></a>\n",
       "        <span id=\"d9d17d15-49cf-4dcf-85fd-096762d044e4\">Loading BokehJS ...</span>\n",
       "    </div>"
      ]
     },
     "metadata": {},
     "output_type": "display_data"
    },
    {
     "data": {
      "application/javascript": [
       "\n",
       "(function(root) {\n",
       "  function now() {\n",
       "    return new Date();\n",
       "  }\n",
       "\n",
       "  var force = true;\n",
       "\n",
       "  if (typeof (root._bokeh_onload_callbacks) === \"undefined\" || force === true) {\n",
       "    root._bokeh_onload_callbacks = [];\n",
       "    root._bokeh_is_loading = undefined;\n",
       "  }\n",
       "\n",
       "\n",
       "  \n",
       "  if (typeof (root._bokeh_timeout) === \"undefined\" || force === true) {\n",
       "    root._bokeh_timeout = Date.now() + 5000;\n",
       "    root._bokeh_failed_load = false;\n",
       "  }\n",
       "\n",
       "  var NB_LOAD_WARNING = {'data': {'text/html':\n",
       "     \"<div style='background-color: #fdd'>\\n\"+\n",
       "     \"<p>\\n\"+\n",
       "     \"BokehJS does not appear to have successfully loaded. If loading BokehJS from CDN, this \\n\"+\n",
       "     \"may be due to a slow or bad network connection. Possible fixes:\\n\"+\n",
       "     \"</p>\\n\"+\n",
       "     \"<ul>\\n\"+\n",
       "     \"<li>re-rerun `output_notebook()` to attempt to load from CDN again, or</li>\\n\"+\n",
       "     \"<li>use INLINE resources instead, as so:</li>\\n\"+\n",
       "     \"</ul>\\n\"+\n",
       "     \"<code>\\n\"+\n",
       "     \"from bokeh.resources import INLINE\\n\"+\n",
       "     \"output_notebook(resources=INLINE)\\n\"+\n",
       "     \"</code>\\n\"+\n",
       "     \"</div>\"}};\n",
       "\n",
       "  function display_loaded() {\n",
       "    if (root.Bokeh !== undefined) {\n",
       "      var el = document.getElementById(\"d9d17d15-49cf-4dcf-85fd-096762d044e4\");\n",
       "      if (el != null) {\n",
       "        el.textContent = \"BokehJS \" + Bokeh.version + \" successfully loaded.\";\n",
       "      }\n",
       "    } else if (Date.now() < root._bokeh_timeout) {\n",
       "      setTimeout(display_loaded, 100)\n",
       "    }\n",
       "  }\n",
       "\n",
       "\n",
       "  function run_callbacks() {\n",
       "    try {\n",
       "      root._bokeh_onload_callbacks.forEach(function(callback) { callback() });\n",
       "    }\n",
       "    finally {\n",
       "      delete root._bokeh_onload_callbacks\n",
       "    }\n",
       "    console.info(\"Bokeh: all callbacks have finished\");\n",
       "  }\n",
       "\n",
       "  function load_libs(js_urls, callback) {\n",
       "    root._bokeh_onload_callbacks.push(callback);\n",
       "    if (root._bokeh_is_loading > 0) {\n",
       "      console.log(\"Bokeh: BokehJS is being loaded, scheduling callback at\", now());\n",
       "      return null;\n",
       "    }\n",
       "    if (js_urls == null || js_urls.length === 0) {\n",
       "      run_callbacks();\n",
       "      return null;\n",
       "    }\n",
       "    console.log(\"Bokeh: BokehJS not loaded, scheduling load and callback at\", now());\n",
       "    root._bokeh_is_loading = js_urls.length;\n",
       "    for (var i = 0; i < js_urls.length; i++) {\n",
       "      var url = js_urls[i];\n",
       "      var s = document.createElement('script');\n",
       "      s.src = url;\n",
       "      s.async = false;\n",
       "      s.onreadystatechange = s.onload = function() {\n",
       "        root._bokeh_is_loading--;\n",
       "        if (root._bokeh_is_loading === 0) {\n",
       "          console.log(\"Bokeh: all BokehJS libraries loaded\");\n",
       "          run_callbacks()\n",
       "        }\n",
       "      };\n",
       "      s.onerror = function() {\n",
       "        console.warn(\"failed to load library \" + url);\n",
       "      };\n",
       "      console.log(\"Bokeh: injecting script tag for BokehJS library: \", url);\n",
       "      document.getElementsByTagName(\"head\")[0].appendChild(s);\n",
       "    }\n",
       "  };var element = document.getElementById(\"d9d17d15-49cf-4dcf-85fd-096762d044e4\");\n",
       "  if (element == null) {\n",
       "    console.log(\"Bokeh: ERROR: autoload.js configured with elementid 'd9d17d15-49cf-4dcf-85fd-096762d044e4' but no matching script tag was found. \")\n",
       "    return false;\n",
       "  }\n",
       "\n",
       "  var js_urls = [\"https://cdn.pydata.org/bokeh/release/bokeh-0.12.7.min.js\", \"https://cdn.pydata.org/bokeh/release/bokeh-widgets-0.12.7.min.js\", \"https://cdn.pydata.org/bokeh/release/bokeh-tables-0.12.7.min.js\", \"https://cdn.pydata.org/bokeh/release/bokeh-gl-0.12.7.min.js\"];\n",
       "\n",
       "  var inline_js = [\n",
       "    function(Bokeh) {\n",
       "      Bokeh.set_log_level(\"info\");\n",
       "    },\n",
       "    \n",
       "    function(Bokeh) {\n",
       "      \n",
       "    },\n",
       "    \n",
       "    function(Bokeh) {\n",
       "      \n",
       "      document.getElementById(\"d9d17d15-49cf-4dcf-85fd-096762d044e4\").textContent = \"BokehJS is loading...\";\n",
       "    },\n",
       "    function(Bokeh) {\n",
       "      console.log(\"Bokeh: injecting CSS: https://cdn.pydata.org/bokeh/release/bokeh-0.12.7.min.css\");\n",
       "      Bokeh.embed.inject_css(\"https://cdn.pydata.org/bokeh/release/bokeh-0.12.7.min.css\");\n",
       "      console.log(\"Bokeh: injecting CSS: https://cdn.pydata.org/bokeh/release/bokeh-widgets-0.12.7.min.css\");\n",
       "      Bokeh.embed.inject_css(\"https://cdn.pydata.org/bokeh/release/bokeh-widgets-0.12.7.min.css\");\n",
       "      console.log(\"Bokeh: injecting CSS: https://cdn.pydata.org/bokeh/release/bokeh-tables-0.12.7.min.css\");\n",
       "      Bokeh.embed.inject_css(\"https://cdn.pydata.org/bokeh/release/bokeh-tables-0.12.7.min.css\");\n",
       "    }\n",
       "  ];\n",
       "\n",
       "  function run_inline_js() {\n",
       "    \n",
       "    if ((root.Bokeh !== undefined) || (force === true)) {\n",
       "      for (var i = 0; i < inline_js.length; i++) {\n",
       "        inline_js[i].call(root, root.Bokeh);\n",
       "      }if (force === true) {\n",
       "        display_loaded();\n",
       "      }} else if (Date.now() < root._bokeh_timeout) {\n",
       "      setTimeout(run_inline_js, 100);\n",
       "    } else if (!root._bokeh_failed_load) {\n",
       "      console.log(\"Bokeh: BokehJS failed to load within specified timeout.\");\n",
       "      root._bokeh_failed_load = true;\n",
       "    } else if (force !== true) {\n",
       "      var cell = $(document.getElementById(\"d9d17d15-49cf-4dcf-85fd-096762d044e4\")).parents('.cell').data().cell;\n",
       "      cell.output_area.append_execute_result(NB_LOAD_WARNING)\n",
       "    }\n",
       "\n",
       "  }\n",
       "\n",
       "  if (root._bokeh_is_loading === 0) {\n",
       "    console.log(\"Bokeh: BokehJS loaded, going straight to plotting\");\n",
       "    run_inline_js();\n",
       "  } else {\n",
       "    load_libs(js_urls, function() {\n",
       "      console.log(\"Bokeh: BokehJS plotting callback run at\", now());\n",
       "      run_inline_js();\n",
       "    });\n",
       "  }\n",
       "}(window));"
      ]
     },
     "metadata": {},
     "output_type": "display_data"
    }
   ],
   "source": [
    "from bokeh.models import ColumnDataSource, LabelSet\n",
    "from bokeh.plotting import figure, show, output_file\n",
    "from bokeh.io import output_notebook\n",
    "output_notebook()"
   ]
  },
  {
   "cell_type": "markdown",
   "metadata": {},
   "source": [
    "Data preparation"
   ]
  },
  {
   "cell_type": "code",
   "execution_count": 3,
   "metadata": {
    "ExecuteTime": {
     "end_time": "2017-09-15T07:41:54.244103Z",
     "start_time": "2017-09-15T07:41:54.221047Z"
    },
    "collapsed": true
   },
   "outputs": [],
   "source": [
    "import urllib.request\n",
    "import zipfile\n",
    "import lxml.etree"
   ]
  },
  {
   "cell_type": "code",
   "execution_count": 4,
   "metadata": {
    "ExecuteTime": {
     "end_time": "2017-09-15T07:41:54.251122Z",
     "start_time": "2017-09-15T07:41:54.246111Z"
    },
    "collapsed": true
   },
   "outputs": [],
   "source": [
    "# Download the dataset if it's not already there: this may take a minute as it is 75MB\n",
    "if not os.path.isfile('ted_en-20160408.zip'):\n",
    "    urllib.request.urlretrieve(\"https://wit3.fbk.eu/get.php?path=XML_releases/xml/ted_en-20160408.zip&filename=ted_en-20160408.zip\", filename=\"ted_en-20160408.zip\")"
   ]
  },
  {
   "cell_type": "code",
   "execution_count": 5,
   "metadata": {
    "ExecuteTime": {
     "end_time": "2017-09-15T07:41:55.504487Z",
     "start_time": "2017-09-15T07:41:54.253129Z"
    },
    "collapsed": true
   },
   "outputs": [],
   "source": [
    "# For now, we're only interested in the subtitle text, so let's extract that from the XML:\n",
    "with zipfile.ZipFile('ted_en-20160408.zip', 'r') as z:\n",
    "    doc = lxml.etree.parse(z.open('ted_en-20160408.xml', 'r'))"
   ]
  },
  {
   "cell_type": "code",
   "execution_count": 6,
   "metadata": {
    "ExecuteTime": {
     "end_time": "2017-09-15T07:41:55.709029Z",
     "start_time": "2017-09-15T07:41:55.506460Z"
    },
    "collapsed": true
   },
   "outputs": [],
   "source": [
    "texts=doc.xpath('//content/text()')\n",
    "keywords=doc.xpath('//keywords/text()')\n",
    "del doc"
   ]
  },
  {
   "cell_type": "code",
   "execution_count": 7,
   "metadata": {
    "ExecuteTime": {
     "end_time": "2017-09-15T07:41:55.737073Z",
     "start_time": "2017-09-15T07:41:55.711008Z"
    }
   },
   "outputs": [
    {
     "name": "stdout",
     "output_type": "stream",
     "text": [
      "['talks, business, creativity, curiosity, goal-setting, innovation, motivation, potential, success, work', 'talks, Planets, TEDx, bacteria, biology, engineering, environment, evolution, exploration, future, innovation, intelligence, microbiology, nature, potential, science', 'talks, Debate, Guns, activism, big problems, children, choice, community, future, goal-setting, government, law, leadership, marketing, parenting, policy, social change, violence', 'talks, Brazil, Slavery, art, beauty, community, creativity, culture, design, global issues, humanity, identity, photography, race, social change, society, visualizations', 'talks, NASA, communication, computers, creativity, design, engineering, exploration, future, innovation, interface design, invention, microsoft, potential, prediction, product design, technology, visualizations', 'talks, Africa, Internet, community, democracy, development, future, government, identity, leadership, politics, potential', 'talks, ancient world, animals, biology, biosphere, curiosity, environment, evolution, history, life, nature, paleontology, science', 'talks, TEDx, business, culture, economics, personal growth, success, work', 'talks, Criminal Justice, big problems, choice, compassion, decision-making, education, government, inequality, law, leadership, policy, race, social change, society', 'talks, Senses, augmented reality, brain, computers, creativity, cyborg, demo, design, engineering, entrepreneur, innovation, interface design, invention, neuroscience, potential, prediction, product design, technology, visualizations']\n",
      "['ooo', 'ooo', 'ooo', 'ooD', 'ToD', 'ooo', 'ooo', 'ooo', 'ooo', 'ToD']\n"
     ]
    }
   ],
   "source": [
    "#parse keywords into lables\n",
    "def keyword2Label(keyword):\n",
    "    temp=keyword.lower()\n",
    "    ans=\"ooo\"\n",
    "    if temp.find(\"technology\")!=-1:\n",
    "        ans='T'+ans[1:]\n",
    "    if temp.find(\"entertainment\")!=-1:\n",
    "        ans=ans[0]+'E'+ans[2]\n",
    "    if temp.find(\"design\")!=-1:\n",
    "        ans=ans[:2]+'D'\n",
    "    return ans\n",
    "labels=list(map(keyword2Label,keywords))\n",
    "print(keywords[:10])\n",
    "print(labels[:10])"
   ]
  },
  {
   "cell_type": "code",
   "execution_count": 8,
   "metadata": {
    "ExecuteTime": {
     "end_time": "2017-09-15T07:41:58.889047Z",
     "start_time": "2017-09-15T07:41:55.739078Z"
    },
    "collapsed": true
   },
   "outputs": [],
   "source": [
    "#clean the texts\n",
    "def cleanText(text):\n",
    "    ans = re.sub(r'\\([^)]*\\)', '', text)\n",
    "    sentences_strings_ted = []\n",
    "    for line in ans.split('\\n'):\n",
    "        m = re.match(r'^(?:(?P<precolon>[^:]{,20}):)?(?P<postcolon>.*)$', line)\n",
    "        sentences_strings_ted.extend(sent for sent in m.groupdict()['postcolon'].split('.') if sent)\n",
    "    sentences_ted = []\n",
    "    for sent_str in sentences_strings_ted:\n",
    "        tokens = re.sub(r\"[^a-z0-9]+\", \" \", sent_str.lower()).split()\n",
    "        if len(tokens)>0:\n",
    "            sentences_ted.append(tokens)\n",
    "    return sentences_ted\n",
    "\n",
    "for i in range(len(texts)):\n",
    "    text=cleanText(texts[i])\n",
    "    texts[i]=text"
   ]
  },
  {
   "cell_type": "code",
   "execution_count": 11,
   "metadata": {
    "ExecuteTime": {
     "end_time": "2017-09-15T07:42:16.908613Z",
     "start_time": "2017-09-15T07:42:16.898577Z"
    },
    "collapsed": true
   },
   "outputs": [],
   "source": [
    "raw_data=list(zip(texts,labels))\n",
    "import random\n",
    "random.shuffle(raw_data)\n",
    "raw_train=raw_data[:1585]\n",
    "raw_val=raw_data[1585:1835]\n",
    "raw_test=raw_data[1835:]"
   ]
  },
  {
   "cell_type": "code",
   "execution_count": 12,
   "metadata": {
    "ExecuteTime": {
     "end_time": "2017-09-15T07:42:19.179195Z",
     "start_time": "2017-09-15T07:42:16.910611Z"
    },
    "collapsed": true
   },
   "outputs": [],
   "source": [
    "#handle raw train, record a counter and transform the rare word in train and the unseen data in val\\test as <unseen>\n",
    "# ...\n",
    "import collections\n",
    "counter=collections.Counter()\n",
    "for text_label in raw_train:\n",
    "    text=text_label[0]\n",
    "    for sentence in text:\n",
    "        counter.update(sentence)\n",
    "        \n",
    "def handle_unseen(raw_train,counter=counter,min_count=10):\n",
    "    for text_label in raw_train:\n",
    "        text=text_label[0]\n",
    "        for sentence in text:\n",
    "            for i in range(len(sentence)):\n",
    "                if counter.get(sentence[i],0)<min_count:\n",
    "                    sentence[i]='<unseen>'\n",
    "    return\n",
    "\n",
    "handle_unseen(raw_train)\n",
    "handle_unseen(raw_val)\n",
    "handle_unseen(raw_test)\n",
    "                "
   ]
  },
  {
   "cell_type": "code",
   "execution_count": 13,
   "metadata": {
    "ExecuteTime": {
     "end_time": "2017-09-15T07:42:19.920140Z",
     "start_time": "2017-09-15T07:42:19.183155Z"
    },
    "collapsed": true
   },
   "outputs": [],
   "source": [
    "#show hist of label\n",
    "import seaborn as sns\n",
    "import collections\n",
    "import matplotlib.pyplot as plt\n",
    "\n",
    "def show_pie(raw_train):\n",
    "    counter=collections.Counter()\n",
    "    for text_label in raw_train:\n",
    "        label=text_label[1]\n",
    "        counter.update([label])\n",
    "        \n",
    "    labels = []\n",
    "    fracs = []\n",
    "    for k in counter:\n",
    "        labels.append(k)\n",
    "        fracs.append(counter.get(k))\n",
    "    plt.axes(aspect=1)  # set this , Figure is round, otherwise it is an ellipse\n",
    "    #autopct ，show percet\n",
    "    plt.pie(x=fracs, labels=labels,autopct='%3.1f %%',\n",
    "            shadow=True, labeldistance=1.1, startangle = 90,pctdistance = 0.6)\n",
    "    plt.show()\n",
    "    \n"
   ]
  },
  {
   "cell_type": "code",
   "execution_count": 14,
   "metadata": {
    "ExecuteTime": {
     "end_time": "2017-09-15T07:42:20.286117Z",
     "start_time": "2017-09-15T07:42:19.922118Z"
    }
   },
   "outputs": [
    {
     "data": {
      "image/png": "[encoded data removed]",
      "text/plain": [
       "<matplotlib.figure.Figure at 0x22c2a2844a8>"
      ]
     },
     "metadata": {},
     "output_type": "display_data"
    },
    {
     "data": {
      "image/png": "[encoded data removed]",
      "text/plain": [
       "<matplotlib.figure.Figure at 0x22c2a283a58>"
      ]
     },
     "metadata": {},
     "output_type": "display_data"
    },
    {
     "data": {
      "image/png": "[encoded data removed]",
      "text/plain": [
       "<matplotlib.figure.Figure at 0x22c2448e7b8>"
      ]
     },
     "metadata": {},
     "output_type": "display_data"
    }
   ],
   "source": [
    "show_pie(raw_train)\n",
    "show_pie(raw_val)\n",
    "show_pie(raw_test)"
   ]
  },
  {
   "cell_type": "markdown",
   "metadata": {},
   "source": [
    "Word embedding\n",
    "\n",
    "Train a word2vec model on train data"
   ]
  },
  {
   "cell_type": "code",
   "execution_count": 15,
   "metadata": {
    "ExecuteTime": {
     "end_time": "2017-09-15T07:42:20.716256Z",
     "start_time": "2017-09-15T07:42:20.288124Z"
    }
   },
   "outputs": [
    {
     "name": "stderr",
     "output_type": "stream",
     "text": [
      "C:\\ProgramData\\Anaconda2\\envs\\tf\\lib\\site-packages\\gensim\\utils.py:865: UserWarning: detected Windows; aliasing chunkize to chunkize_serial\n",
      "  warnings.warn(\"detected Windows; aliasing chunkize to chunkize_serial\")\n"
     ]
    }
   ],
   "source": [
    "from gensim.models import Word2Vec"
   ]
  },
  {
   "cell_type": "code",
   "execution_count": 16,
   "metadata": {
    "ExecuteTime": {
     "end_time": "2017-09-15T07:42:20.761370Z",
     "start_time": "2017-09-15T07:42:20.718234Z"
    }
   },
   "outputs": [
    {
     "name": "stdout",
     "output_type": "stream",
     "text": [
      "['hello']\n",
      "['my', 'name', 'is', 'jarrett', '<unseen>', 'and', 'i', 'write', 'and', 'illustrate', 'books', 'for', 'children', 'for', 'a', 'living']\n"
     ]
    }
   ],
   "source": [
    "# ...\n",
    "sentences_ted=[]\n",
    "for text_label in raw_train:\n",
    "    text=text_label[0]\n",
    "    for sentence in text:\n",
    "        sentences_ted.append(sentence)\n",
    "        \n",
    "print(sentences_ted[0])\n",
    "print(sentences_ted[1])"
   ]
  },
  {
   "cell_type": "code",
   "execution_count": 17,
   "metadata": {
    "ExecuteTime": {
     "end_time": "2017-09-15T07:42:30.056965Z",
     "start_time": "2017-09-15T07:42:20.765361Z"
    },
    "collapsed": true
   },
   "outputs": [],
   "source": [
    "model_ted = Word2Vec(sentences_ted, size=50, min_count=10, workers=3)"
   ]
  },
  {
   "cell_type": "code",
   "execution_count": 18,
   "metadata": {
    "ExecuteTime": {
     "end_time": "2017-09-15T07:42:30.071001Z",
     "start_time": "2017-09-15T07:42:30.057978Z"
    }
   },
   "outputs": [
    {
     "data": {
      "text/plain": [
       "[('woman', 0.9069737195968628),\n",
       " ('guy', 0.8532905578613281),\n",
       " ('girl', 0.8482800722122192),\n",
       " ('lady', 0.8286720514297485),\n",
       " ('boy', 0.8124698400497437),\n",
       " ('kid', 0.7578323483467102),\n",
       " ('person', 0.7452467083930969),\n",
       " ('doctor', 0.7410908937454224),\n",
       " ('friend', 0.7271043062210083),\n",
       " ('king', 0.7228120565414429)]"
      ]
     },
     "execution_count": 18,
     "metadata": {},
     "output_type": "execute_result"
    }
   ],
   "source": [
    "model_ted.most_similar(\"man\")"
   ]
  },
  {
   "cell_type": "code",
   "execution_count": 19,
   "metadata": {
    "ExecuteTime": {
     "end_time": "2017-09-15T07:42:30.086041Z",
     "start_time": "2017-09-15T07:42:30.072004Z"
    }
   },
   "outputs": [
    {
     "data": {
      "text/plain": [
       "[('september', 0.8764429092407227),\n",
       " ('october', 0.8598310947418213),\n",
       " ('november', 0.8587208390235901),\n",
       " ('august', 0.850871205329895),\n",
       " ('july', 0.8482584953308105),\n",
       " ('december', 0.8426104784011841),\n",
       " ('june', 0.8420529961585999),\n",
       " ('2010', 0.8307728171348572),\n",
       " ('january', 0.8255229592323303),\n",
       " ('2001', 0.8202090859413147)]"
      ]
     },
     "execution_count": 19,
     "metadata": {},
     "output_type": "execute_result"
    }
   ],
   "source": [
    "model_ted.most_similar(\"march\")"
   ]
  },
  {
   "cell_type": "code",
   "execution_count": 20,
   "metadata": {
    "ExecuteTime": {
     "end_time": "2017-09-15T07:42:30.105093Z",
     "start_time": "2017-09-15T07:42:30.088047Z"
    }
   },
   "outputs": [
    {
     "data": {
      "text/plain": [
       "[('de', 0.7627787590026855),\n",
       " ('james', 0.7493435740470886),\n",
       " ('n', 0.7436138391494751),\n",
       " ('greek', 0.7105278372764587),\n",
       " ('french', 0.7074030637741089),\n",
       " ('horse', 0.6980350017547607),\n",
       " ('japanese', 0.6953980326652527),\n",
       " ('joseph', 0.6944358348846436),\n",
       " ('van', 0.6936354041099548),\n",
       " ('janeiro', 0.6934896111488342)]"
      ]
     },
     "execution_count": 20,
     "metadata": {},
     "output_type": "execute_result"
    }
   ],
   "source": [
    "model_ted.most_similar(\"<unseen>\")"
   ]
  },
  {
   "cell_type": "code",
   "execution_count": 21,
   "metadata": {
    "ExecuteTime": {
     "end_time": "2017-09-15T07:42:30.123143Z",
     "start_time": "2017-09-15T07:42:30.108100Z"
    }
   },
   "outputs": [
    {
     "data": {
      "text/plain": [
       "array([-0.14340124,  1.39428556, -0.04943061,  0.47145295, -0.10636675,\n",
       "       -0.18208236, -0.04094131, -0.67557436,  0.30723345,  1.27596557,\n",
       "        0.09135563, -0.3325738 ,  0.47800326,  0.12456412, -0.60450876,\n",
       "        1.11708176,  0.24752997, -0.82717919, -0.13310558,  0.15994118,\n",
       "       -0.51112276, -1.01088154, -0.01335207, -1.61139369,  0.12242598,\n",
       "       -0.04809613,  0.84334207,  0.32381362, -0.09765094, -0.87272358,\n",
       "       -0.74119359, -0.35010555,  0.45240566, -0.78865904, -0.19955434,\n",
       "       -0.37327629,  0.29154786,  0.38704485, -0.05849423, -0.69467473,\n",
       "        0.37260079,  1.18448365,  0.3761344 , -0.3243911 , -0.06385627,\n",
       "        0.39446151, -0.00887592, -0.40051898, -0.39728329, -0.61906725], dtype=float32)"
      ]
     },
     "execution_count": 21,
     "metadata": {},
     "output_type": "execute_result"
    }
   ],
   "source": [
    "#now use the model to transform our raw data into vector \n",
    "model_ted['<unseen>']"
   ]
  },
  {
   "cell_type": "code",
   "execution_count": 22,
   "metadata": {
    "ExecuteTime": {
     "end_time": "2017-09-15T07:42:30.158235Z",
     "start_time": "2017-09-15T07:42:30.126149Z"
    },
    "collapsed": true
   },
   "outputs": [],
   "source": [
    "def gen_data(raw_train):\n",
    "    ans_X=[]\n",
    "    ans_y=[]\n",
    "    temp=['ooo','Too','oEo','ooD','TEo', 'ToD','oED','TED']\n",
    "    for i in range(len(raw_train)):\n",
    "        text_label=raw_train[i]\n",
    "        text,label=text_label\n",
    "        ans_text=[]\n",
    "        for sentence in text:\n",
    "            for word in sentence:\n",
    "                ans_text.append(model_ted[word])\n",
    "        #print(ans_text)\n",
    "        ans_text=np.array(ans_text)\n",
    "        if(ans_text.shape[0]==0):\n",
    "            continue\n",
    "        ans_text=np.mean(ans_text,axis=0)\n",
    "        #print(ans_text.shape)\n",
    "        ans_label=np.zeros(8)\n",
    "        ans_label[temp.index(label)]=1\n",
    "        ans_X.append(ans_text)\n",
    "        ans_y.append(ans_label)\n",
    "    return np.array(ans_X),np.array(ans_y)\n",
    "\n"
   ]
  },
  {
   "cell_type": "code",
   "execution_count": 23,
   "metadata": {
    "ExecuteTime": {
     "end_time": "2017-09-15T07:42:38.858986Z",
     "start_time": "2017-09-15T07:42:30.162245Z"
    },
    "collapsed": true
   },
   "outputs": [],
   "source": [
    "train_X,train_y=gen_data(raw_train)\n",
    "val_X,val_y=gen_data(raw_val)\n",
    "test_X,test_y=gen_data(raw_test)"
   ]
  },
  {
   "cell_type": "code",
   "execution_count": 24,
   "metadata": {
    "ExecuteTime": {
     "end_time": "2017-09-15T07:42:38.867982Z",
     "start_time": "2017-09-15T07:42:38.861967Z"
    }
   },
   "outputs": [
    {
     "data": {
      "text/plain": [
       "(249, 50)"
      ]
     },
     "execution_count": 24,
     "metadata": {},
     "output_type": "execute_result"
    }
   ],
   "source": [
    "test_X.shape"
   ]
  },
  {
   "cell_type": "code",
   "execution_count": 25,
   "metadata": {
    "ExecuteTime": {
     "end_time": "2017-09-15T07:42:38.889042Z",
     "start_time": "2017-09-15T07:42:38.869989Z"
    }
   },
   "outputs": [
    {
     "data": {
      "text/plain": [
       "(1579, 50)"
      ]
     },
     "execution_count": 25,
     "metadata": {},
     "output_type": "execute_result"
    }
   ],
   "source": [
    "train_X.shape"
   ]
  },
  {
   "cell_type": "markdown",
   "metadata": {},
   "source": [
    "Text Classifier"
   ]
  },
  {
   "cell_type": "code",
   "execution_count": 26,
   "metadata": {
    "ExecuteTime": {
     "end_time": "2017-09-15T07:42:40.041101Z",
     "start_time": "2017-09-15T07:42:38.892051Z"
    },
    "collapsed": true
   },
   "outputs": [],
   "source": [
    "import tensorflow as tf"
   ]
  },
  {
   "cell_type": "code",
   "execution_count": 38,
   "metadata": {
    "ExecuteTime": {
     "end_time": "2017-09-15T07:44:15.594271Z",
     "start_time": "2017-09-15T07:44:15.388726Z"
    },
    "collapsed": true
   },
   "outputs": [],
   "source": [
    "import time\n",
    "\n",
    "class TextClassifierModel(object):\n",
    "    def __init__(self,hidden_size=100,learning_rate=1e-3,classes=8,doc_embedding=50,lambda2=1e-3):\n",
    "        print('Initialize new model')\n",
    "        self.classes=classes\n",
    "        self.learning_rate=learning_rate\n",
    "        self.hidden_size=hidden_size\n",
    "        self.doc_embedding=doc_embedding\n",
    "        self.lambda2=lambda2\n",
    "    \n",
    "    def _create_placeholders(self):\n",
    "        # Feeds for inputs. It's a list of placeholders\n",
    "        print('Create placeholders')\n",
    "        self.texts=tf.placeholder(tf.float32, shape=(None,self.doc_embedding), name='texts')\n",
    "        self.labels = tf.placeholder(tf.float32, shape=(None, self.classes),\n",
    "                                        name='labels')\n",
    "        self.dropout_proba = tf.placeholder(tf.float32, shape=(), name='dropout_proba')\n",
    "        \n",
    "    def _inference(self):\n",
    "        print('Create inference')\n",
    "        with tf.name_scope(\"network\"):\n",
    "            x = self.texts\n",
    "            w = tf.Variable(tf.random_normal([self.doc_embedding,self.hidden_size], stddev=0.1),name=\"w\")\n",
    "            b = tf.Variable(tf.zeros([self.hidden_size]))\n",
    "            h = tf.nn.dropout(tf.nn.relu(tf.matmul(x,w)+b),self.dropout_proba)\n",
    "            v = tf.Variable(tf.random_normal([self.hidden_size,self.classes], stddev=0.1),name=\"v\")\n",
    "            c = tf.Variable(tf.zeros([self.classes]))        \n",
    "            u = tf.matmul(h,v)+c\n",
    "        self._u=u\n",
    "        self._w=w\n",
    "        self._v=v\n",
    "\n",
    "            \n",
    "\n",
    "    def _create_loss(self):\n",
    "        print('Creating loss...')\n",
    "        start = time.time()\n",
    "        with tf.name_scope(\"loss\"):\n",
    "            loss=tf.nn.softmax_cross_entropy_with_logits(\n",
    "                logits=self._u,labels=self.labels)\n",
    "            self.loss=tf.reduce_mean(loss)+self.lambda2*(tf.nn.l2_loss(self._w)+tf.nn.l2_loss(self._v))\n",
    "        print('Time:', time.time() - start)\n",
    "\n",
    "\n",
    "    def _creat_optimizer(self):\n",
    "        print('Create optimizer...')\n",
    "        with tf.name_scope(\"optimizer\"):\n",
    "            self.optimizer =tf.train.AdamOptimizer(self.learning_rate).minimize(self.loss)\n",
    "            \n",
    "    def _creat_accuracy(self):\n",
    "        print('Create accuracy...')\n",
    "        with tf.name_scope(\"accuracy\"):\n",
    "            preds = tf.nn.softmax(self._u)\n",
    "            correct_preds = tf.equal(tf.argmax(preds, 1), tf.argmax(self.labels, 1))\n",
    "            self.accuracy = tf.reduce_sum(tf.cast(correct_preds, tf.float32))/(tf.cast(tf.shape(self.labels)[0], tf.float32))\n",
    "\n",
    "\n",
    "    def _create_summary(self):\n",
    "        pass\n",
    "\n",
    "    def build_graph(self):\n",
    "        self._create_placeholders()\n",
    "        self._inference()\n",
    "        self._create_loss()\n",
    "        self._creat_optimizer()\n",
    "        self._create_summary()\n",
    "        self._creat_accuracy()\n"
   ]
  },
  {
   "cell_type": "code",
   "execution_count": 39,
   "metadata": {
    "ExecuteTime": {
     "end_time": "2017-09-15T07:44:32.681183Z",
     "start_time": "2017-09-15T07:44:32.353346Z"
    }
   },
   "outputs": [
    {
     "name": "stdout",
     "output_type": "stream",
     "text": [
      "Initialize new model\n",
      "Create placeholders\n",
      "Create inference\n",
      "Creating loss...\n",
      "Time: 0.06116151809692383\n",
      "Create optimizer...\n",
      "Create accuracy...\n"
     ]
    }
   ],
   "source": [
    "model = TextClassifierModel(learning_rate=0.01,hidden_size=50,lambda2=1e-4)\n",
    "model.build_graph()"
   ]
  },
  {
   "cell_type": "code",
   "execution_count": 40,
   "metadata": {
    "ExecuteTime": {
     "end_time": "2017-09-15T07:44:39.328446Z",
     "start_time": "2017-09-15T07:44:34.025939Z"
    }
   },
   "outputs": [
    {
     "name": "stdout",
     "output_type": "stream",
     "text": [
      "Average train loss epoch 0: 1.541243310897581\n",
      "Average train accuracy epoch 0: 0.5288156867027283\n",
      "Average val accuracy epoch 0: 0.5759999752044678\n",
      "Average train loss epoch 1: 1.3578401957788775\n",
      "Average train accuracy epoch 1: 0.5332489013671875\n",
      "Average val accuracy epoch 1: 0.5759999752044678\n",
      "Average train loss epoch 2: 1.2984112635735543\n",
      "Average train accuracy epoch 2: 0.5402153134346008\n",
      "Average val accuracy epoch 2: 0.5839999914169312\n",
      "Average train loss epoch 3: 1.273230279645612\n",
      "Average train accuracy epoch 3: 0.5509816408157349\n",
      "Average val accuracy epoch 3: 0.6000000238418579\n",
      "Average train loss epoch 4: 1.260167533351529\n",
      "Average train accuracy epoch 4: 0.5535148978233337\n",
      "Average val accuracy epoch 4: 0.6000000238418579\n",
      "Average train loss epoch 5: 1.2439202281736559\n",
      "Average train accuracy epoch 5: 0.5471817851066589\n",
      "Average val accuracy epoch 5: 0.6039999723434448\n",
      "Average train loss epoch 6: 1.247815893542382\n",
      "Average train accuracy epoch 6: 0.5509816408157349\n",
      "Average val accuracy epoch 6: 0.6119999885559082\n",
      "Average train loss epoch 7: 1.2365677625902238\n",
      "Average train accuracy epoch 7: 0.5528815984725952\n",
      "Average val accuracy epoch 7: 0.6119999885559082\n",
      "Average train loss epoch 8: 1.2440347210053475\n",
      "Average train accuracy epoch 8: 0.5598480105400085\n",
      "Average val accuracy epoch 8: 0.6240000128746033\n",
      "Average train loss epoch 9: 1.220657398623805\n",
      "Average train accuracy epoch 9: 0.5566814541816711\n",
      "Average val accuracy epoch 9: 0.6119999885559082\n",
      "Average train loss epoch 10: 1.2225831785509664\n",
      "Average train accuracy epoch 10: 0.5573147535324097\n",
      "Average val accuracy epoch 10: 0.6079999804496765\n",
      "Average train loss epoch 11: 1.2148344939754856\n",
      "Average train accuracy epoch 11: 0.5585813522338867\n",
      "Average val accuracy epoch 11: 0.6000000238418579\n",
      "Average train loss epoch 12: 1.2209497728655416\n",
      "Average train accuracy epoch 12: 0.5528815984725952\n",
      "Average val accuracy epoch 12: 0.6039999723434448\n",
      "Average train loss epoch 13: 1.212537584766265\n",
      "Average train accuracy epoch 13: 0.5547814965248108\n",
      "Average val accuracy epoch 13: 0.5960000157356262\n",
      "Average train loss epoch 14: 1.2219292060021432\n",
      "Average train accuracy epoch 14: 0.5636478662490845\n",
      "Average val accuracy epoch 14: 0.6000000238418579\n",
      "Average train loss epoch 15: 1.2044466580114057\n",
      "Average train accuracy epoch 15: 0.5674477219581604\n",
      "Average val accuracy epoch 15: 0.6159999966621399\n",
      "Average train loss epoch 16: 1.213079192946034\n",
      "Average train accuracy epoch 16: 0.5471817851066589\n",
      "Average val accuracy epoch 16: 0.6000000238418579\n",
      "Average train loss epoch 17: 1.2036977890999085\n",
      "Average train accuracy epoch 17: 0.5573147535324097\n",
      "Average val accuracy epoch 17: 0.6200000047683716\n",
      "Average train loss epoch 18: 1.2086667360798005\n",
      "Average train accuracy epoch 18: 0.563014566898346\n",
      "Average val accuracy epoch 18: 0.6079999804496765\n",
      "Average train loss epoch 19: 1.1982387073578373\n",
      "Average train accuracy epoch 19: 0.5674477219581604\n",
      "Average val accuracy epoch 19: 0.628000020980835\n",
      "Total time: 1.8602309226989746 seconds\n",
      "Optimization Finished!\n",
      "Average test accuracy : 0.6104417443275452\n"
     ]
    }
   ],
   "source": [
    "\n",
    "saver = tf.train.Saver()\n",
    "batch_size=50\n",
    "n_epochs=20\n",
    "\n",
    "with tf.Session() as sess:\n",
    "    writer = tf.summary.FileWriter('./my_graph', sess.graph)\n",
    "\n",
    "    start_time = time.time()\n",
    "    sess.run(tf.global_variables_initializer())\n",
    "    n_batches = int(train_X.shape[0]/batch_size)\n",
    "    for i in range(n_epochs): # train the model n_epochs times\n",
    "        total_loss = 0\n",
    "\n",
    "        for j in range(n_batches):\n",
    "            X_batch, Y_batch = train_X[j*batch_size:(j+1)*batch_size],train_y[j*batch_size:(j+1)*batch_size]\n",
    "            _, loss_batch = sess.run([model.optimizer, model.loss], feed_dict={model.texts: X_batch,\n",
    "                                                                               model.labels:Y_batch,model.dropout_proba:0.7}) \n",
    "            total_loss += loss_batch\n",
    "        print('Average train loss epoch {0}: {1}'.format(i, total_loss/n_batches))\n",
    "        print('Average train accuracy epoch {0}: {1}'.format(i, sess.run([model.accuracy], feed_dict={model.texts: train_X,\n",
    "                                                                               model.labels:train_y,model.dropout_proba:1})[0]))\n",
    "        print('Average val accuracy epoch {0}: {1}'.format(i, sess.run([model.accuracy], feed_dict={model.texts: val_X,\n",
    "                                                                               model.labels:val_y,model.dropout_proba:1})[0]))\n",
    "\n",
    "    print('Total time: {0} seconds'.format(time.time() - start_time))\n",
    "\n",
    "    print('Optimization Finished!') \n",
    "\n",
    "    # test the model\n",
    "    print('Average test accuracy : {0}'.format( sess.run([model.accuracy], feed_dict={model.texts: test_X,\n",
    "                                                                               model.labels:test_y,model.dropout_proba:1})[0]))\n",
    "\n",
    "    writer.close()\n"
   ]
  },
  {
   "cell_type": "code",
   "execution_count": null,
   "metadata": {
    "collapsed": true
   },
   "outputs": [],
   "source": []
  }
 ],
 "metadata": {
  "kernelspec": {
   "display_name": "Python 3",
   "language": "python",
   "name": "python3"
  },
  "language_info": {
   "codemirror_mode": {
    "name": "ipython",
    "version": 3
   },
   "file_extension": ".py",
   "mimetype": "text/x-python",
   "name": "python",
   "nbconvert_exporter": "python",
   "pygments_lexer": "ipython3",
   "version": "3.5.3"
  }
 },
 "nbformat": 4,
 "nbformat_minor": 1
}
